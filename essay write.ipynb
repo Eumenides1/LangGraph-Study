{
 "cells": [
  {
   "cell_type": "code",
   "id": "initial_id",
   "metadata": {
    "collapsed": true,
    "ExecuteTime": {
     "end_time": "2024-07-28T06:21:31.250621Z",
     "start_time": "2024-07-28T06:21:31.031779Z"
    }
   },
   "source": [
    "from langgraph.graph import StateGraph, END\n",
    "from typing import TypedDict, Annotated, List\n",
    "import operator\n",
    "from langgraph.checkpoint.sqlite import SqliteSaver\n",
    "from langchain_core.messages import AnyMessage, SystemMessage, HumanMessage, AIMessage, ChatMessage\n",
    "\n",
    "memory = SqliteSaver.from_conn_string(\":memory:\")"
   ],
   "outputs": [],
   "execution_count": 1
  },
  {
   "metadata": {
    "ExecuteTime": {
     "end_time": "2024-07-28T06:21:48.118642Z",
     "start_time": "2024-07-28T06:21:48.114588Z"
    }
   },
   "cell_type": "code",
   "source": [
    "class AgentState(TypedDict):\n",
    "    task: str\n",
    "    plan: str\n",
    "    draft: str\n",
    "    critique: str\n",
    "    content: List[str]\n",
    "    revision_number: int\n",
    "    max_revisions: int"
   ],
   "id": "3cde812b82988b0b",
   "outputs": [],
   "execution_count": 2
  },
  {
   "metadata": {
    "ExecuteTime": {
     "end_time": "2024-07-28T06:23:33.859445Z",
     "start_time": "2024-07-28T06:23:33.432301Z"
    }
   },
   "cell_type": "code",
   "source": [
    "import os\n",
    "from langchain_openai import ChatOpenAI\n",
    "api_key = os.environ.get(\"MY_API_KEY\")\n",
    "base_url = os.environ.get(\"OPENAI_API_BASE\")\n",
    "model = ChatOpenAI(api_key=api_key, base_url=base_url,model=\"gpt-4-turbo\") "
   ],
   "id": "eeef11f7f5650702",
   "outputs": [],
   "execution_count": 3
  },
  {
   "metadata": {
    "ExecuteTime": {
     "end_time": "2024-07-28T06:24:29.083032Z",
     "start_time": "2024-07-28T06:24:29.076100Z"
    }
   },
   "cell_type": "code",
   "source": [
    "PLAN_PROMPT = \"\"\"您是一位专业作家，任务是为一篇文章撰写高水平的大纲。\n",
    "为用户提供的主题撰写这样的大纲。给出文章的大纲以及各部分的任何相关注释或说明。\"\"\""
   ],
   "id": "8e8231fc3ddb395a",
   "outputs": [],
   "execution_count": 4
  },
  {
   "metadata": {
    "ExecuteTime": {
     "end_time": "2024-07-28T06:28:57.751849Z",
     "start_time": "2024-07-28T06:28:57.746133Z"
    }
   },
   "cell_type": "code",
   "source": [
    "WRITER_PROMPT = \"\"\"您是一位负责撰写优秀的五段式文章的论文助手。\n",
    "根据用户的要求和初始大纲生成尽可能好的文章。\n",
    "如果用户提出批评，请对您之前的尝试给出修订版本。\n",
    "根据需要利用以下所有信息：\n",
    "------\n",
    "{content}\n",
    "\"\"\""
   ],
   "id": "7806764cd30a0a27",
   "outputs": [],
   "execution_count": 5
  },
  {
   "metadata": {
    "ExecuteTime": {
     "end_time": "2024-07-28T06:30:11.520880Z",
     "start_time": "2024-07-28T06:30:11.515009Z"
    }
   },
   "cell_type": "code",
   "source": [
    "REFLECTION_PROMPT = \"\"\"您是一位批改作文提交的老师。\n",
    "为用户的提交内容生成批评和建议。\n",
    "提供详细的建议，包括对篇幅(length)、深度(depth)、风格(styl)等方面的要求。\"\"\""
   ],
   "id": "1ba60e8fc7c1a01f",
   "outputs": [],
   "execution_count": 6
  },
  {
   "metadata": {
    "ExecuteTime": {
     "end_time": "2024-07-28T06:31:46.657416Z",
     "start_time": "2024-07-28T06:31:46.651294Z"
    }
   },
   "cell_type": "code",
   "source": "RESEARCH_PLAN_PROMPT = \"\"\"您是一位负责提供撰写论文时,负责搜集可用信息的研究人员。生成一份用于收集任何相关信息的搜索查询列表。最多只生成 3 个查询。\"\"\"",
   "id": "7360b9af70e35b99",
   "outputs": [],
   "execution_count": 7
  },
  {
   "metadata": {
    "ExecuteTime": {
     "end_time": "2024-07-28T06:42:46.593239Z",
     "start_time": "2024-07-28T06:42:46.587620Z"
    }
   },
   "cell_type": "code",
   "source": "RESEARCH_CRITIQUE_PROMPT = \"\"\"您是一位负责提供可用于进行任何所要求的修订（如下所述）的信息的研究人员。生成一份将收集任何相关信息的搜索查询列表。最多只生成 3 个查询。\"\"\"",
   "id": "d558663228b3f09f",
   "outputs": [],
   "execution_count": 8
  },
  {
   "metadata": {
    "ExecuteTime": {
     "end_time": "2024-07-28T06:43:14.958100Z",
     "start_time": "2024-07-28T06:43:14.947754Z"
    }
   },
   "cell_type": "code",
   "source": [
    "from langchain_core.pydantic_v1 import BaseModel\n",
    "\n",
    "class Queries(BaseModel):\n",
    "    queries: List[str]"
   ],
   "id": "856da525de88c6d7",
   "outputs": [],
   "execution_count": 9
  },
  {
   "metadata": {
    "ExecuteTime": {
     "end_time": "2024-07-28T06:43:34.581691Z",
     "start_time": "2024-07-28T06:43:34.572720Z"
    }
   },
   "cell_type": "code",
   "source": [
    "from tavily import TavilyClient\n",
    "import os\n",
    "tavily = TavilyClient(api_key=os.environ[\"TAVILY_API_KEY\"])"
   ],
   "id": "ea89ff0733ad32ee",
   "outputs": [],
   "execution_count": 10
  },
  {
   "metadata": {
    "ExecuteTime": {
     "end_time": "2024-07-28T06:43:59.789691Z",
     "start_time": "2024-07-28T06:43:59.785194Z"
    }
   },
   "cell_type": "code",
   "source": [
    "def plan_node(state: AgentState):\n",
    "    messages = [\n",
    "        SystemMessage(content=PLAN_PROMPT), \n",
    "        HumanMessage(content=state['task'])\n",
    "    ]\n",
    "    response = model.invoke(messages)\n",
    "    return {\"plan\": response.content}"
   ],
   "id": "328949edd406ee2",
   "outputs": [],
   "execution_count": 11
  },
  {
   "metadata": {
    "ExecuteTime": {
     "end_time": "2024-07-28T06:44:13.517146Z",
     "start_time": "2024-07-28T06:44:13.512589Z"
    }
   },
   "cell_type": "code",
   "source": [
    "def research_plan_node(state: AgentState):\n",
    "    queries = model.with_structured_output(Queries).invoke([\n",
    "        SystemMessage(content=RESEARCH_PLAN_PROMPT),\n",
    "        HumanMessage(content=state['task'])\n",
    "    ])\n",
    "    content = state['content'] or []\n",
    "    for q in queries.queries:\n",
    "        response = tavily.search(query=q, max_results=2)\n",
    "        for r in response['results']:\n",
    "            content.append(r['content'])\n",
    "    return {\"content\": content}"
   ],
   "id": "7752b1d6b72a8dff",
   "outputs": [],
   "execution_count": 12
  },
  {
   "metadata": {
    "ExecuteTime": {
     "end_time": "2024-07-28T06:46:39.772146Z",
     "start_time": "2024-07-28T06:46:39.767531Z"
    }
   },
   "cell_type": "code",
   "source": [
    "def generation_node(state: AgentState):\n",
    "    content = \"\\n\\n\".join(state['content'] or [])\n",
    "    user_message = HumanMessage(\n",
    "        content=f\"{state['task']}\\n\\nHere is my plan:\\n\\n{state['plan']}\")\n",
    "    messages = [\n",
    "        SystemMessage(\n",
    "            content=WRITER_PROMPT.format(content=content)\n",
    "        ),\n",
    "        user_message\n",
    "        ]\n",
    "    response = model.invoke(messages)\n",
    "    return {\n",
    "        \"draft\": response.content, \n",
    "        \"revision_number\": state.get(\"revision_number\", 1) + 1\n",
    "    }"
   ],
   "id": "8e78bcff6e52b7d0",
   "outputs": [],
   "execution_count": 14
  },
  {
   "metadata": {
    "ExecuteTime": {
     "end_time": "2024-07-28T06:47:59.695974Z",
     "start_time": "2024-07-28T06:47:59.690028Z"
    }
   },
   "cell_type": "code",
   "source": [
    "def reflection_node(state: AgentState):\n",
    "    messages = [\n",
    "        SystemMessage(content=REFLECTION_PROMPT), \n",
    "        HumanMessage(content=state['draft'])\n",
    "    ]\n",
    "    response = model.invoke(messages)\n",
    "    return {\"critique\": response.content}"
   ],
   "id": "dba4e86e34e6e16a",
   "outputs": [],
   "execution_count": 15
  },
  {
   "metadata": {
    "ExecuteTime": {
     "end_time": "2024-07-28T06:48:25.181439Z",
     "start_time": "2024-07-28T06:48:25.159345Z"
    }
   },
   "cell_type": "code",
   "source": [
    "def research_critique_node(state: AgentState):\n",
    "    queries = model.with_structured_output(Queries).invoke([\n",
    "        SystemMessage(content=RESEARCH_CRITIQUE_PROMPT),\n",
    "        HumanMessage(content=state['critique'])\n",
    "    ])\n",
    "    content = state['content'] or []\n",
    "    for q in queries.queries:\n",
    "        response = tavily.search(query=q, max_results=2)\n",
    "        for r in response['results']:\n",
    "            content.append(r['content'])\n",
    "    return {\"content\": content}"
   ],
   "id": "3221e242f5047bb6",
   "outputs": [],
   "execution_count": 16
  },
  {
   "metadata": {
    "ExecuteTime": {
     "end_time": "2024-07-28T06:48:53.086036Z",
     "start_time": "2024-07-28T06:48:53.082937Z"
    }
   },
   "cell_type": "code",
   "source": [
    "def should_continue(state):\n",
    "    if state[\"revision_number\"] > state[\"max_revisions\"]:\n",
    "        return END\n",
    "    return \"reflect\""
   ],
   "id": "99aa3e46e1fcd0ea",
   "outputs": [],
   "execution_count": 17
  },
  {
   "metadata": {
    "ExecuteTime": {
     "end_time": "2024-07-28T06:49:15.312726Z",
     "start_time": "2024-07-28T06:49:15.307428Z"
    }
   },
   "cell_type": "code",
   "source": "builder = StateGraph(AgentState)",
   "id": "b069022d4fe03b4",
   "outputs": [],
   "execution_count": 18
  },
  {
   "metadata": {
    "ExecuteTime": {
     "end_time": "2024-07-28T06:49:17.623633Z",
     "start_time": "2024-07-28T06:49:17.619069Z"
    }
   },
   "cell_type": "code",
   "source": [
    "builder.add_node(\"planner\", plan_node)\n",
    "builder.add_node(\"generate\", generation_node)\n",
    "builder.add_node(\"reflect\", reflection_node)\n",
    "builder.add_node(\"research_plan\", research_plan_node)\n",
    "builder.add_node(\"research_critique\", research_critique_node)"
   ],
   "id": "bc37d6033bf6ec20",
   "outputs": [],
   "execution_count": 19
  },
  {
   "metadata": {
    "ExecuteTime": {
     "end_time": "2024-07-28T06:49:27.284278Z",
     "start_time": "2024-07-28T06:49:27.281346Z"
    }
   },
   "cell_type": "code",
   "source": [
    "builder.add_conditional_edges(\n",
    "    \"generate\", \n",
    "    should_continue, \n",
    "    {END: END, \"reflect\": \"reflect\"}\n",
    ")"
   ],
   "id": "c569d79319bbabca",
   "outputs": [],
   "execution_count": 20
  },
  {
   "metadata": {
    "ExecuteTime": {
     "end_time": "2024-07-28T06:49:37.552287Z",
     "start_time": "2024-07-28T06:49:37.549118Z"
    }
   },
   "cell_type": "code",
   "source": "builder.set_entry_point(\"planner\")",
   "id": "dbeab969f7b050dc",
   "outputs": [],
   "execution_count": 21
  },
  {
   "metadata": {
    "ExecuteTime": {
     "end_time": "2024-07-28T06:49:57.708318Z",
     "start_time": "2024-07-28T06:49:57.702632Z"
    }
   },
   "cell_type": "code",
   "source": [
    "builder.add_edge(\"planner\", \"research_plan\")\n",
    "builder.add_edge(\"research_plan\", \"generate\")\n",
    "\n",
    "builder.add_edge(\"reflect\", \"research_critique\")\n",
    "builder.add_edge(\"research_critique\", \"generate\")"
   ],
   "id": "ff15c6d7e267592e",
   "outputs": [],
   "execution_count": 22
  },
  {
   "metadata": {
    "ExecuteTime": {
     "end_time": "2024-07-28T06:50:06.031820Z",
     "start_time": "2024-07-28T06:50:06.025417Z"
    }
   },
   "cell_type": "code",
   "source": "graph = builder.compile(checkpointer=memory)",
   "id": "89382f8caf35ee6c",
   "outputs": [],
   "execution_count": 23
  },
  {
   "metadata": {
    "ExecuteTime": {
     "end_time": "2024-07-28T06:50:11.740202Z",
     "start_time": "2024-07-28T06:50:11.259236Z"
    }
   },
   "cell_type": "code",
   "source": [
    "from IPython.display import Image\n",
    "\n",
    "Image(graph.get_graph().draw_png())"
   ],
   "id": "920362c90bd0ae05",
   "outputs": [
    {
     "data": {
      "image/png": "[encoded data removed]",
      "text/plain": [
       "<IPython.core.display.Image object>"
      ]
     },
     "execution_count": 24,
     "metadata": {},
     "output_type": "execute_result"
    }
   ],
   "execution_count": 24
  },
  {
   "metadata": {
    "ExecuteTime": {
     "end_time": "2024-07-28T06:52:39.474845Z",
     "start_time": "2024-07-28T06:50:43.102840Z"
    }
   },
   "cell_type": "code",
   "source": [
    "thread = {\"configurable\": {\"thread_id\": \"1\"}}\n",
    "for s in graph.stream({\n",
    "    'task': \"what is the difference between langchain and langsmith\",\n",
    "    \"max_revisions\": 2,\n",
    "    \"revision_number\": 1,\n",
    "}, thread):\n",
    "    print(s)"
   ],
   "id": "58504de41b48e804",
   "outputs": [
    {
     "name": "stdout",
     "output_type": "stream",
     "text": [
      "{'planner': {'plan': 'Title: Exploring the Differences: LangChain vs. LangSmith\\n\\nIntroduction:\\n- Brief overview of the increasing role of language models in technology.\\n- Introduction to LangChain and LangSmith as tools built on language models.\\n- Statement of intent to explore their differences, functionalities, and applications.\\n\\nI. Understanding LangChain\\n   A. Definition and Purpose\\n      - Explanation of what LangChain is.\\n      - Discussion on its primary function and target users.\\n   B. Core Features\\n      - Detailed description of key features such as modular design, focus on chaining APIs, and flexibility in integrating external data.\\n   C. Use Cases\\n      - Examples of scenarios or projects where LangChain is ideally suited.\\n      - Highlight specific industries or domains benefiting from LangChain.\\n\\nII. Understanding LangSmith\\n   A. Definition and Purpose\\n      - Explanation of what LangSmith is.\\n      - Discussion on its primary function and target users.\\n   B. Core Features\\n      - Description of unique features such as built-in templates, ease of use, and design for non-developers.\\n   C. Use Cases\\n      - Examples of practical applications for LangSmith.\\n      - Highlight specific tasks or projects where LangSmith offers the most advantages.\\n\\nIII. Comparative Analysis of LangChain and LangSmith\\n   A. Interface and Usability\\n      - Comparison of user interface and ease of use.\\n      - Discussion on learning curve and accessibility for non-technical users.\\n   B. Flexibility and Customization\\n      - Examining the extent of customization each tool offers.\\n      - Which tool provides more flexibility in terms of integration and scalability?\\n   C. Target Audience\\n      - Differences in the primary users each tool aims to serve.\\n      - Insights into whether one is more enterprise-oriented than the other.\\n\\nIV. Choosing Between LangChain and LangSmith\\n   A. Factors to Consider\\n      - Discuss factors like project size, technical skill level, and specific needs.\\n   B. Recommendations Based on Use-Case Scenarios\\n      - Suggest which tool might be better for different types of users or projects.\\n      - Provide a decision-making framework for potential adopters.\\n\\nConclusion:\\n- Recapitulate the main points about LangChain and LangSmith.\\n- Final thoughts on the importance of selecting the right tool based on specific needs and capabilities.\\n- Encouragement for further exploration and adoption based on evolving project requirements and technological advancements.\\n\\nNote: Throughout the outline, provide links to additional resources, user testimonials, and expert opinions where appropriate to offer readers comprehensive insight and real-world validation of the discussed points.'}}\n",
      "{'research_plan': {'content': ['This report aims to provide a detailed analysis of the difference between LangChain and LangSmith based on the information available from various sources. ## LangChain: A Language Model Software Tool for Prototyping LangChain is a language model software tool that is primarily focused on helping developers build prototypes. It provides a ...', 'Langchain vs Langsmith: Unpacking the AI Language Model Showdown\\nOverview of Langchain and Langsmith\\nLangchain is a versatile open-source framework that enables you to build applications utilizing large language models (LLM) like GPT-3. Check out our free WhatsApp channel to stay educated on LLM developments:\\nJoin the Finxter Academy and unlock access to premium courses 👑 to certify your skills in exponential technologies and programming.\\n Frequently Asked Questions\\nWhether you’re trying to figure out which tool fits your needs or you’re just getting started with language model automation, these FAQs will help shed light on the common curiosities about Langchain and LangSmith.\\n The best way to find out is to reach out to them through the LangSmith Walkthrough page or to inquire about access directly through their support channels.\\n Here’s how you might start a simple Langchain project in Python:\\nTo integrate LangSmith, you could write something like this:\\nYou’re not limited to Python, though.', \"Let's have a side-by-side comparison of LangChain vs LangSmith to find out which one is better. This software comparison between LangChain and LangSmith is based on genuine user reviews. Compare software prices, features, support, ease of use, and user reviews to make the best choice between these, and decide whether LangChain or LangSmith ...\", 'Find software to compare. Compare LangChain vs. LangSmith using this comparison chart. Compare price, features, and reviews of the software side-by-side to make the best choice for your business.', 'Langchain vs Langsmith: Unpacking the AI Language Model Showdown\\nOverview of Langchain and Langsmith\\nLangchain is a versatile open-source framework that enables you to build applications utilizing large language models (LLM) like GPT-3. Check out our free WhatsApp channel to stay educated on LLM developments:\\nJoin the Finxter Academy and unlock access to premium courses 👑 to certify your skills in exponential technologies and programming.\\n Frequently Asked Questions\\nWhether you’re trying to figure out which tool fits your needs or you’re just getting started with language model automation, these FAQs will help shed light on the common curiosities about Langchain and LangSmith.\\n The best way to find out is to reach out to them through the LangSmith Walkthrough page or to inquire about access directly through their support channels.\\n Here’s how you might start a simple Langchain project in Python:\\nTo integrate LangSmith, you could write something like this:\\nYou’re not limited to Python, though.', 'LangSmith can also be useful to migrate between LLMs. LangSmith is ushering in an era where the LLM becomes a utility, and Generative Apps become multi-LLM based. With Gen-Apps migrating between LLMs, based on cost, performance, and latency. Metrics are logged to LangSmith from a LangChain application by making use of tags in the LangChain code.']}}\n",
      "{'generate': {'draft': \"Title: **Exploring the Differences: LangChain vs. LangSmith**\\n\\n**Introduction:**\\nIn today's rapidly evolving digital landscape, language models are becoming increasingly integral to technological advancement. Two notable tools in this arena are LangChain and LangSmith, each built to leverage the capabilities of large language models (LLMs) like GPT-3. This article aims to delineate their differences, functionalities, and specific applications, providing a clear understanding of which tool might best suit different technological needs.\\n\\n**I. Understanding LangChain:**\\n   **A. Definition and Purpose:**\\n      LangChain is a versatile open-source framework designed to facilitate the building of applications using LLMs. It is primarily geared towards developers and engineers who require a robust environment for prototyping and integrating language models into complex systems.\\n   **B. Core Features:**\\n      The framework is known for its modular design, which allows for extensive customization and flexibility. It emphasizes chaining APIs and incorporating external data sources seamlessly, making it a powerful tool for developing sophisticated language-driven applications.\\n   **C. Use Cases:**\\n      LangChain excels in environments where rapid prototyping and integration with existing data systems are required. It is particularly beneficial in sectors like finance, healthcare, and customer service, where tailored data solutions are crucial.\\n\\n**II. Understanding LangSmith:**\\n   **A. Definition and Purpose:**\\n      LangSmith offers a slightly different approach; it simplifies the integration of LLMs into applications, targeting both developers and non-developers. This tool is about making language models more accessible and manageable across various platforms.\\n   **B. Core Features:**\\n      It boasts built-in templates and a user-friendly interface that lower the entry barrier for those unfamiliar with coding. LangSmith is designed to support easy migration between different LLMs, enhancing its appeal by focusing on utility and multi-LLM compatibility.\\n   **C. Use Cases:**\\n      LangSmith is ideal for projects where ease of use and quick deployment are paramount. It finds its strength in educational technology, marketing, and small to medium business applications, where simplicity and efficiency are valued.\\n\\n**III. Comparative Analysis of LangChain and LangSmith:**\\n   **A. Interface and Usability:**\\n      While LangChain offers a more flexible and developer-centric interface, LangSmith caters to a broader audience with its intuitive design and simpler user experience. The learning curve for LangSmith is notably less steep compared to LangChain.\\n   **B. Flexibility and Customization:**\\n      LangChain provides superior customization and integration capabilities, suited for detailed and complex project requirements. LangSmith, while less flexible in customization, offers significant advantages in terms of ease of setup and management.\\n   **C. Target Audience:**\\n      LangChain is more enterprise-oriented, perfect for developers looking for a scalable and adaptable tool. LangSmith, on the other hand, aims to democratize the use of LLMs among non-developers and smaller organizations.\\n\\n**IV. Choosing Between LangChain and LangSmith:**\\n   **A. Factors to Consider:**\\n      Key considerations include the technical skill level of the user, the scale of the project, and specific functional requirements. The choice also depends on the need for integration with existing systems and the desired speed of deployment.\\n   **B. Recommendations Based on Use-Case Scenarios:**\\n      For complex, scalable projects requiring detailed customization, LangChain is the preferable choice. Conversely, for quicker, simpler applications and for users with limited programming expertise, LangSmith is recommended.\\n\\n**Conclusion:**\\nThis comparison underscores the importance of understanding specific project needs and user capabilities when choosing between LangChain and LangSmith. Both tools offer unique strengths that can significantly enhance project outcomes in different contexts. As technology continues to advance, the potential for these tools to evolve and better serve their users is vast, and continued exploration and adoption are encouraged to maximize their benefits.\\n\\n**Note:** Throughout this article, further insights, user testimonials, and expert opinions are linked to provide a comprehensive view and validate the discussed points, ensuring readers have all necessary resources at their disposal.\", 'revision_number': 2}}\n",
      "{'reflect': {'critique': '**批评与建议：**\\n\\n**篇幅（Length）：**\\n您的文章长度适中，能够覆盖主题所需的关键信息而又不显得冗长。每一部分都恰当地划分，有助于读者理解和跟随内容。\\n\\n**深度（Depth）：**\\n您已经成功地概述了LangChain和LangSmith的基本功能和用例，但文章在对每种工具的技术细节和实际应用深度上还有提升空间。增加更多实际案例分析、性能比较数据或用户反馈，可以使内容更具体、更有说服力。例如，在“比较分析”部分，您可以提供一些具体的性能评估或用户满意度调查结果来支持您的论点。\\n\\n**风格（Style）：**\\n您的写作风格清晰、正式，适合于科技领域的比较分析。然而，增加一些图表或视觉元素可能会使文章更加引人注目和易于理解。尤其是在比较两种工具的特性时，使用表格或图形来直观展示差异可以大大提高文章的可读性和吸引力。\\n\\n**建议：**\\n1. **增加实际案例：** 提供一些具体的使用案例或案例研究，展示LangChain和LangSmith在实际操作中的表现和用户反馈。\\n2. **引入数据和图表：** 使用数据支持您的分析，如性能测试结果、用户满意度调查等。图表和表格也能帮助读者更好地理解技术比较。\\n3. **细化技术描述：** 对每个工具的技术特性进行更详细的描述，比如API的具体功能、支持的语言模型等。\\n4. **增强互动元素：** 考虑在文章中加入更多互动元素，如视频教程链接或互动式图表，这可以使内容更为生动，增加用户参与度。\\n5. **阅读体验优化：** 考虑文章的在线阅读体验，适当增加标题和子标题的使用，改善段落的布局，使内容更加易于扫描阅读。\\n\\n总体而言，您的文章为读者提供了有价值的信息，并且布局合理。通过增加一些深入分析和视觉元素，可以使文章更加完整和吸引人。'}}\n",
      "{'research_critique': {'content': ['This report aims to provide a detailed analysis of the difference between LangChain and LangSmith based on the information available from various sources. ## LangChain: A Language Model Software Tool for Prototyping LangChain is a language model software tool that is primarily focused on helping developers build prototypes. It provides a ...', 'Langchain vs Langsmith: Unpacking the AI Language Model Showdown\\nOverview of Langchain and Langsmith\\nLangchain is a versatile open-source framework that enables you to build applications utilizing large language models (LLM) like GPT-3. Check out our free WhatsApp channel to stay educated on LLM developments:\\nJoin the Finxter Academy and unlock access to premium courses 👑 to certify your skills in exponential technologies and programming.\\n Frequently Asked Questions\\nWhether you’re trying to figure out which tool fits your needs or you’re just getting started with language model automation, these FAQs will help shed light on the common curiosities about Langchain and LangSmith.\\n The best way to find out is to reach out to them through the LangSmith Walkthrough page or to inquire about access directly through their support channels.\\n Here’s how you might start a simple Langchain project in Python:\\nTo integrate LangSmith, you could write something like this:\\nYou’re not limited to Python, though.', \"Let's have a side-by-side comparison of LangChain vs LangSmith to find out which one is better. This software comparison between LangChain and LangSmith is based on genuine user reviews. Compare software prices, features, support, ease of use, and user reviews to make the best choice between these, and decide whether LangChain or LangSmith ...\", 'Find software to compare. Compare LangChain vs. LangSmith using this comparison chart. Compare price, features, and reviews of the software side-by-side to make the best choice for your business.', 'Langchain vs Langsmith: Unpacking the AI Language Model Showdown\\nOverview of Langchain and Langsmith\\nLangchain is a versatile open-source framework that enables you to build applications utilizing large language models (LLM) like GPT-3. Check out our free WhatsApp channel to stay educated on LLM developments:\\nJoin the Finxter Academy and unlock access to premium courses 👑 to certify your skills in exponential technologies and programming.\\n Frequently Asked Questions\\nWhether you’re trying to figure out which tool fits your needs or you’re just getting started with language model automation, these FAQs will help shed light on the common curiosities about Langchain and LangSmith.\\n The best way to find out is to reach out to them through the LangSmith Walkthrough page or to inquire about access directly through their support channels.\\n Here’s how you might start a simple Langchain project in Python:\\nTo integrate LangSmith, you could write something like this:\\nYou’re not limited to Python, though.', 'LangSmith can also be useful to migrate between LLMs. LangSmith is ushering in an era where the LLM becomes a utility, and Generative Apps become multi-LLM based. With Gen-Apps migrating between LLMs, based on cost, performance, and latency. Metrics are logged to LangSmith from a LangChain application by making use of tags in the LangChain code.', 'In this case study, we will go over what this feature entails and how LangSmith helped during the development process. ... LangGraph, and LangSmith. They used LangChain to stay agnostic to the underlying LLM they used and manage integrations with thousands of tools. LangGraph helped them orchestrate complex custom agent architectures. They used ...', \"The company has 70+ businesses in fields such as\\nLangChain Partners with CommandBar on their Copilot User Assistant\\nCommandBar is a user assistance platform that helps software companies make their products easy to use by capturing and predicting user intent, and then delivering\\nLangChain partners with Elastic to launch the Elastic AI Assistant\\nElastic, a leading search analytics company, serving over 20k customers worldwide, enables organizations to securely harness search-powered AI so anyone can find the answers they\\nAlly Financial Collaborates with LangChain to Deliver Critical Coding Module to Mask Personal Identifying Information in a Compliant and Safe Manner\\nAlly Financial, the largest digital-only bank in the US and a leading auto lender, has recently collaborated with LangChain to release the first initial coding\\nLLMs accelerate Adyen's support team through smart-ticket routing and support agent copilot\\nChallenge\\nAs global commerce accelerates, Adyen, a publicly-traded financial technology platform, is helping large companies like Meta, Uber, H&M, and Microsoft achieve their\\nLangChain Expands Collaboration with Microsoft\\n LangChain helps developers build context-aware reasoning applications and powers some of the most\\nMorningstar Intelligence Engine puts personalized investment insights at analysts' fingertips\\nChallenge\\nFinancial services is one of the most data-driven industries and financial professionals are always hungry for more data and better tools to drive value\\nRobocorp’s code generation assistant makes building Python automation easy for developers\\nChallenge\\nRobocorp was founded in 2019 out of frustration that the promise of developers being able to automate monotonous work hadn’t been realized. Case Studies\\nRakuten Group builds with LangChain and LangSmith to deliver premium products for its business clients and employees\\nRakuten Group is well known for operating one of the largest online shopping malls in Japan. Today, we’re thrilled to announce a collaboration between LangChain and Microsoft.\\n Right\\n© LangChain Blog 2024\", 'Langchain vs Langsmith: Unpacking the AI Language Model Showdown\\nOverview of Langchain and Langsmith\\nLangchain is a versatile open-source framework that enables you to build applications utilizing large language models (LLM) like GPT-3. Check out our free WhatsApp channel to stay educated on LLM developments:\\nJoin the Finxter Academy and unlock access to premium courses 👑 to certify your skills in exponential technologies and programming.\\n Frequently Asked Questions\\nWhether you’re trying to figure out which tool fits your needs or you’re just getting started with language model automation, these FAQs will help shed light on the common curiosities about Langchain and LangSmith.\\n The best way to find out is to reach out to them through the LangSmith Walkthrough page or to inquire about access directly through their support channels.\\n Here’s how you might start a simple Langchain project in Python:\\nTo integrate LangSmith, you could write something like this:\\nYou’re not limited to Python, though.', 'What is LangSmith? 🤔. When Langchain was originally created, the goal was to reduce the barrier to entry with respect to building prototypes.', \"LangSmith makes it easy to attach user feedback to traces. It's often helpful to expose a simple mechanism (such as a thumbs-up, thumbs-down button) to collect user feedback for your application responses. You can then use the LangSmith SDK or API to send feedback for a trace. To get the run_id of a logged run, see this guide.\", \"LangSmith now supports grouping by both tags and metadata in monitoring charts. Here's a quick refresher on how you can log traces with tags and metadata. For more information, check out our docs. LangChain. If using LangChain, you can send a dictionary with tags and/or metadata in invoke to any Runnable. The same concept works in TypeScript as ...\"]}}\n",
      "{'generate': {'draft': \"Title: **Exploring the Differences: LangChain vs. LangSmith**\\n\\n**Introduction:**\\nIn the burgeoning field of technology, language models have become pivotal, driving innovations and efficiencies across various sectors. Two such tools that leverage these language models are LangChain and LangSmith, each designed to streamline and enhance the application of large language models (LLMs) like GPT-3 in development environments. This article aims to dissect and compare these tools to understand their unique functionalities, features, and ideal use cases.\\n\\n**I. Understanding LangChain:**\\n   **A. Definition and Purpose:**\\n      LangChain is an open-source framework that assists developers in creating applications using LLMs. It's designed with a focus on flexibility and enabling rapid prototyping.\\n   **B. Core Features:**\\n      Key features of LangChain include its modular design, which allows developers to chain APIs effortlessly and integrate external data sources seamlessly into their projects.\\n   **C. Use Cases:**\\n      LangChain shines in scenarios requiring complex integrations and custom workflow automation. Industries such as tech and finance, where tailored solutions are crucial, benefit significantly from LangChain's capabilities.\\n\\n**II. Understanding LangSmith:**\\n   **A. Definition and Purpose:**\\n      LangSmith, while also leveraging LLMs, focuses on simplifying the user experience and making the power of language models accessible to non-developers.\\n   **B. Core Features:**\\n      It distinguishes itself with features like built-in templates for common tasks, a user-friendly interface, and mechanisms for easy feedback integration, such as thumbs-up and thumbs-down buttons for user responses.\\n   **C. Use Cases:**\\n      LangSmith is particularly useful in environments where quick deployment of LLM applications is needed without deep technical expertise. Marketing and customer service are examples of sectors where LangSmith can be effectively applied.\\n\\n**III. Comparative Analysis of LangChain and LangSmith:**\\n   **A. Interface and Usability:**\\n      While LangChain offers a robust set of tools for developers, its interface requires technical knowledge, contrasting with LangSmith’s more accessible and intuitive design.\\n   **B. Flexibility and Customization:**\\n      LangChain provides greater flexibility and customization, catering to developers looking to build complex systems. LangSmith, although less flexible, offers sufficient customization for non-technical users to perform a wide range of tasks effectively.\\n   **C. Target Audience:**\\n      LangChain is aimed primarily at developers and technical users, whereas LangSmith targets a broader audience, including non-technical users who need to leverage LLMs without coding.\\n\\n**IV. Choosing Between LangChain and LangSmith:**\\n   **A. Factors to Consider:**\\n      Decision factors include the technical skill level of the user, the complexity of the project, and specific functional requirements.\\n   **B. Recommendations Based on Use-Case Scenarios:**\\n      For complex, custom software solutions, LangChain is preferable. For simpler, template-driven tasks requiring quick turnaround, LangSmith would be more suitable. A decision-making framework can help potential adopters choose based on their specific needs.\\n\\n**Conclusion:**\\nThis comparison highlights that while both LangChain and LangSmith serve to harness the power of LLMs, they cater to different needs and user bases. Whether one opts for LangChain's robust, developer-focused framework or LangSmith's user-friendly interface depends largely on the project requirements and the user's technical prowess. As the landscape of LLMs continues to evolve, both tools will play significant roles in shaping how businesses and individuals leverage this technology. Further exploration and adoption should be guided by ongoing project needs and technological advancements, ensuring that the chosen tool aligns perfectly with the user’s objectives.\", 'revision_number': 3}}\n"
     ]
    }
   ],
   "execution_count": 25
  },
  {
   "metadata": {
    "ExecuteTime": {
     "end_time": "2024-07-28T07:08:52.911581Z",
     "start_time": "2024-07-28T07:08:50.529823Z"
    }
   },
   "cell_type": "code",
   "source": "!pip install helper",
   "id": "288f0f59047b40b4",
   "outputs": [
    {
     "name": "stdout",
     "output_type": "stream",
     "text": [
      "Collecting helper\r\n",
      "  Downloading helper-2.5.0.tar.gz (18 kB)\r\n",
      "  Preparing metadata (setup.py) ... \u001B[?25ldone\r\n",
      "\u001B[?25hRequirement already satisfied: pyyaml in /Users/eumenides/miniforge3/envs/langgraph/lib/python3.10/site-packages (from helper) (6.0.1)\r\n",
      "Building wheels for collected packages: helper\r\n",
      "  Building wheel for helper (setup.py) ... \u001B[?25ldone\r\n",
      "\u001B[?25h  Created wheel for helper: filename=helper-2.5.0-py2.py3-none-any.whl size=19169 sha256=4b4238c65dc8d48951bb791018213578b8dacb3719d35c0623be07268f8d030c\r\n",
      "  Stored in directory: /Users/eumenides/Library/Caches/pip/wheels/13/8a/92/4a4267b8371d6e453121c917021173b4a682d691f123b9f647\r\n",
      "Successfully built helper\r\n",
      "Installing collected packages: helper\r\n",
      "Successfully installed helper-2.5.0\r\n"
     ]
    }
   ],
   "execution_count": 27
  },
  {
   "metadata": {
    "ExecuteTime": {
     "end_time": "2024-07-28T07:08:55.981040Z",
     "start_time": "2024-07-28T07:08:55.956770Z"
    }
   },
   "cell_type": "code",
   "source": [
    "import warnings\n",
    "warnings.filterwarnings(\"ignore\")\n",
    "from helper import ewriter, writer_gui"
   ],
   "id": "1f630dee04bc5976",
   "outputs": [
    {
     "ename": "ImportError",
     "evalue": "cannot import name 'ewriter' from 'helper' (/Users/eumenides/miniforge3/envs/langgraph/lib/python3.10/site-packages/helper/__init__.py)",
     "output_type": "error",
     "traceback": [
      "\u001B[0;31m---------------------------------------------------------------------------\u001B[0m",
      "\u001B[0;31mImportError\u001B[0m                               Traceback (most recent call last)",
      "Cell \u001B[0;32mIn[28], line 3\u001B[0m\n\u001B[1;32m      1\u001B[0m \u001B[38;5;28;01mimport\u001B[39;00m \u001B[38;5;21;01mwarnings\u001B[39;00m\n\u001B[1;32m      2\u001B[0m warnings\u001B[38;5;241m.\u001B[39mfilterwarnings(\u001B[38;5;124m\"\u001B[39m\u001B[38;5;124mignore\u001B[39m\u001B[38;5;124m\"\u001B[39m)\n\u001B[0;32m----> 3\u001B[0m \u001B[38;5;28;01mfrom\u001B[39;00m \u001B[38;5;21;01mhelper\u001B[39;00m \u001B[38;5;28;01mimport\u001B[39;00m ewriter, writer_gui\n",
      "\u001B[0;31mImportError\u001B[0m: cannot import name 'ewriter' from 'helper' (/Users/eumenides/miniforge3/envs/langgraph/lib/python3.10/site-packages/helper/__init__.py)"
     ]
    }
   ],
   "execution_count": 28
  },
  {
   "metadata": {},
   "cell_type": "code",
   "outputs": [],
   "execution_count": null,
   "source": "",
   "id": "d05b05c2a01d6d1e"
  }
 ],
 "metadata": {
  "kernelspec": {
   "display_name": "Python 3",
   "language": "python",
   "name": "python3"
  },
  "language_info": {
   "codemirror_mode": {
    "name": "ipython",
    "version": 2
   },
   "file_extension": ".py",
   "mimetype": "text/x-python",
   "name": "python",
   "nbconvert_exporter": "python",
   "pygments_lexer": "ipython2",
   "version": "2.7.6"
  }
 },
 "nbformat": 4,
 "nbformat_minor": 5
}
