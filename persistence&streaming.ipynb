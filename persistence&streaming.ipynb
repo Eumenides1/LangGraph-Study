{
 "cells": [
  {
   "cell_type": "code",
   "id": "initial_id",
   "metadata": {
    "collapsed": true,
    "ExecuteTime": {
     "end_time": "2024-07-28T04:05:31.963042Z",
     "start_time": "2024-07-28T04:05:31.408023Z"
    }
   },
   "source": [
    "from langgraph.graph import StateGraph, END\n",
    "from typing import TypedDict, Annotated\n",
    "import operator\n",
    "from langchain_core.messages import AnyMessage, SystemMessage, HumanMessage, ToolMessage\n",
    "from langchain_openai import ChatOpenAI\n",
    "from langchain_community.tools.tavily_search import TavilySearchResults"
   ],
   "outputs": [],
   "execution_count": 1
  },
  {
   "metadata": {
    "ExecuteTime": {
     "end_time": "2024-07-28T04:05:32.941742Z",
     "start_time": "2024-07-28T04:05:32.938541Z"
    }
   },
   "cell_type": "code",
   "source": "tool = TavilySearchResults(max_results=2)",
   "id": "9037c4a6099ec248",
   "outputs": [],
   "execution_count": 2
  },
  {
   "metadata": {
    "ExecuteTime": {
     "end_time": "2024-07-28T04:05:40.081120Z",
     "start_time": "2024-07-28T04:05:40.077384Z"
    }
   },
   "cell_type": "code",
   "source": [
    "class AgentState(TypedDict):\n",
    "    messages: Annotated[list[AnyMessage], operator.add]"
   ],
   "id": "18c94f36e7c6c9ba",
   "outputs": [],
   "execution_count": 3
  },
  {
   "metadata": {
    "ExecuteTime": {
     "end_time": "2024-07-28T04:06:31.297516Z",
     "start_time": "2024-07-28T04:06:31.292931Z"
    }
   },
   "cell_type": "code",
   "source": [
    "from langgraph.checkpoint.sqlite import SqliteSaver\n",
    "\n",
    "memory = SqliteSaver.from_conn_string(\":memory:\")"
   ],
   "id": "28ea762b37bdae99",
   "outputs": [],
   "execution_count": 5
  },
  {
   "metadata": {
    "ExecuteTime": {
     "end_time": "2024-07-28T04:06:32.425437Z",
     "start_time": "2024-07-28T04:06:32.417560Z"
    }
   },
   "cell_type": "code",
   "source": [
    "class Agent:\n",
    "    def __init__(self, model, tools, checkpointer, system=\"\"):\n",
    "        self.system = system\n",
    "        graph = StateGraph(AgentState)\n",
    "        graph.add_node(\"llm\", self.call_openai)\n",
    "        graph.add_node(\"action\", self.take_action)\n",
    "        graph.add_conditional_edges(\"llm\", self.exists_action, {True: \"action\", False: END})\n",
    "        graph.add_edge(\"action\", \"llm\")\n",
    "        graph.set_entry_point(\"llm\")\n",
    "        self.graph = graph.compile(checkpointer=checkpointer)\n",
    "        self.tools = {t.name: t for t in tools}\n",
    "        self.model = model.bind_tools(tools)\n",
    "\n",
    "    def call_openai(self, state: AgentState):\n",
    "        messages = state['messages']\n",
    "        if self.system:\n",
    "            messages = [SystemMessage(content=self.system)] + messages\n",
    "        message = self.model.invoke(messages)\n",
    "        return {'messages': [message]}\n",
    "\n",
    "    def exists_action(self, state: AgentState):\n",
    "        result = state['messages'][-1]\n",
    "        return len(result.tool_calls) > 0\n",
    "\n",
    "    def take_action(self, state: AgentState):\n",
    "        tool_calls = state['messages'][-1].tool_calls\n",
    "        results = []\n",
    "        for t in tool_calls:\n",
    "            print(f\"Calling: {t}\")\n",
    "            result = self.tools[t['name']].invoke(t['args'])\n",
    "            results.append(ToolMessage(tool_call_id=t['id'], name=t['name'], content=str(result)))\n",
    "        print(\"Back to the model!\")\n",
    "        return {'messages': results}"
   ],
   "id": "f62e988159d661f9",
   "outputs": [],
   "execution_count": 6
  },
  {
   "metadata": {
    "ExecuteTime": {
     "end_time": "2024-07-28T04:10:04.299602Z",
     "start_time": "2024-07-28T04:10:04.171482Z"
    }
   },
   "cell_type": "code",
   "source": [
    "import os\n",
    "prompt = \"\"\"你是一个聪明的研究助手。使用搜索引擎查找信息。\n",
    "你可以进行多次调用（一起或依次进行）。\n",
    "只有在确定想要什么时才查找信息。\n",
    "如果你在提出后续问题之前需要查找一些信息，你可以这样做！\n",
    "\"\"\"\n",
    "api_key = os.environ.get(\"MY_API_KEY\")\n",
    "base_url = os.environ.get(\"OPENAI_API_BASE\")\n",
    "model = ChatOpenAI(api_key=api_key, base_url=base_url,model=\"gpt-4-turbo\") \n",
    "abot = Agent(model, [tool], system=prompt, checkpointer=memory)"
   ],
   "id": "322ad0b22160e52d",
   "outputs": [],
   "execution_count": 7
  },
  {
   "metadata": {
    "ExecuteTime": {
     "end_time": "2024-07-28T04:10:23.609408Z",
     "start_time": "2024-07-28T04:10:23.602810Z"
    }
   },
   "cell_type": "code",
   "source": "messages = [HumanMessage(content=\"西安今天的天气如何?\")]",
   "id": "5e30516b57712827",
   "outputs": [],
   "execution_count": 8
  },
  {
   "metadata": {
    "ExecuteTime": {
     "end_time": "2024-07-28T04:10:32.750857Z",
     "start_time": "2024-07-28T04:10:32.745749Z"
    }
   },
   "cell_type": "code",
   "source": "thread = {\"configurable\": {\"thread_id\": \"1\"}}",
   "id": "d877c0985d623d2a",
   "outputs": [],
   "execution_count": 9
  },
  {
   "metadata": {
    "ExecuteTime": {
     "end_time": "2024-07-28T04:10:53.010583Z",
     "start_time": "2024-07-28T04:10:42.866553Z"
    }
   },
   "cell_type": "code",
   "source": [
    "for event in abot.graph.stream({\"messages\": messages}, thread):\n",
    "    for v in event.values():\n",
    "        print(v['messages'])"
   ],
   "id": "176d4b535c853bc0",
   "outputs": [
    {
     "name": "stdout",
     "output_type": "stream",
     "text": [
      "[AIMessage(content='', additional_kwargs={'tool_calls': [{'id': 'call_mWP9wiim35FvDNOIfN4HAzMs', 'function': {'arguments': '{\"query\":\"今天西安的天气\"}', 'name': 'tavily_search_results_json'}, 'type': 'function'}]}, response_metadata={'token_usage': {'completion_tokens': 25, 'prompt_tokens': 178, 'total_tokens': 203}, 'model_name': 'gpt-4-turbo-2024-04-09', 'system_fingerprint': 'fp_0993c4a4c0', 'finish_reason': 'tool_calls', 'logprobs': None}, id='run-6226e07b-63bf-4f71-9b40-244de66a1587-0', tool_calls=[{'name': 'tavily_search_results_json', 'args': {'query': '今天西安的天气'}, 'id': 'call_mWP9wiim35FvDNOIfN4HAzMs', 'type': 'tool_call'}], usage_metadata={'input_tokens': 178, 'output_tokens': 25, 'total_tokens': 203})]\n",
      "Calling: {'name': 'tavily_search_results_json', 'args': {'query': '今天西安的天气'}, 'id': 'call_mWP9wiim35FvDNOIfN4HAzMs', 'type': 'tool_call'}\n",
      "Back to the model!\n",
      "[ToolMessage(content=\"[{'url': 'https://wx.weather.com.cn/mweather/101110101.shtml', 'content': '西安天气预报，及时准确发布中央气象台天气信息，便捷查询西安今日天气，西安明日天气，西安一周天气预报，西安15日天气预报，西安天气预报还提供西安各区县的生活指数、健康指数、交通指数、旅游指数，及时发布西安气象预警信号、各类气象资讯。'}, {'url': 'http://www.weather.com.cn/html/weather/101110101.shtml', 'content': '西安天气预报，及时准确发布中央气象台天气信息，便捷查询西安今日天气，西安周末天气，西安一周天气预报，西安蓝天预报，西安天气预报，西安40日天气预报，还提供西安的生活指数、健康指数、交通指数、旅游指数，及时发布西安气象预警信号、各类气象资讯。'}]\", name='tavily_search_results_json', tool_call_id='call_mWP9wiim35FvDNOIfN4HAzMs')]\n",
      "[AIMessage(content='今天西安的天气信息可以在以下两个链接中找到详细的天气预报：\\n\\n1. [中国天气网西安天气预报](https://wx.weather.com.cn/mweather/101110101.shtml)\\n2. [中国天气网西安详细天气预报](http://www.weather.com.cn/html/weather/101110101.shtml)\\n\\n这些链接提供了包括今日和未来几天的天气预报，以及生活指数、健康指数等相关信息。', response_metadata={'token_usage': {'completion_tokens': 133, 'prompt_tokens': 532, 'total_tokens': 665}, 'model_name': 'gpt-4-turbo-2024-04-09', 'system_fingerprint': 'fp_0993c4a4c0', 'finish_reason': 'stop', 'logprobs': None}, id='run-1f179204-62fd-4831-8989-05620f12c42c-0', usage_metadata={'input_tokens': 532, 'output_tokens': 133, 'total_tokens': 665})]\n"
     ]
    }
   ],
   "execution_count": 10
  },
  {
   "metadata": {
    "ExecuteTime": {
     "end_time": "2024-07-28T04:12:19.227729Z",
     "start_time": "2024-07-28T04:12:09.154303Z"
    }
   },
   "cell_type": "code",
   "source": [
    "messages = [HumanMessage(content=\"宝鸡今天的天气如何?\")]\n",
    "thread = {\"configurable\": {\"thread_id\": \"1\"}}\n",
    "for event in abot.graph.stream({\"messages\": messages}, thread):\n",
    "    for v in event.values():\n",
    "        print(v)"
   ],
   "id": "fd7f43a27fb69d63",
   "outputs": [
    {
     "name": "stdout",
     "output_type": "stream",
     "text": [
      "{'messages': [AIMessage(content='', additional_kwargs={'tool_calls': [{'id': 'call_JgmpHK97CdAKHyBocNtDMwKM', 'function': {'arguments': '{\"query\":\"今天宝鸡的天气\"}', 'name': 'tavily_search_results_json'}, 'type': 'function'}]}, response_metadata={'token_usage': {'completion_tokens': 28, 'prompt_tokens': 686, 'total_tokens': 714}, 'model_name': 'gpt-4-turbo-2024-04-09', 'system_fingerprint': 'fp_0993c4a4c0', 'finish_reason': 'tool_calls', 'logprobs': None}, id='run-63ab40d2-a95b-42a9-a071-20e38f95c633-0', tool_calls=[{'name': 'tavily_search_results_json', 'args': {'query': '今天宝鸡的天气'}, 'id': 'call_JgmpHK97CdAKHyBocNtDMwKM', 'type': 'tool_call'}], usage_metadata={'input_tokens': 686, 'output_tokens': 28, 'total_tokens': 714})]}\n",
      "Calling: {'name': 'tavily_search_results_json', 'args': {'query': '今天宝鸡的天气'}, 'id': 'call_JgmpHK97CdAKHyBocNtDMwKM', 'type': 'tool_call'}\n",
      "Back to the model!\n",
      "{'messages': [ToolMessage(content=\"[{'url': 'https://www.tianqi.com/baoji/', 'content': '天气网提供宝鸡天气预报15天,30天,今日天气,明天天气,宝鸡未来一周的天气预报,陕西宝鸡天气,宝鸡实时天气查询,宝鸡天气预报一周,7天,10天,40天的天气情况。 旅游出行,从天气网开始! ... 受台风格美残余影响及强降雨天气 北京南站今日部分列车停运 ...'}, {'url': 'https://www.tianqi.com/baoji/today/', 'content': '宝鸡天气网为您提供宝鸡天气预报24小时详情、宝鸡今日天气预报，包括今日实时温度、24小时降水概率、湿度、pm2.5、风向、紫外线强度等，助您放心出行。 ... 台风格美为何爆发式增强 格美是如何一路成为超强台风的.'}]\", name='tavily_search_results_json', tool_call_id='call_JgmpHK97CdAKHyBocNtDMwKM')]}\n",
      "{'messages': [AIMessage(content='今天宝鸡的天气信息可以在以下两个链接中找到详细的天气预报：\\n\\n1. [天气网宝鸡天气预报](https://www.tianqi.com/baoji/)\\n2. [天气网宝鸡今日天气详细预报](https://www.tianqi.com/baoji/today/)\\n\\n这些链接提供了包括今日的实时温度、降水概率、湿度、PM2.5、风向、紫外线强度等详细天气信息，以及未来几天的天气预报。', response_metadata={'token_usage': {'completion_tokens': 166, 'prompt_tokens': 1048, 'total_tokens': 1214}, 'model_name': 'gpt-4-turbo-2024-04-09', 'system_fingerprint': 'fp_0993c4a4c0', 'finish_reason': 'stop', 'logprobs': None}, id='run-625bb52d-79ec-4c73-82cd-82ffec6127d3-0', usage_metadata={'input_tokens': 1048, 'output_tokens': 166, 'total_tokens': 1214})]}\n"
     ]
    }
   ],
   "execution_count": 11
  },
  {
   "metadata": {
    "ExecuteTime": {
     "end_time": "2024-07-28T04:13:03.536492Z",
     "start_time": "2024-07-28T04:12:50.365915Z"
    }
   },
   "cell_type": "code",
   "source": [
    "messages = [HumanMessage(content=\"这两个城市哪个更暖和一些?\")]\n",
    "thread = {\"configurable\": {\"thread_id\": \"1\"}}\n",
    "for event in abot.graph.stream({\"messages\": messages}, thread):\n",
    "    for v in event.values():\n",
    "        print(v)"
   ],
   "id": "8c10f732c0d51755",
   "outputs": [
    {
     "name": "stdout",
     "output_type": "stream",
     "text": [
      "{'messages': [AIMessage(content='', additional_kwargs={'tool_calls': [{'id': 'call_iPdmukjcJPEDVvhy1QH4sqbd', 'function': {'arguments': '{\"query\": \"西安今天的实时温度\"}', 'name': 'tavily_search_results_json'}, 'type': 'function'}, {'id': 'call_DRINnoQQVqKy99nxoGR3gxqP', 'function': {'arguments': '{\"query\": \"宝鸡今天的实时温度\"}', 'name': 'tavily_search_results_json'}, 'type': 'function'}]}, response_metadata={'token_usage': {'completion_tokens': 72, 'prompt_tokens': 1236, 'total_tokens': 1308}, 'model_name': 'gpt-4-turbo-2024-04-09', 'system_fingerprint': 'fp_0993c4a4c0', 'finish_reason': 'tool_calls', 'logprobs': None}, id='run-f59fdf19-d27b-4295-aa38-88429a4fda97-0', tool_calls=[{'name': 'tavily_search_results_json', 'args': {'query': '西安今天的实时温度'}, 'id': 'call_iPdmukjcJPEDVvhy1QH4sqbd', 'type': 'tool_call'}, {'name': 'tavily_search_results_json', 'args': {'query': '宝鸡今天的实时温度'}, 'id': 'call_DRINnoQQVqKy99nxoGR3gxqP', 'type': 'tool_call'}], usage_metadata={'input_tokens': 1236, 'output_tokens': 72, 'total_tokens': 1308})]}\n",
      "Calling: {'name': 'tavily_search_results_json', 'args': {'query': '西安今天的实时温度'}, 'id': 'call_iPdmukjcJPEDVvhy1QH4sqbd', 'type': 'tool_call'}\n",
      "Calling: {'name': 'tavily_search_results_json', 'args': {'query': '宝鸡今天的实时温度'}, 'id': 'call_DRINnoQQVqKy99nxoGR3gxqP', 'type': 'tool_call'}\n",
      "Back to the model!\n",
      "{'messages': [ToolMessage(content=\"[{'url': 'https://weather.com/zh-CN/weather/today/l/469847d38b26dbfd9519a7467fbcc689c42cceb1bd104a74d6637ce8359a0fba', 'content': '今天白天和夜间的西安市, 陕西省天气预报、天气情况和多普勒雷达 - 尽在 The Weather Channel 和 Weather.com'}, {'url': 'http://www.nmc.cn/publish/forecast/ASN/xian.html', 'content': '气温预报 . 大风预报. 强对流天气预报 ... 西安天气预报 ... 本站所刊登的信息、数据和各种专栏材料，未经授权禁止下载使用 . 制作维护：国家气象中心预报系统开放实验室 地址：北京市中关村南大街46号 邮编：100081 . 京公网安备 11040102700100 ...'}]\", name='tavily_search_results_json', tool_call_id='call_iPdmukjcJPEDVvhy1QH4sqbd'), ToolMessage(content=\"[{'url': 'https://www.tianqi.com/baoji/today/', 'content': '宝鸡天气网为您提供宝鸡天气预报24小时详情、宝鸡今日天气预报，包括今日实时温度、24小时降水概率、湿度、pm2.5、风向、紫外线强度等，助您放心出行。 ... 台风格美为何爆发式增强 格美是如何一路成为超强台风的.'}, {'url': 'https://weather.com/zh-CN/weather/today/l/1ed979ff12bd41a10ec801764b86fe9de0545e7b31051426b816e07acaa77f42', 'content': '今天白天和夜间的宝鸡市, 陕西省天气预报、天气情况和多普勒雷达 - 尽在 The Weather Channel 和 Weather.com'}]\", name='tavily_search_results_json', tool_call_id='call_DRINnoQQVqKy99nxoGR3gxqP')]}\n",
      "{'messages': [AIMessage(content='从查询结果中，未能直接获取到西安和宝鸡今天的实时温度数据。建议直接访问以下链接来查看和比较两个城市的实时温度：\\n\\n1. [西安天气预报](http://www.nmc.cn/publish/forecast/ASN/xian.html)\\n2. [宝鸡今日天气详细预报](https://www.tianqi.com/baoji/today/)\\n\\n这些链接将提供最准确的实时温度信息，从而可以比较哪个城市今天更暖和。', response_metadata={'token_usage': {'completion_tokens': 153, 'prompt_tokens': 2422, 'total_tokens': 2575}, 'model_name': 'gpt-4-turbo-2024-04-09', 'system_fingerprint': 'fp_0e7b71926a', 'finish_reason': 'stop', 'logprobs': None}, id='run-1bfa1dd8-c876-4255-9c01-8e0195a93b48-0', usage_metadata={'input_tokens': 2422, 'output_tokens': 153, 'total_tokens': 2575})]}\n"
     ]
    }
   ],
   "execution_count": 12
  },
  {
   "metadata": {
    "ExecuteTime": {
     "end_time": "2024-07-28T04:13:25.463183Z",
     "start_time": "2024-07-28T04:13:23.450569Z"
    }
   },
   "cell_type": "code",
   "source": [
    "messages = [HumanMessage(content=\"这两个城市哪个更暖和一些?\")]\n",
    "thread = {\"configurable\": {\"thread_id\": \"2\"}}\n",
    "for event in abot.graph.stream({\"messages\": messages}, thread):\n",
    "    for v in event.values():\n",
    "        print(v)"
   ],
   "id": "8f58e00e903717fc",
   "outputs": [
    {
     "name": "stdout",
     "output_type": "stream",
     "text": [
      "{'messages': [AIMessage(content='请告诉我你想比较的两个城市的名字。', response_metadata={'token_usage': {'completion_tokens': 21, 'prompt_tokens': 182, 'total_tokens': 203}, 'model_name': 'gpt-4-turbo-2024-04-09', 'system_fingerprint': 'fp_0993c4a4c0', 'finish_reason': 'stop', 'logprobs': None}, id='run-c91b447c-eea4-41c3-977f-e38eb1fd9eaa-0', usage_metadata={'input_tokens': 182, 'output_tokens': 21, 'total_tokens': 203})]}\n"
     ]
    }
   ],
   "execution_count": 13
  },
  {
   "metadata": {
    "ExecuteTime": {
     "end_time": "2024-07-28T04:19:21.932590Z",
     "start_time": "2024-07-28T04:19:19.408557Z"
    }
   },
   "cell_type": "code",
   "source": "!pip install aiosqlite",
   "id": "8ddfbe53df0d08ae",
   "outputs": [
    {
     "name": "stdout",
     "output_type": "stream",
     "text": [
      "Collecting aiosqlite\r\n",
      "  Downloading aiosqlite-0.20.0-py3-none-any.whl.metadata (4.3 kB)\r\n",
      "Requirement already satisfied: typing_extensions>=4.0 in /Users/eumenides/miniforge3/envs/langgraph/lib/python3.10/site-packages (from aiosqlite) (4.12.2)\r\n",
      "Downloading aiosqlite-0.20.0-py3-none-any.whl (15 kB)\r\n",
      "Installing collected packages: aiosqlite\r\n",
      "Successfully installed aiosqlite-0.20.0\r\n"
     ]
    }
   ],
   "execution_count": 17
  },
  {
   "metadata": {
    "ExecuteTime": {
     "end_time": "2024-07-28T04:19:26.769426Z",
     "start_time": "2024-07-28T04:19:26.753721Z"
    }
   },
   "cell_type": "code",
   "source": [
    "from langgraph.checkpoint.aiosqlite import AsyncSqliteSaver\n",
    "\n",
    "memory = AsyncSqliteSaver.from_conn_string(\":memory:\")\n",
    "abot = Agent(model, [tool], system=prompt, checkpointer=memory)"
   ],
   "id": "4457d729147b852f",
   "outputs": [],
   "execution_count": 18
  },
  {
   "metadata": {},
   "cell_type": "code",
   "source": [
    "messages = [HumanMessage(content=\"What is the weather in SF?\")]\n",
    "thread = {\"configurable\": {\"thread_id\": \"4\"}}\n",
    "async for event in abot.graph.astream_events({\"messages\": messages}, thread, version=\"v1\"):\n",
    "    kind = event[\"event\"]\n",
    "    if kind == \"on_chain_stream\":\n",
    "        print(event[\"data\"][\"chunk\"][\"messages\"])\n",
    "        content = event[\"data\"][\"chunk\"].content\n",
    "        if content:\n",
    "            # Empty content in the context of OpenAI means\n",
    "            # that the model is asking for a tool to be invoked.\n",
    "            # So we only print non-empty content\n",
    "            print(content, end=\"|\")"
   ],
   "id": "51d07d7f3fb24199",
   "outputs": [],
   "execution_count": null
  },
  {
   "metadata": {},
   "cell_type": "code",
   "outputs": [],
   "execution_count": null,
   "source": "",
   "id": "9c3568c5b46644a2"
  }
 ],
 "metadata": {
  "kernelspec": {
   "display_name": "Python 3",
   "language": "python",
   "name": "python3"
  },
  "language_info": {
   "codemirror_mode": {
    "name": "ipython",
    "version": 2
   },
   "file_extension": ".py",
   "mimetype": "text/x-python",
   "name": "python",
   "nbconvert_exporter": "python",
   "pygments_lexer": "ipython2",
   "version": "2.7.6"
  }
 },
 "nbformat": 4,
 "nbformat_minor": 5
}
