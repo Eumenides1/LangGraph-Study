{
 "cells": [
  {
   "cell_type": "code",
   "id": "initial_id",
   "metadata": {
    "collapsed": true,
    "ExecuteTime": {
     "end_time": "2024-07-28T04:55:08.401462Z",
     "start_time": "2024-07-28T04:55:07.850394Z"
    }
   },
   "source": [
    "from langgraph.graph import StateGraph, END\n",
    "from typing import TypedDict, Annotated\n",
    "import operator\n",
    "from langchain_core.messages import AnyMessage, SystemMessage, HumanMessage, ToolMessage\n",
    "from langchain_openai import ChatOpenAI\n",
    "from langchain_community.tools.tavily_search import TavilySearchResults\n",
    "from langgraph.checkpoint.sqlite import SqliteSaver\n",
    "\n",
    "memory = SqliteSaver.from_conn_string(\":memory:\")"
   ],
   "outputs": [],
   "execution_count": 1
  },
  {
   "metadata": {
    "ExecuteTime": {
     "end_time": "2024-07-28T04:56:02.428543Z",
     "start_time": "2024-07-28T04:56:02.407468Z"
    }
   },
   "cell_type": "code",
   "source": [
    "from uuid import uuid4\n",
    "from langchain_core.messages import AnyMessage, SystemMessage, HumanMessage, AIMessage\n",
    "\n",
    "\"\"\"\n",
    "我们使用默认的 operator.add 或 + 归约器为 messages 状态键添加了注释，它总是将新消息附加到现有消息数组的末尾。\n",
    "现在，为了支持替换现有消息，我们使用一个自定义的归约器函数为 messages 键添加注释，该函数会用相同 id 的消息进行替换，否则将其附加。\n",
    "\"\"\"\n",
    "def reduce_messages(left: list[AnyMessage], right: list[AnyMessage]) -> list[AnyMessage]:\n",
    "    # assign ids to messages that don't have them\n",
    "    for message in right:\n",
    "        if not message.id:\n",
    "            message.id = str(uuid4())\n",
    "    # merge the new messages with the existing messages\n",
    "    merged = left.copy()\n",
    "    for message in right:\n",
    "        for i, existing in enumerate(merged):\n",
    "            # replace any existing messages with the same id\n",
    "            if existing.id == message.id:\n",
    "                merged[i] = message\n",
    "                break\n",
    "        else:\n",
    "            # append any new messages to the end\n",
    "            merged.append(message)\n",
    "    return merged\n",
    "\n",
    "class AgentState(TypedDict):\n",
    "    messages: Annotated[list[AnyMessage], reduce_messages]"
   ],
   "id": "c313ffa6ff7c8413",
   "outputs": [],
   "execution_count": 2
  },
  {
   "metadata": {
    "ExecuteTime": {
     "end_time": "2024-07-28T04:56:17.168709Z",
     "start_time": "2024-07-28T04:56:17.161625Z"
    }
   },
   "cell_type": "code",
   "source": "tool = TavilySearchResults(max_results=2)",
   "id": "24af13ddd15a7550",
   "outputs": [],
   "execution_count": 3
  },
  {
   "metadata": {
    "ExecuteTime": {
     "end_time": "2024-07-28T04:56:37.365700Z",
     "start_time": "2024-07-28T04:56:37.356196Z"
    }
   },
   "cell_type": "code",
   "source": [
    "class Agent:\n",
    "    def __init__(self, model, tools, system=\"\", checkpointer=None):\n",
    "        self.system = system\n",
    "        graph = StateGraph(AgentState)\n",
    "        graph.add_node(\"llm\", self.call_openai)\n",
    "        graph.add_node(\"action\", self.take_action)\n",
    "        graph.add_conditional_edges(\"llm\", self.exists_action, {True: \"action\", False: END})\n",
    "        graph.add_edge(\"action\", \"llm\")\n",
    "        graph.set_entry_point(\"llm\")\n",
    "        self.graph = graph.compile(\n",
    "            checkpointer=checkpointer,\n",
    "            interrupt_before=[\"action\"]\n",
    "        )\n",
    "        self.tools = {t.name: t for t in tools}\n",
    "        self.model = model.bind_tools(tools)\n",
    "\n",
    "    def call_openai(self, state: AgentState):\n",
    "        messages = state['messages']\n",
    "        if self.system:\n",
    "            messages = [SystemMessage(content=self.system)] + messages\n",
    "        message = self.model.invoke(messages)\n",
    "        return {'messages': [message]}\n",
    "\n",
    "    def exists_action(self, state: AgentState):\n",
    "        print(state)\n",
    "        result = state['messages'][-1]\n",
    "        return len(result.tool_calls) > 0\n",
    "\n",
    "    def take_action(self, state: AgentState):\n",
    "        tool_calls = state['messages'][-1].tool_calls\n",
    "        results = []\n",
    "        for t in tool_calls:\n",
    "            print(f\"Calling: {t}\")\n",
    "            result = self.tools[t['name']].invoke(t['args'])\n",
    "            results.append(ToolMessage(tool_call_id=t['id'], name=t['name'], content=str(result)))\n",
    "        print(\"Back to the model!\")\n",
    "        return {'messages': results}"
   ],
   "id": "b364d1b820a94d3d",
   "outputs": [],
   "execution_count": 4
  },
  {
   "metadata": {
    "ExecuteTime": {
     "end_time": "2024-07-28T04:57:58.797396Z",
     "start_time": "2024-07-28T04:57:58.689235Z"
    }
   },
   "cell_type": "code",
   "source": [
    "import os\n",
    "prompt = \"\"\"你是一个聪明的研究助手。使用搜索引擎查找信息。\n",
    "你可以进行多次调用（一起或依次进行）。\n",
    "只有在确定想要什么时才查找信息。\n",
    "如果你在提出后续问题之前需要查找一些信息，你可以这样做！\n",
    "\"\"\"\n",
    "api_key = os.environ.get(\"MY_API_KEY\")\n",
    "base_url = os.environ.get(\"OPENAI_API_BASE\")\n",
    "model = ChatOpenAI(api_key=api_key, base_url=base_url,model=\"gpt-4-turbo\") \n",
    "abot = Agent(model, [tool], system=prompt, checkpointer=memory)"
   ],
   "id": "1f0d3ef2bbeae800",
   "outputs": [],
   "execution_count": 5
  },
  {
   "metadata": {
    "ExecuteTime": {
     "end_time": "2024-07-28T04:58:29.500953Z",
     "start_time": "2024-07-28T04:58:25.855082Z"
    }
   },
   "cell_type": "code",
   "source": [
    "messages = [HumanMessage(content=\"Whats the weather in SF?\")]\n",
    "thread = {\"configurable\": {\"thread_id\": \"1\"}}\n",
    "for event in abot.graph.stream({\"messages\": messages}, thread):\n",
    "    for v in event.values():\n",
    "        print(v)"
   ],
   "id": "f1c4a50198de8dc2",
   "outputs": [
    {
     "name": "stdout",
     "output_type": "stream",
     "text": [
      "{'messages': [HumanMessage(content='Whats the weather in SF?', id='7b99e655-2801-4973-9996-2e10a95be47f'), AIMessage(content='', additional_kwargs={'tool_calls': [{'id': 'call_4CsvjpQTaGhPXGO3HGRh2gwJ', 'function': {'arguments': '{\"query\":\"current weather in San Francisco\"}', 'name': 'tavily_search_results_json'}, 'type': 'function'}]}, response_metadata={'token_usage': {'completion_tokens': 22, 'prompt_tokens': 173, 'total_tokens': 195}, 'model_name': 'gpt-4-turbo-2024-04-09', 'system_fingerprint': 'fp_0993c4a4c0', 'finish_reason': 'tool_calls', 'logprobs': None}, id='run-19767b1e-232b-4430-8c39-be778f51b267-0', tool_calls=[{'name': 'tavily_search_results_json', 'args': {'query': 'current weather in San Francisco'}, 'id': 'call_4CsvjpQTaGhPXGO3HGRh2gwJ', 'type': 'tool_call'}], usage_metadata={'input_tokens': 173, 'output_tokens': 22, 'total_tokens': 195})]}\n",
      "{'messages': [AIMessage(content='', additional_kwargs={'tool_calls': [{'id': 'call_4CsvjpQTaGhPXGO3HGRh2gwJ', 'function': {'arguments': '{\"query\":\"current weather in San Francisco\"}', 'name': 'tavily_search_results_json'}, 'type': 'function'}]}, response_metadata={'token_usage': {'completion_tokens': 22, 'prompt_tokens': 173, 'total_tokens': 195}, 'model_name': 'gpt-4-turbo-2024-04-09', 'system_fingerprint': 'fp_0993c4a4c0', 'finish_reason': 'tool_calls', 'logprobs': None}, id='run-19767b1e-232b-4430-8c39-be778f51b267-0', tool_calls=[{'name': 'tavily_search_results_json', 'args': {'query': 'current weather in San Francisco'}, 'id': 'call_4CsvjpQTaGhPXGO3HGRh2gwJ', 'type': 'tool_call'}], usage_metadata={'input_tokens': 173, 'output_tokens': 22, 'total_tokens': 195})]}\n"
     ]
    }
   ],
   "execution_count": 6
  },
  {
   "metadata": {
    "ExecuteTime": {
     "end_time": "2024-07-28T04:58:41.762557Z",
     "start_time": "2024-07-28T04:58:41.750652Z"
    }
   },
   "cell_type": "code",
   "source": "abot.graph.get_state(thread)",
   "id": "978395f103356c4b",
   "outputs": [
    {
     "data": {
      "text/plain": [
       "StateSnapshot(values={'messages': [HumanMessage(content='Whats the weather in SF?', id='7b99e655-2801-4973-9996-2e10a95be47f'), AIMessage(content='', additional_kwargs={'tool_calls': [{'id': 'call_4CsvjpQTaGhPXGO3HGRh2gwJ', 'function': {'arguments': '{\"query\":\"current weather in San Francisco\"}', 'name': 'tavily_search_results_json'}, 'type': 'function'}]}, response_metadata={'token_usage': {'completion_tokens': 22, 'prompt_tokens': 173, 'total_tokens': 195}, 'model_name': 'gpt-4-turbo-2024-04-09', 'system_fingerprint': 'fp_0993c4a4c0', 'finish_reason': 'tool_calls', 'logprobs': None}, id='run-19767b1e-232b-4430-8c39-be778f51b267-0', tool_calls=[{'name': 'tavily_search_results_json', 'args': {'query': 'current weather in San Francisco'}, 'id': 'call_4CsvjpQTaGhPXGO3HGRh2gwJ', 'type': 'tool_call'}], usage_metadata={'input_tokens': 173, 'output_tokens': 22, 'total_tokens': 195})]}, next=('action',), config={'configurable': {'thread_id': '1', 'thread_ts': '1ef4c9e0-806e-64cc-8001-caf969a1ab0a'}}, metadata={'source': 'loop', 'writes': {'llm': {'messages': [AIMessage(content='', additional_kwargs={'tool_calls': [{'id': 'call_4CsvjpQTaGhPXGO3HGRh2gwJ', 'function': {'arguments': '{\"query\":\"current weather in San Francisco\"}', 'name': 'tavily_search_results_json'}, 'type': 'function'}]}, response_metadata={'token_usage': {'completion_tokens': 22, 'prompt_tokens': 173, 'total_tokens': 195}, 'model_name': 'gpt-4-turbo-2024-04-09', 'system_fingerprint': 'fp_0993c4a4c0', 'finish_reason': 'tool_calls', 'logprobs': None}, id='run-19767b1e-232b-4430-8c39-be778f51b267-0', tool_calls=[{'name': 'tavily_search_results_json', 'args': {'query': 'current weather in San Francisco'}, 'id': 'call_4CsvjpQTaGhPXGO3HGRh2gwJ', 'type': 'tool_call'}], usage_metadata={'input_tokens': 173, 'output_tokens': 22, 'total_tokens': 195})]}}, 'step': 1}, created_at='2024-07-28T04:58:29.498787+00:00', parent_config={'configurable': {'thread_id': '1', 'thread_ts': '1ef4c9e0-5ddf-6852-8000-456d2c66a12b'}})"
      ]
     },
     "execution_count": 7,
     "metadata": {},
     "output_type": "execute_result"
    }
   ],
   "execution_count": 7
  },
  {
   "metadata": {
    "ExecuteTime": {
     "end_time": "2024-07-28T04:59:01.155985Z",
     "start_time": "2024-07-28T04:59:01.150712Z"
    }
   },
   "cell_type": "code",
   "source": "abot.graph.get_state(thread).next",
   "id": "ca8de6ba969d3e67",
   "outputs": [
    {
     "data": {
      "text/plain": [
       "('action',)"
      ]
     },
     "execution_count": 8,
     "metadata": {},
     "output_type": "execute_result"
    }
   ],
   "execution_count": 8
  },
  {
   "metadata": {
    "ExecuteTime": {
     "end_time": "2024-07-28T04:59:20.233572Z",
     "start_time": "2024-07-28T04:59:13.102305Z"
    }
   },
   "cell_type": "code",
   "source": [
    "for event in abot.graph.stream(None, thread):\n",
    "    for v in event.values():\n",
    "        print(v)"
   ],
   "id": "e5db669a81482eb4",
   "outputs": [
    {
     "name": "stdout",
     "output_type": "stream",
     "text": [
      "Calling: {'name': 'tavily_search_results_json', 'args': {'query': 'current weather in San Francisco'}, 'id': 'call_4CsvjpQTaGhPXGO3HGRh2gwJ', 'type': 'tool_call'}\n",
      "Back to the model!\n",
      "{'messages': [ToolMessage(content='[{\\'url\\': \\'https://www.weatherapi.com/\\', \\'content\\': \"{\\'location\\': {\\'name\\': \\'San Francisco\\', \\'region\\': \\'California\\', \\'country\\': \\'United States of America\\', \\'lat\\': 37.78, \\'lon\\': -122.42, \\'tz_id\\': \\'America/Los_Angeles\\', \\'localtime_epoch\\': 1722142671, \\'localtime\\': \\'2024-07-27 21:57\\'}, \\'current\\': {\\'last_updated_epoch\\': 1722141900, \\'last_updated\\': \\'2024-07-27 21:45\\', \\'temp_c\\': 14.2, \\'temp_f\\': 57.6, \\'is_day\\': 0, \\'condition\\': {\\'text\\': \\'Patchy rain nearby\\', \\'icon\\': \\'//cdn.weatherapi.com/weather/64x64/night/176.png\\', \\'code\\': 1063}, \\'wind_mph\\': 12.5, \\'wind_kph\\': 20.2, \\'wind_degree\\': 271, \\'wind_dir\\': \\'W\\', \\'pressure_mb\\': 1013.0, \\'pressure_in\\': 29.9, \\'precip_mm\\': 0.01, \\'precip_in\\': 0.0, \\'humidity\\': 85, \\'cloud\\': 75, \\'feelslike_c\\': 12.7, \\'feelslike_f\\': 54.9, \\'windchill_c\\': 12.7, \\'windchill_f\\': 54.9, \\'heatindex_c\\': 14.2, \\'heatindex_f\\': 57.6, \\'dewpoint_c\\': 11.6, \\'dewpoint_f\\': 52.9, \\'vis_km\\': 10.0, \\'vis_miles\\': 6.0, \\'uv\\': 1.0, \\'gust_mph\\': 17.2, \\'gust_kph\\': 27.7}}\"}, {\\'url\\': \\'https://en.climate-data.org/north-america/united-states-of-america/california/san-francisco-385/t/july-7/\\', \\'content\\': \\'Weather ☀ ⛅ San Francisco ☀ ⛅ July ☀ ⛅ Information on temperature, sunshine hours, water temperature & rainfall in July for San Francisco. ... Are you planning a holiday with hopefully nice weather in San Francisco in July 2024? Here you can find all information about the weather in San Francisco in July: ... 28. July: 16 °C | 61 ...\\'}]', name='tavily_search_results_json', tool_call_id='call_4CsvjpQTaGhPXGO3HGRh2gwJ')]}\n",
      "{'messages': [HumanMessage(content='Whats the weather in SF?', id='7b99e655-2801-4973-9996-2e10a95be47f'), AIMessage(content='', additional_kwargs={'tool_calls': [{'id': 'call_4CsvjpQTaGhPXGO3HGRh2gwJ', 'function': {'arguments': '{\"query\":\"current weather in San Francisco\"}', 'name': 'tavily_search_results_json'}, 'type': 'function'}]}, response_metadata={'token_usage': {'completion_tokens': 22, 'prompt_tokens': 173, 'total_tokens': 195}, 'model_name': 'gpt-4-turbo-2024-04-09', 'system_fingerprint': 'fp_0993c4a4c0', 'finish_reason': 'tool_calls', 'logprobs': None}, id='run-19767b1e-232b-4430-8c39-be778f51b267-0', tool_calls=[{'name': 'tavily_search_results_json', 'args': {'query': 'current weather in San Francisco'}, 'id': 'call_4CsvjpQTaGhPXGO3HGRh2gwJ', 'type': 'tool_call'}], usage_metadata={'input_tokens': 173, 'output_tokens': 22, 'total_tokens': 195}), ToolMessage(content='[{\\'url\\': \\'https://www.weatherapi.com/\\', \\'content\\': \"{\\'location\\': {\\'name\\': \\'San Francisco\\', \\'region\\': \\'California\\', \\'country\\': \\'United States of America\\', \\'lat\\': 37.78, \\'lon\\': -122.42, \\'tz_id\\': \\'America/Los_Angeles\\', \\'localtime_epoch\\': 1722142671, \\'localtime\\': \\'2024-07-27 21:57\\'}, \\'current\\': {\\'last_updated_epoch\\': 1722141900, \\'last_updated\\': \\'2024-07-27 21:45\\', \\'temp_c\\': 14.2, \\'temp_f\\': 57.6, \\'is_day\\': 0, \\'condition\\': {\\'text\\': \\'Patchy rain nearby\\', \\'icon\\': \\'//cdn.weatherapi.com/weather/64x64/night/176.png\\', \\'code\\': 1063}, \\'wind_mph\\': 12.5, \\'wind_kph\\': 20.2, \\'wind_degree\\': 271, \\'wind_dir\\': \\'W\\', \\'pressure_mb\\': 1013.0, \\'pressure_in\\': 29.9, \\'precip_mm\\': 0.01, \\'precip_in\\': 0.0, \\'humidity\\': 85, \\'cloud\\': 75, \\'feelslike_c\\': 12.7, \\'feelslike_f\\': 54.9, \\'windchill_c\\': 12.7, \\'windchill_f\\': 54.9, \\'heatindex_c\\': 14.2, \\'heatindex_f\\': 57.6, \\'dewpoint_c\\': 11.6, \\'dewpoint_f\\': 52.9, \\'vis_km\\': 10.0, \\'vis_miles\\': 6.0, \\'uv\\': 1.0, \\'gust_mph\\': 17.2, \\'gust_kph\\': 27.7}}\"}, {\\'url\\': \\'https://en.climate-data.org/north-america/united-states-of-america/california/san-francisco-385/t/july-7/\\', \\'content\\': \\'Weather ☀ ⛅ San Francisco ☀ ⛅ July ☀ ⛅ Information on temperature, sunshine hours, water temperature & rainfall in July for San Francisco. ... Are you planning a holiday with hopefully nice weather in San Francisco in July 2024? Here you can find all information about the weather in San Francisco in July: ... 28. July: 16 °C | 61 ...\\'}]', name='tavily_search_results_json', id='b2675be5-28e3-4370-aac7-342f6411e94f', tool_call_id='call_4CsvjpQTaGhPXGO3HGRh2gwJ'), AIMessage(content=\"The current weather in San Francisco is as follows:\\n- Temperature: 14.2°C (57.6°F)\\n- Condition: Patchy rain nearby\\n- Wind: 12.5 mph (20.2 kph) from the west\\n- Humidity: 85%\\n- Cloud cover: 75%\\n- Visibility: 10 km (6 miles)\\n\\nIt's a relatively cool and rainy evening in San Francisco.\", response_metadata={'token_usage': {'completion_tokens': 88, 'prompt_tokens': 745, 'total_tokens': 833}, 'model_name': 'gpt-4-turbo-2024-04-09', 'system_fingerprint': 'fp_0993c4a4c0', 'finish_reason': 'stop', 'logprobs': None}, id='run-4a6c3107-7d39-4371-9449-b154b58a257a-0', usage_metadata={'input_tokens': 745, 'output_tokens': 88, 'total_tokens': 833})]}\n",
      "{'messages': [AIMessage(content=\"The current weather in San Francisco is as follows:\\n- Temperature: 14.2°C (57.6°F)\\n- Condition: Patchy rain nearby\\n- Wind: 12.5 mph (20.2 kph) from the west\\n- Humidity: 85%\\n- Cloud cover: 75%\\n- Visibility: 10 km (6 miles)\\n\\nIt's a relatively cool and rainy evening in San Francisco.\", response_metadata={'token_usage': {'completion_tokens': 88, 'prompt_tokens': 745, 'total_tokens': 833}, 'model_name': 'gpt-4-turbo-2024-04-09', 'system_fingerprint': 'fp_0993c4a4c0', 'finish_reason': 'stop', 'logprobs': None}, id='run-4a6c3107-7d39-4371-9449-b154b58a257a-0', usage_metadata={'input_tokens': 745, 'output_tokens': 88, 'total_tokens': 833})]}\n"
     ]
    }
   ],
   "execution_count": 9
  },
  {
   "metadata": {
    "ExecuteTime": {
     "end_time": "2024-07-28T04:59:41.788129Z",
     "start_time": "2024-07-28T04:59:41.781230Z"
    }
   },
   "cell_type": "code",
   "source": "abot.graph.get_state(thread)",
   "id": "1f71f3e06f86a229",
   "outputs": [
    {
     "data": {
      "text/plain": [
       "StateSnapshot(values={'messages': [HumanMessage(content='Whats the weather in SF?', id='7b99e655-2801-4973-9996-2e10a95be47f'), AIMessage(content='', additional_kwargs={'tool_calls': [{'id': 'call_4CsvjpQTaGhPXGO3HGRh2gwJ', 'function': {'arguments': '{\"query\":\"current weather in San Francisco\"}', 'name': 'tavily_search_results_json'}, 'type': 'function'}]}, response_metadata={'token_usage': {'completion_tokens': 22, 'prompt_tokens': 173, 'total_tokens': 195}, 'model_name': 'gpt-4-turbo-2024-04-09', 'system_fingerprint': 'fp_0993c4a4c0', 'finish_reason': 'tool_calls', 'logprobs': None}, id='run-19767b1e-232b-4430-8c39-be778f51b267-0', tool_calls=[{'name': 'tavily_search_results_json', 'args': {'query': 'current weather in San Francisco'}, 'id': 'call_4CsvjpQTaGhPXGO3HGRh2gwJ', 'type': 'tool_call'}], usage_metadata={'input_tokens': 173, 'output_tokens': 22, 'total_tokens': 195}), ToolMessage(content='[{\\'url\\': \\'https://www.weatherapi.com/\\', \\'content\\': \"{\\'location\\': {\\'name\\': \\'San Francisco\\', \\'region\\': \\'California\\', \\'country\\': \\'United States of America\\', \\'lat\\': 37.78, \\'lon\\': -122.42, \\'tz_id\\': \\'America/Los_Angeles\\', \\'localtime_epoch\\': 1722142671, \\'localtime\\': \\'2024-07-27 21:57\\'}, \\'current\\': {\\'last_updated_epoch\\': 1722141900, \\'last_updated\\': \\'2024-07-27 21:45\\', \\'temp_c\\': 14.2, \\'temp_f\\': 57.6, \\'is_day\\': 0, \\'condition\\': {\\'text\\': \\'Patchy rain nearby\\', \\'icon\\': \\'//cdn.weatherapi.com/weather/64x64/night/176.png\\', \\'code\\': 1063}, \\'wind_mph\\': 12.5, \\'wind_kph\\': 20.2, \\'wind_degree\\': 271, \\'wind_dir\\': \\'W\\', \\'pressure_mb\\': 1013.0, \\'pressure_in\\': 29.9, \\'precip_mm\\': 0.01, \\'precip_in\\': 0.0, \\'humidity\\': 85, \\'cloud\\': 75, \\'feelslike_c\\': 12.7, \\'feelslike_f\\': 54.9, \\'windchill_c\\': 12.7, \\'windchill_f\\': 54.9, \\'heatindex_c\\': 14.2, \\'heatindex_f\\': 57.6, \\'dewpoint_c\\': 11.6, \\'dewpoint_f\\': 52.9, \\'vis_km\\': 10.0, \\'vis_miles\\': 6.0, \\'uv\\': 1.0, \\'gust_mph\\': 17.2, \\'gust_kph\\': 27.7}}\"}, {\\'url\\': \\'https://en.climate-data.org/north-america/united-states-of-america/california/san-francisco-385/t/july-7/\\', \\'content\\': \\'Weather ☀ ⛅ San Francisco ☀ ⛅ July ☀ ⛅ Information on temperature, sunshine hours, water temperature & rainfall in July for San Francisco. ... Are you planning a holiday with hopefully nice weather in San Francisco in July 2024? Here you can find all information about the weather in San Francisco in July: ... 28. July: 16 °C | 61 ...\\'}]', name='tavily_search_results_json', id='b2675be5-28e3-4370-aac7-342f6411e94f', tool_call_id='call_4CsvjpQTaGhPXGO3HGRh2gwJ'), AIMessage(content=\"The current weather in San Francisco is as follows:\\n- Temperature: 14.2°C (57.6°F)\\n- Condition: Patchy rain nearby\\n- Wind: 12.5 mph (20.2 kph) from the west\\n- Humidity: 85%\\n- Cloud cover: 75%\\n- Visibility: 10 km (6 miles)\\n\\nIt's a relatively cool and rainy evening in San Francisco.\", response_metadata={'token_usage': {'completion_tokens': 88, 'prompt_tokens': 745, 'total_tokens': 833}, 'model_name': 'gpt-4-turbo-2024-04-09', 'system_fingerprint': 'fp_0993c4a4c0', 'finish_reason': 'stop', 'logprobs': None}, id='run-4a6c3107-7d39-4371-9449-b154b58a257a-0', usage_metadata={'input_tokens': 745, 'output_tokens': 88, 'total_tokens': 833})]}, next=(), config={'configurable': {'thread_id': '1', 'thread_ts': '1ef4c9e2-6442-61de-8003-b69d7c0e06f5'}}, metadata={'source': 'loop', 'writes': {'llm': {'messages': [AIMessage(content=\"The current weather in San Francisco is as follows:\\n- Temperature: 14.2°C (57.6°F)\\n- Condition: Patchy rain nearby\\n- Wind: 12.5 mph (20.2 kph) from the west\\n- Humidity: 85%\\n- Cloud cover: 75%\\n- Visibility: 10 km (6 miles)\\n\\nIt's a relatively cool and rainy evening in San Francisco.\", response_metadata={'token_usage': {'completion_tokens': 88, 'prompt_tokens': 745, 'total_tokens': 833}, 'model_name': 'gpt-4-turbo-2024-04-09', 'system_fingerprint': 'fp_0993c4a4c0', 'finish_reason': 'stop', 'logprobs': None}, id='run-4a6c3107-7d39-4371-9449-b154b58a257a-0', usage_metadata={'input_tokens': 745, 'output_tokens': 88, 'total_tokens': 833})]}}, 'step': 3}, created_at='2024-07-28T04:59:20.231761+00:00', parent_config={'configurable': {'thread_id': '1', 'thread_ts': '1ef4c9e2-3be8-6b20-8002-e23a62da1973'}})"
      ]
     },
     "execution_count": 10,
     "metadata": {},
     "output_type": "execute_result"
    }
   ],
   "execution_count": 10
  },
  {
   "metadata": {
    "ExecuteTime": {
     "end_time": "2024-07-28T04:59:50.316140Z",
     "start_time": "2024-07-28T04:59:50.308290Z"
    }
   },
   "cell_type": "code",
   "source": "abot.graph.get_state(thread).next",
   "id": "b61bf81a8c99e739",
   "outputs": [
    {
     "data": {
      "text/plain": [
       "()"
      ]
     },
     "execution_count": 11,
     "metadata": {},
     "output_type": "execute_result"
    }
   ],
   "execution_count": 11
  },
  {
   "metadata": {
    "ExecuteTime": {
     "end_time": "2024-07-28T05:00:22.404076Z",
     "start_time": "2024-07-28T05:00:10.487963Z"
    }
   },
   "cell_type": "code",
   "source": [
    "messages = [HumanMessage(\"Whats the weather in LA?\")]\n",
    "thread = {\"configurable\": {\"thread_id\": \"2\"}}\n",
    "for event in abot.graph.stream({\"messages\": messages}, thread):\n",
    "    for v in event.values():\n",
    "        print(v)\n",
    "while abot.graph.get_state(thread).next:\n",
    "    print(\"\\n\", abot.graph.get_state(thread),\"\\n\")\n",
    "    _input = input(\"proceed?\")\n",
    "    if _input != \"y\":\n",
    "        print(\"aborting\")\n",
    "        break\n",
    "    for event in abot.graph.stream(None, thread):\n",
    "        for v in event.values():\n",
    "            print(v)"
   ],
   "id": "7df5052c43d5321c",
   "outputs": [
    {
     "name": "stdout",
     "output_type": "stream",
     "text": [
      "{'messages': [HumanMessage(content='Whats the weather in LA?', id='e0c04f0e-e3d9-4304-8af1-ae494eaa8563'), AIMessage(content='', additional_kwargs={'tool_calls': [{'id': 'call_KZB4XsrPO4cXoi8rT3yERTMZ', 'function': {'arguments': '{\"query\":\"current weather in Los Angeles\"}', 'name': 'tavily_search_results_json'}, 'type': 'function'}]}, response_metadata={'token_usage': {'completion_tokens': 22, 'prompt_tokens': 173, 'total_tokens': 195}, 'model_name': 'gpt-4-turbo-2024-04-09', 'system_fingerprint': 'fp_0993c4a4c0', 'finish_reason': 'tool_calls', 'logprobs': None}, id='run-7d4da79e-3c69-4e08-a4f1-4b639122c56e-0', tool_calls=[{'name': 'tavily_search_results_json', 'args': {'query': 'current weather in Los Angeles'}, 'id': 'call_KZB4XsrPO4cXoi8rT3yERTMZ', 'type': 'tool_call'}], usage_metadata={'input_tokens': 173, 'output_tokens': 22, 'total_tokens': 195})]}\n",
      "{'messages': [AIMessage(content='', additional_kwargs={'tool_calls': [{'id': 'call_KZB4XsrPO4cXoi8rT3yERTMZ', 'function': {'arguments': '{\"query\":\"current weather in Los Angeles\"}', 'name': 'tavily_search_results_json'}, 'type': 'function'}]}, response_metadata={'token_usage': {'completion_tokens': 22, 'prompt_tokens': 173, 'total_tokens': 195}, 'model_name': 'gpt-4-turbo-2024-04-09', 'system_fingerprint': 'fp_0993c4a4c0', 'finish_reason': 'tool_calls', 'logprobs': None}, id='run-7d4da79e-3c69-4e08-a4f1-4b639122c56e-0', tool_calls=[{'name': 'tavily_search_results_json', 'args': {'query': 'current weather in Los Angeles'}, 'id': 'call_KZB4XsrPO4cXoi8rT3yERTMZ', 'type': 'tool_call'}], usage_metadata={'input_tokens': 173, 'output_tokens': 22, 'total_tokens': 195})]}\n",
      "\n",
      " StateSnapshot(values={'messages': [HumanMessage(content='Whats the weather in LA?', id='e0c04f0e-e3d9-4304-8af1-ae494eaa8563'), AIMessage(content='', additional_kwargs={'tool_calls': [{'id': 'call_KZB4XsrPO4cXoi8rT3yERTMZ', 'function': {'arguments': '{\"query\":\"current weather in Los Angeles\"}', 'name': 'tavily_search_results_json'}, 'type': 'function'}]}, response_metadata={'token_usage': {'completion_tokens': 22, 'prompt_tokens': 173, 'total_tokens': 195}, 'model_name': 'gpt-4-turbo-2024-04-09', 'system_fingerprint': 'fp_0993c4a4c0', 'finish_reason': 'tool_calls', 'logprobs': None}, id='run-7d4da79e-3c69-4e08-a4f1-4b639122c56e-0', tool_calls=[{'name': 'tavily_search_results_json', 'args': {'query': 'current weather in Los Angeles'}, 'id': 'call_KZB4XsrPO4cXoi8rT3yERTMZ', 'type': 'tool_call'}], usage_metadata={'input_tokens': 173, 'output_tokens': 22, 'total_tokens': 195})]}, next=('action',), config={'configurable': {'thread_id': '2', 'thread_ts': '1ef4c9e4-5ee0-696e-8001-300707617f0f'}}, metadata={'source': 'loop', 'writes': {'llm': {'messages': [AIMessage(content='', additional_kwargs={'tool_calls': [{'id': 'call_KZB4XsrPO4cXoi8rT3yERTMZ', 'function': {'arguments': '{\"query\":\"current weather in Los Angeles\"}', 'name': 'tavily_search_results_json'}, 'type': 'function'}]}, response_metadata={'token_usage': {'completion_tokens': 22, 'prompt_tokens': 173, 'total_tokens': 195}, 'model_name': 'gpt-4-turbo-2024-04-09', 'system_fingerprint': 'fp_0993c4a4c0', 'finish_reason': 'tool_calls', 'logprobs': None}, id='run-7d4da79e-3c69-4e08-a4f1-4b639122c56e-0', tool_calls=[{'name': 'tavily_search_results_json', 'args': {'query': 'current weather in Los Angeles'}, 'id': 'call_KZB4XsrPO4cXoi8rT3yERTMZ', 'type': 'tool_call'}], usage_metadata={'input_tokens': 173, 'output_tokens': 22, 'total_tokens': 195})]}}, 'step': 1}, created_at='2024-07-28T05:00:13.354610+00:00', parent_config={'configurable': {'thread_id': '2', 'thread_ts': '1ef4c9e4-43a8-6d18-8000-79335b6b9325'}}) \n",
      "\n",
      "Calling: {'name': 'tavily_search_results_json', 'args': {'query': 'current weather in Los Angeles'}, 'id': 'call_KZB4XsrPO4cXoi8rT3yERTMZ', 'type': 'tool_call'}\n",
      "Back to the model!\n",
      "{'messages': [ToolMessage(content='[{\\'url\\': \\'https://www.weatherapi.com/\\', \\'content\\': \"{\\'location\\': {\\'name\\': \\'Los Angeles\\', \\'region\\': \\'California\\', \\'country\\': \\'United States of America\\', \\'lat\\': 34.05, \\'lon\\': -118.24, \\'tz_id\\': \\'America/Los_Angeles\\', \\'localtime_epoch\\': 1722142734, \\'localtime\\': \\'2024-07-27 21:58\\'}, \\'current\\': {\\'last_updated_epoch\\': 1722141900, \\'last_updated\\': \\'2024-07-27 21:45\\', \\'temp_c\\': 22.8, \\'temp_f\\': 73.1, \\'is_day\\': 0, \\'condition\\': {\\'text\\': \\'Clear\\', \\'icon\\': \\'//cdn.weatherapi.com/weather/64x64/night/113.png\\', \\'code\\': 1000}, \\'wind_mph\\': 4.7, \\'wind_kph\\': 7.6, \\'wind_degree\\': 213, \\'wind_dir\\': \\'SSW\\', \\'pressure_mb\\': 1010.0, \\'pressure_in\\': 29.84, \\'precip_mm\\': 0.0, \\'precip_in\\': 0.0, \\'humidity\\': 52, \\'cloud\\': 0, \\'feelslike_c\\': 24.8, \\'feelslike_f\\': 76.6, \\'windchill_c\\': 22.8, \\'windchill_f\\': 73.0, \\'heatindex_c\\': 24.8, \\'heatindex_f\\': 76.6, \\'dewpoint_c\\': 12.0, \\'dewpoint_f\\': 53.6, \\'vis_km\\': 10.0, \\'vis_miles\\': 6.0, \\'uv\\': 1.0, \\'gust_mph\\': 5.8, \\'gust_kph\\': 9.4}}\"}, {\\'url\\': \\'https://www.ventusky.com/40.750;-118.250\\', \\'content\\': \\'Location ☀ Weather forecast for 10 days, information from meteorological stations, webcams, sunrise and sunset, wind and precipitation maps for this place ... America/Los_Angeles (UTC-7) / Current time: 04:39 2024/07/27 . Current Weather ; Forecast ; Sun and Moon ... (03:56 2024/07/27) Weather for the next 24 hours . 05:00 06:00 07:00 08:00 ...\\'}]', name='tavily_search_results_json', tool_call_id='call_KZB4XsrPO4cXoi8rT3yERTMZ')]}\n",
      "{'messages': [HumanMessage(content='Whats the weather in LA?', id='e0c04f0e-e3d9-4304-8af1-ae494eaa8563'), AIMessage(content='', additional_kwargs={'tool_calls': [{'id': 'call_KZB4XsrPO4cXoi8rT3yERTMZ', 'function': {'arguments': '{\"query\":\"current weather in Los Angeles\"}', 'name': 'tavily_search_results_json'}, 'type': 'function'}]}, response_metadata={'token_usage': {'completion_tokens': 22, 'prompt_tokens': 173, 'total_tokens': 195}, 'model_name': 'gpt-4-turbo-2024-04-09', 'system_fingerprint': 'fp_0993c4a4c0', 'finish_reason': 'tool_calls', 'logprobs': None}, id='run-7d4da79e-3c69-4e08-a4f1-4b639122c56e-0', tool_calls=[{'name': 'tavily_search_results_json', 'args': {'query': 'current weather in Los Angeles'}, 'id': 'call_KZB4XsrPO4cXoi8rT3yERTMZ', 'type': 'tool_call'}], usage_metadata={'input_tokens': 173, 'output_tokens': 22, 'total_tokens': 195}), ToolMessage(content='[{\\'url\\': \\'https://www.weatherapi.com/\\', \\'content\\': \"{\\'location\\': {\\'name\\': \\'Los Angeles\\', \\'region\\': \\'California\\', \\'country\\': \\'United States of America\\', \\'lat\\': 34.05, \\'lon\\': -118.24, \\'tz_id\\': \\'America/Los_Angeles\\', \\'localtime_epoch\\': 1722142734, \\'localtime\\': \\'2024-07-27 21:58\\'}, \\'current\\': {\\'last_updated_epoch\\': 1722141900, \\'last_updated\\': \\'2024-07-27 21:45\\', \\'temp_c\\': 22.8, \\'temp_f\\': 73.1, \\'is_day\\': 0, \\'condition\\': {\\'text\\': \\'Clear\\', \\'icon\\': \\'//cdn.weatherapi.com/weather/64x64/night/113.png\\', \\'code\\': 1000}, \\'wind_mph\\': 4.7, \\'wind_kph\\': 7.6, \\'wind_degree\\': 213, \\'wind_dir\\': \\'SSW\\', \\'pressure_mb\\': 1010.0, \\'pressure_in\\': 29.84, \\'precip_mm\\': 0.0, \\'precip_in\\': 0.0, \\'humidity\\': 52, \\'cloud\\': 0, \\'feelslike_c\\': 24.8, \\'feelslike_f\\': 76.6, \\'windchill_c\\': 22.8, \\'windchill_f\\': 73.0, \\'heatindex_c\\': 24.8, \\'heatindex_f\\': 76.6, \\'dewpoint_c\\': 12.0, \\'dewpoint_f\\': 53.6, \\'vis_km\\': 10.0, \\'vis_miles\\': 6.0, \\'uv\\': 1.0, \\'gust_mph\\': 5.8, \\'gust_kph\\': 9.4}}\"}, {\\'url\\': \\'https://www.ventusky.com/40.750;-118.250\\', \\'content\\': \\'Location ☀ Weather forecast for 10 days, information from meteorological stations, webcams, sunrise and sunset, wind and precipitation maps for this place ... America/Los_Angeles (UTC-7) / Current time: 04:39 2024/07/27 . Current Weather ; Forecast ; Sun and Moon ... (03:56 2024/07/27) Weather for the next 24 hours . 05:00 06:00 07:00 08:00 ...\\'}]', name='tavily_search_results_json', id='d97ad883-fd67-4d90-9302-8c6400a1b5ed', tool_call_id='call_KZB4XsrPO4cXoi8rT3yERTMZ'), AIMessage(content='The current weather in Los Angeles is clear with a temperature of 22.8°C (73.1°F). The wind is coming from the south-southwest at 7.6 kph (4.7 mph). The humidity is at 52% with a visibility of 10 km (6 miles).', response_metadata={'token_usage': {'completion_tokens': 65, 'prompt_tokens': 745, 'total_tokens': 810}, 'model_name': 'gpt-4-turbo-2024-04-09', 'system_fingerprint': 'fp_0993c4a4c0', 'finish_reason': 'stop', 'logprobs': None}, id='run-82629a12-690e-4796-9329-75810cd86299-0', usage_metadata={'input_tokens': 745, 'output_tokens': 65, 'total_tokens': 810})]}\n",
      "{'messages': [AIMessage(content='The current weather in Los Angeles is clear with a temperature of 22.8°C (73.1°F). The wind is coming from the south-southwest at 7.6 kph (4.7 mph). The humidity is at 52% with a visibility of 10 km (6 miles).', response_metadata={'token_usage': {'completion_tokens': 65, 'prompt_tokens': 745, 'total_tokens': 810}, 'model_name': 'gpt-4-turbo-2024-04-09', 'system_fingerprint': 'fp_0993c4a4c0', 'finish_reason': 'stop', 'logprobs': None}, id='run-82629a12-690e-4796-9329-75810cd86299-0', usage_metadata={'input_tokens': 745, 'output_tokens': 65, 'total_tokens': 810})]}\n"
     ]
    }
   ],
   "execution_count": 12
  },
  {
   "metadata": {
    "ExecuteTime": {
     "end_time": "2024-07-28T05:11:37.337483Z",
     "start_time": "2024-07-28T05:11:35.409893Z"
    }
   },
   "cell_type": "code",
   "source": [
    "messages = [HumanMessage(\"Whats the weather in LA?\")]\n",
    "thread = {\"configurable\": {\"thread_id\": \"3\"}}\n",
    "for event in abot.graph.stream({\"messages\": messages}, thread):\n",
    "    for v in event.values():\n",
    "        print(v)"
   ],
   "id": "c530cb5815ebd104",
   "outputs": [
    {
     "name": "stdout",
     "output_type": "stream",
     "text": [
      "{'messages': [HumanMessage(content='Whats the weather in LA?', id='d9b0e27a-7d24-4f4b-b326-1b969d798f4e'), AIMessage(content='', additional_kwargs={'tool_calls': [{'id': 'call_1wcfOxHjPgXFYhl61nP8uq5Q', 'function': {'arguments': '{\"query\":\"current weather in Los Angeles\"}', 'name': 'tavily_search_results_json'}, 'type': 'function'}]}, response_metadata={'token_usage': {'completion_tokens': 22, 'prompt_tokens': 173, 'total_tokens': 195}, 'model_name': 'gpt-4-turbo-2024-04-09', 'system_fingerprint': 'fp_0993c4a4c0', 'finish_reason': 'tool_calls', 'logprobs': None}, id='run-08cdee9f-828e-4855-9618-9103a00793a3-0', tool_calls=[{'name': 'tavily_search_results_json', 'args': {'query': 'current weather in Los Angeles'}, 'id': 'call_1wcfOxHjPgXFYhl61nP8uq5Q', 'type': 'tool_call'}], usage_metadata={'input_tokens': 173, 'output_tokens': 22, 'total_tokens': 195})]}\n",
      "{'messages': [AIMessage(content='', additional_kwargs={'tool_calls': [{'id': 'call_1wcfOxHjPgXFYhl61nP8uq5Q', 'function': {'arguments': '{\"query\":\"current weather in Los Angeles\"}', 'name': 'tavily_search_results_json'}, 'type': 'function'}]}, response_metadata={'token_usage': {'completion_tokens': 22, 'prompt_tokens': 173, 'total_tokens': 195}, 'model_name': 'gpt-4-turbo-2024-04-09', 'system_fingerprint': 'fp_0993c4a4c0', 'finish_reason': 'tool_calls', 'logprobs': None}, id='run-08cdee9f-828e-4855-9618-9103a00793a3-0', tool_calls=[{'name': 'tavily_search_results_json', 'args': {'query': 'current weather in Los Angeles'}, 'id': 'call_1wcfOxHjPgXFYhl61nP8uq5Q', 'type': 'tool_call'}], usage_metadata={'input_tokens': 173, 'output_tokens': 22, 'total_tokens': 195})]}\n"
     ]
    }
   ],
   "execution_count": 13
  },
  {
   "metadata": {
    "ExecuteTime": {
     "end_time": "2024-07-28T05:11:41.986408Z",
     "start_time": "2024-07-28T05:11:41.981107Z"
    }
   },
   "cell_type": "code",
   "source": "abot.graph.get_state(thread)",
   "id": "a9eb782d5671da5c",
   "outputs": [
    {
     "data": {
      "text/plain": [
       "StateSnapshot(values={'messages': [HumanMessage(content='Whats the weather in LA?', id='d9b0e27a-7d24-4f4b-b326-1b969d798f4e'), AIMessage(content='', additional_kwargs={'tool_calls': [{'id': 'call_1wcfOxHjPgXFYhl61nP8uq5Q', 'function': {'arguments': '{\"query\":\"current weather in Los Angeles\"}', 'name': 'tavily_search_results_json'}, 'type': 'function'}]}, response_metadata={'token_usage': {'completion_tokens': 22, 'prompt_tokens': 173, 'total_tokens': 195}, 'model_name': 'gpt-4-turbo-2024-04-09', 'system_fingerprint': 'fp_0993c4a4c0', 'finish_reason': 'tool_calls', 'logprobs': None}, id='run-08cdee9f-828e-4855-9618-9103a00793a3-0', tool_calls=[{'name': 'tavily_search_results_json', 'args': {'query': 'current weather in Los Angeles'}, 'id': 'call_1wcfOxHjPgXFYhl61nP8uq5Q', 'type': 'tool_call'}], usage_metadata={'input_tokens': 173, 'output_tokens': 22, 'total_tokens': 195})]}, next=('action',), config={'configurable': {'thread_id': '3', 'thread_ts': '1ef4c9fd-d9d3-6b26-8001-1a5cebabab97'}}, metadata={'source': 'loop', 'writes': {'llm': {'messages': [AIMessage(content='', additional_kwargs={'tool_calls': [{'id': 'call_1wcfOxHjPgXFYhl61nP8uq5Q', 'function': {'arguments': '{\"query\":\"current weather in Los Angeles\"}', 'name': 'tavily_search_results_json'}, 'type': 'function'}]}, response_metadata={'token_usage': {'completion_tokens': 22, 'prompt_tokens': 173, 'total_tokens': 195}, 'model_name': 'gpt-4-turbo-2024-04-09', 'system_fingerprint': 'fp_0993c4a4c0', 'finish_reason': 'tool_calls', 'logprobs': None}, id='run-08cdee9f-828e-4855-9618-9103a00793a3-0', tool_calls=[{'name': 'tavily_search_results_json', 'args': {'query': 'current weather in Los Angeles'}, 'id': 'call_1wcfOxHjPgXFYhl61nP8uq5Q', 'type': 'tool_call'}], usage_metadata={'input_tokens': 173, 'output_tokens': 22, 'total_tokens': 195})]}}, 'step': 1}, created_at='2024-07-28T05:11:37.335467+00:00', parent_config={'configurable': {'thread_id': '3', 'thread_ts': '1ef4c9fd-c792-64a8-8000-2c33249d1057'}})"
      ]
     },
     "execution_count": 14,
     "metadata": {},
     "output_type": "execute_result"
    }
   ],
   "execution_count": 14
  },
  {
   "metadata": {
    "ExecuteTime": {
     "end_time": "2024-07-28T05:12:17.974596Z",
     "start_time": "2024-07-28T05:12:17.967344Z"
    }
   },
   "cell_type": "code",
   "source": "current_values = abot.graph.get_state(thread)",
   "id": "1db35fb598bde731",
   "outputs": [],
   "execution_count": 15
  },
  {
   "metadata": {
    "ExecuteTime": {
     "end_time": "2024-07-28T05:12:26.117446Z",
     "start_time": "2024-07-28T05:12:26.112723Z"
    }
   },
   "cell_type": "code",
   "source": "current_values.values['messages'][-1]",
   "id": "cb9ae955a8404af6",
   "outputs": [
    {
     "data": {
      "text/plain": [
       "AIMessage(content='', additional_kwargs={'tool_calls': [{'id': 'call_1wcfOxHjPgXFYhl61nP8uq5Q', 'function': {'arguments': '{\"query\":\"current weather in Los Angeles\"}', 'name': 'tavily_search_results_json'}, 'type': 'function'}]}, response_metadata={'token_usage': {'completion_tokens': 22, 'prompt_tokens': 173, 'total_tokens': 195}, 'model_name': 'gpt-4-turbo-2024-04-09', 'system_fingerprint': 'fp_0993c4a4c0', 'finish_reason': 'tool_calls', 'logprobs': None}, id='run-08cdee9f-828e-4855-9618-9103a00793a3-0', tool_calls=[{'name': 'tavily_search_results_json', 'args': {'query': 'current weather in Los Angeles'}, 'id': 'call_1wcfOxHjPgXFYhl61nP8uq5Q', 'type': 'tool_call'}], usage_metadata={'input_tokens': 173, 'output_tokens': 22, 'total_tokens': 195})"
      ]
     },
     "execution_count": 16,
     "metadata": {},
     "output_type": "execute_result"
    }
   ],
   "execution_count": 16
  },
  {
   "metadata": {
    "ExecuteTime": {
     "end_time": "2024-07-28T05:12:53.773533Z",
     "start_time": "2024-07-28T05:12:53.766250Z"
    }
   },
   "cell_type": "code",
   "source": "current_values.values['messages'][-1].tool_calls",
   "id": "686be3546f06a02c",
   "outputs": [
    {
     "data": {
      "text/plain": [
       "[{'name': 'tavily_search_results_json',\n",
       "  'args': {'query': 'current weather in Los Angeles'},\n",
       "  'id': 'call_1wcfOxHjPgXFYhl61nP8uq5Q',\n",
       "  'type': 'tool_call'}]"
      ]
     },
     "execution_count": 17,
     "metadata": {},
     "output_type": "execute_result"
    }
   ],
   "execution_count": 17
  },
  {
   "metadata": {
    "ExecuteTime": {
     "end_time": "2024-07-28T05:13:34.241009Z",
     "start_time": "2024-07-28T05:13:34.234998Z"
    }
   },
   "cell_type": "code",
   "source": [
    "_id = current_values.values['messages'][-1].tool_calls[0]['id']\n",
    "current_values.values['messages'][-1].tool_calls = [\n",
    "    {'name': 'tavily_search_results_json',\n",
    "  'args': {'query': 'current weather in Louisiana'},\n",
    "  'id': _id}\n",
    "]"
   ],
   "id": "6c2c5a5187c9fec9",
   "outputs": [],
   "execution_count": 18
  },
  {
   "metadata": {
    "ExecuteTime": {
     "end_time": "2024-07-28T05:13:41.745703Z",
     "start_time": "2024-07-28T05:13:41.734003Z"
    }
   },
   "cell_type": "code",
   "source": "abot.graph.update_state(thread, current_values.values)",
   "id": "74c2ab39f669feaf",
   "outputs": [
    {
     "name": "stdout",
     "output_type": "stream",
     "text": [
      "{'messages': [HumanMessage(content='Whats the weather in LA?', id='d9b0e27a-7d24-4f4b-b326-1b969d798f4e'), AIMessage(content='', additional_kwargs={'tool_calls': [{'id': 'call_1wcfOxHjPgXFYhl61nP8uq5Q', 'function': {'arguments': '{\"query\":\"current weather in Los Angeles\"}', 'name': 'tavily_search_results_json'}, 'type': 'function'}]}, response_metadata={'token_usage': {'completion_tokens': 22, 'prompt_tokens': 173, 'total_tokens': 195}, 'model_name': 'gpt-4-turbo-2024-04-09', 'system_fingerprint': 'fp_0993c4a4c0', 'finish_reason': 'tool_calls', 'logprobs': None}, id='run-08cdee9f-828e-4855-9618-9103a00793a3-0', tool_calls=[{'name': 'tavily_search_results_json', 'args': {'query': 'current weather in Louisiana'}, 'id': 'call_1wcfOxHjPgXFYhl61nP8uq5Q'}], usage_metadata={'input_tokens': 173, 'output_tokens': 22, 'total_tokens': 195})]}\n"
     ]
    },
    {
     "data": {
      "text/plain": [
       "{'configurable': {'thread_id': '3',\n",
       "  'thread_ts': '1ef4ca02-7c44-641a-8002-d92215956bdb'}}"
      ]
     },
     "execution_count": 19,
     "metadata": {},
     "output_type": "execute_result"
    }
   ],
   "execution_count": 19
  },
  {
   "metadata": {
    "ExecuteTime": {
     "end_time": "2024-07-28T05:13:52.843408Z",
     "start_time": "2024-07-28T05:13:52.838248Z"
    }
   },
   "cell_type": "code",
   "source": "abot.graph.get_state(thread)",
   "id": "cc8aa07e2fd92a4b",
   "outputs": [
    {
     "data": {
      "text/plain": [
       "StateSnapshot(values={'messages': [HumanMessage(content='Whats the weather in LA?', id='d9b0e27a-7d24-4f4b-b326-1b969d798f4e'), AIMessage(content='', additional_kwargs={'tool_calls': [{'id': 'call_1wcfOxHjPgXFYhl61nP8uq5Q', 'function': {'arguments': '{\"query\":\"current weather in Los Angeles\"}', 'name': 'tavily_search_results_json'}, 'type': 'function'}]}, response_metadata={'token_usage': {'completion_tokens': 22, 'prompt_tokens': 173, 'total_tokens': 195}, 'model_name': 'gpt-4-turbo-2024-04-09', 'system_fingerprint': 'fp_0993c4a4c0', 'finish_reason': 'tool_calls', 'logprobs': None}, id='run-08cdee9f-828e-4855-9618-9103a00793a3-0', tool_calls=[{'name': 'tavily_search_results_json', 'args': {'query': 'current weather in Louisiana'}, 'id': 'call_1wcfOxHjPgXFYhl61nP8uq5Q', 'type': 'tool_call'}], usage_metadata={'input_tokens': 173, 'output_tokens': 22, 'total_tokens': 195})]}, next=('action',), config={'configurable': {'thread_id': '3', 'thread_ts': '1ef4ca02-7c44-641a-8002-d92215956bdb'}}, metadata={'source': 'update', 'step': 2, 'writes': {'llm': {'messages': [HumanMessage(content='Whats the weather in LA?', id='d9b0e27a-7d24-4f4b-b326-1b969d798f4e'), AIMessage(content='', additional_kwargs={'tool_calls': [{'id': 'call_1wcfOxHjPgXFYhl61nP8uq5Q', 'function': {'arguments': '{\"query\":\"current weather in Los Angeles\"}', 'name': 'tavily_search_results_json'}, 'type': 'function'}]}, response_metadata={'token_usage': {'completion_tokens': 22, 'prompt_tokens': 173, 'total_tokens': 195}, 'model_name': 'gpt-4-turbo-2024-04-09', 'system_fingerprint': 'fp_0993c4a4c0', 'finish_reason': 'tool_calls', 'logprobs': None}, id='run-08cdee9f-828e-4855-9618-9103a00793a3-0', tool_calls=[{'name': 'tavily_search_results_json', 'args': {'query': 'current weather in Louisiana'}, 'id': 'call_1wcfOxHjPgXFYhl61nP8uq5Q', 'type': 'tool_call'}], usage_metadata={'input_tokens': 173, 'output_tokens': 22, 'total_tokens': 195})]}}}, created_at='2024-07-28T05:13:41.742682+00:00', parent_config={'configurable': {'thread_id': '3', 'thread_ts': '1ef4c9fd-d9d3-6b26-8001-1a5cebabab97'}})"
      ]
     },
     "execution_count": 20,
     "metadata": {},
     "output_type": "execute_result"
    }
   ],
   "execution_count": 20
  },
  {
   "metadata": {
    "ExecuteTime": {
     "end_time": "2024-07-28T05:14:07.855693Z",
     "start_time": "2024-07-28T05:14:02.195409Z"
    }
   },
   "cell_type": "code",
   "source": [
    "for event in abot.graph.stream(None, thread):\n",
    "    for v in event.values():\n",
    "        print(v)"
   ],
   "id": "6428b2cd53a938b8",
   "outputs": [
    {
     "name": "stdout",
     "output_type": "stream",
     "text": [
      "Calling: {'name': 'tavily_search_results_json', 'args': {'query': 'current weather in Louisiana'}, 'id': 'call_1wcfOxHjPgXFYhl61nP8uq5Q', 'type': 'tool_call'}\n",
      "Back to the model!\n",
      "{'messages': [ToolMessage(content='[{\\'url\\': \\'https://www.weatherapi.com/\\', \\'content\\': \"{\\'location\\': {\\'name\\': \\'Louisiana\\', \\'region\\': \\'Missouri\\', \\'country\\': \\'USA United States of America\\', \\'lat\\': 39.44, \\'lon\\': -91.06, \\'tz_id\\': \\'America/Chicago\\', \\'localtime_epoch\\': 1722143560, \\'localtime\\': \\'2024-07-28 0:12\\'}, \\'current\\': {\\'last_updated_epoch\\': 1722142800, \\'last_updated\\': \\'2024-07-28 00:00\\', \\'temp_c\\': 21.0, \\'temp_f\\': 69.9, \\'is_day\\': 0, \\'condition\\': {\\'text\\': \\'Patchy rain nearby\\', \\'icon\\': \\'//cdn.weatherapi.com/weather/64x64/night/176.png\\', \\'code\\': 1063}, \\'wind_mph\\': 9.6, \\'wind_kph\\': 15.5, \\'wind_degree\\': 140, \\'wind_dir\\': \\'SE\\', \\'pressure_mb\\': 1015.0, \\'pressure_in\\': 29.96, \\'precip_mm\\': 0.01, \\'precip_in\\': 0.0, \\'humidity\\': 97, \\'cloud\\': 77, \\'feelslike_c\\': 21.0, \\'feelslike_f\\': 69.9, \\'windchill_c\\': 21.0, \\'windchill_f\\': 69.9, \\'heatindex_c\\': 22.5, \\'heatindex_f\\': 72.6, \\'dewpoint_c\\': 20.6, \\'dewpoint_f\\': 69.1, \\'vis_km\\': 10.0, \\'vis_miles\\': 6.0, \\'uv\\': 1.0, \\'gust_mph\\': 18.1, \\'gust_kph\\': 29.2}}\"}, {\\'url\\': \\'https://forecast.weather.gov/MapClick.php?site=LCH&textField1=30.5247&textField2=-92.0835&e=0\\', \\'content\\': \\'Current Weather; Watches and Warnings; Severe Wx Outlooks; Marine Forecast; Tide Data; AHPS; ... Opelousas LA 30.52°N 92.07°W. Last Update: 12:45 am CDT Jul 22, 2024. Forecast Valid: 1am CDT Jul 22, 2024-6pm CDT Jul 28, 2024 . Forecast Discussion . Additional Resources. Radar & Satellite Image. Hourly Weather Forecast. National Digital ...\\'}]', name='tavily_search_results_json', tool_call_id='call_1wcfOxHjPgXFYhl61nP8uq5Q')]}\n",
      "{'messages': [HumanMessage(content='Whats the weather in LA?', id='d9b0e27a-7d24-4f4b-b326-1b969d798f4e'), AIMessage(content='', additional_kwargs={'tool_calls': [{'id': 'call_1wcfOxHjPgXFYhl61nP8uq5Q', 'function': {'arguments': '{\"query\":\"current weather in Los Angeles\"}', 'name': 'tavily_search_results_json'}, 'type': 'function'}]}, response_metadata={'token_usage': {'completion_tokens': 22, 'prompt_tokens': 173, 'total_tokens': 195}, 'model_name': 'gpt-4-turbo-2024-04-09', 'system_fingerprint': 'fp_0993c4a4c0', 'finish_reason': 'tool_calls', 'logprobs': None}, id='run-08cdee9f-828e-4855-9618-9103a00793a3-0', tool_calls=[{'name': 'tavily_search_results_json', 'args': {'query': 'current weather in Louisiana'}, 'id': 'call_1wcfOxHjPgXFYhl61nP8uq5Q', 'type': 'tool_call'}], usage_metadata={'input_tokens': 173, 'output_tokens': 22, 'total_tokens': 195}), ToolMessage(content='[{\\'url\\': \\'https://www.weatherapi.com/\\', \\'content\\': \"{\\'location\\': {\\'name\\': \\'Louisiana\\', \\'region\\': \\'Missouri\\', \\'country\\': \\'USA United States of America\\', \\'lat\\': 39.44, \\'lon\\': -91.06, \\'tz_id\\': \\'America/Chicago\\', \\'localtime_epoch\\': 1722143560, \\'localtime\\': \\'2024-07-28 0:12\\'}, \\'current\\': {\\'last_updated_epoch\\': 1722142800, \\'last_updated\\': \\'2024-07-28 00:00\\', \\'temp_c\\': 21.0, \\'temp_f\\': 69.9, \\'is_day\\': 0, \\'condition\\': {\\'text\\': \\'Patchy rain nearby\\', \\'icon\\': \\'//cdn.weatherapi.com/weather/64x64/night/176.png\\', \\'code\\': 1063}, \\'wind_mph\\': 9.6, \\'wind_kph\\': 15.5, \\'wind_degree\\': 140, \\'wind_dir\\': \\'SE\\', \\'pressure_mb\\': 1015.0, \\'pressure_in\\': 29.96, \\'precip_mm\\': 0.01, \\'precip_in\\': 0.0, \\'humidity\\': 97, \\'cloud\\': 77, \\'feelslike_c\\': 21.0, \\'feelslike_f\\': 69.9, \\'windchill_c\\': 21.0, \\'windchill_f\\': 69.9, \\'heatindex_c\\': 22.5, \\'heatindex_f\\': 72.6, \\'dewpoint_c\\': 20.6, \\'dewpoint_f\\': 69.1, \\'vis_km\\': 10.0, \\'vis_miles\\': 6.0, \\'uv\\': 1.0, \\'gust_mph\\': 18.1, \\'gust_kph\\': 29.2}}\"}, {\\'url\\': \\'https://forecast.weather.gov/MapClick.php?site=LCH&textField1=30.5247&textField2=-92.0835&e=0\\', \\'content\\': \\'Current Weather; Watches and Warnings; Severe Wx Outlooks; Marine Forecast; Tide Data; AHPS; ... Opelousas LA 30.52°N 92.07°W. Last Update: 12:45 am CDT Jul 22, 2024. Forecast Valid: 1am CDT Jul 22, 2024-6pm CDT Jul 28, 2024 . Forecast Discussion . Additional Resources. Radar & Satellite Image. Hourly Weather Forecast. National Digital ...\\'}]', name='tavily_search_results_json', id='21b9848c-9bdb-4a00-a7d7-3a8e0e305106', tool_call_id='call_1wcfOxHjPgXFYhl61nP8uq5Q'), AIMessage(content='The current weather in Louisiana (LA) is showing patchy rain nearby with a temperature of approximately 69.9°F (21°C). The wind is coming from the southeast at about 9.6 mph, and the humidity is high at 97%.', response_metadata={'token_usage': {'completion_tokens': 53, 'prompt_tokens': 766, 'total_tokens': 819}, 'model_name': 'gpt-4-turbo-2024-04-09', 'system_fingerprint': 'fp_0993c4a4c0', 'finish_reason': 'stop', 'logprobs': None}, id='run-b2668ece-d4c3-45a4-99be-76c391270b84-0', usage_metadata={'input_tokens': 766, 'output_tokens': 53, 'total_tokens': 819})]}\n",
      "{'messages': [AIMessage(content='The current weather in Louisiana (LA) is showing patchy rain nearby with a temperature of approximately 69.9°F (21°C). The wind is coming from the southeast at about 9.6 mph, and the humidity is high at 97%.', response_metadata={'token_usage': {'completion_tokens': 53, 'prompt_tokens': 766, 'total_tokens': 819}, 'model_name': 'gpt-4-turbo-2024-04-09', 'system_fingerprint': 'fp_0993c4a4c0', 'finish_reason': 'stop', 'logprobs': None}, id='run-b2668ece-d4c3-45a4-99be-76c391270b84-0', usage_metadata={'input_tokens': 766, 'output_tokens': 53, 'total_tokens': 819})]}\n"
     ]
    }
   ],
   "execution_count": 21
  },
  {
   "metadata": {
    "ExecuteTime": {
     "end_time": "2024-07-28T05:15:44.791370Z",
     "start_time": "2024-07-28T05:15:44.778488Z"
    }
   },
   "cell_type": "code",
   "source": [
    "states = []\n",
    "for state in abot.graph.get_state_history(thread):\n",
    "    print(state)\n",
    "    print('--')\n",
    "    states.append(state)"
   ],
   "id": "d2d21fe9791673b1",
   "outputs": [
    {
     "name": "stdout",
     "output_type": "stream",
     "text": [
      "StateSnapshot(values={'messages': [HumanMessage(content='Whats the weather in LA?', id='d9b0e27a-7d24-4f4b-b326-1b969d798f4e'), AIMessage(content='', additional_kwargs={'tool_calls': [{'id': 'call_1wcfOxHjPgXFYhl61nP8uq5Q', 'function': {'arguments': '{\"query\":\"current weather in Los Angeles\"}', 'name': 'tavily_search_results_json'}, 'type': 'function'}]}, response_metadata={'token_usage': {'completion_tokens': 22, 'prompt_tokens': 173, 'total_tokens': 195}, 'model_name': 'gpt-4-turbo-2024-04-09', 'system_fingerprint': 'fp_0993c4a4c0', 'finish_reason': 'tool_calls', 'logprobs': None}, id='run-08cdee9f-828e-4855-9618-9103a00793a3-0', tool_calls=[{'name': 'tavily_search_results_json', 'args': {'query': 'current weather in Louisiana'}, 'id': 'call_1wcfOxHjPgXFYhl61nP8uq5Q', 'type': 'tool_call'}], usage_metadata={'input_tokens': 173, 'output_tokens': 22, 'total_tokens': 195}), ToolMessage(content='[{\\'url\\': \\'https://www.weatherapi.com/\\', \\'content\\': \"{\\'location\\': {\\'name\\': \\'Louisiana\\', \\'region\\': \\'Missouri\\', \\'country\\': \\'USA United States of America\\', \\'lat\\': 39.44, \\'lon\\': -91.06, \\'tz_id\\': \\'America/Chicago\\', \\'localtime_epoch\\': 1722143560, \\'localtime\\': \\'2024-07-28 0:12\\'}, \\'current\\': {\\'last_updated_epoch\\': 1722142800, \\'last_updated\\': \\'2024-07-28 00:00\\', \\'temp_c\\': 21.0, \\'temp_f\\': 69.9, \\'is_day\\': 0, \\'condition\\': {\\'text\\': \\'Patchy rain nearby\\', \\'icon\\': \\'//cdn.weatherapi.com/weather/64x64/night/176.png\\', \\'code\\': 1063}, \\'wind_mph\\': 9.6, \\'wind_kph\\': 15.5, \\'wind_degree\\': 140, \\'wind_dir\\': \\'SE\\', \\'pressure_mb\\': 1015.0, \\'pressure_in\\': 29.96, \\'precip_mm\\': 0.01, \\'precip_in\\': 0.0, \\'humidity\\': 97, \\'cloud\\': 77, \\'feelslike_c\\': 21.0, \\'feelslike_f\\': 69.9, \\'windchill_c\\': 21.0, \\'windchill_f\\': 69.9, \\'heatindex_c\\': 22.5, \\'heatindex_f\\': 72.6, \\'dewpoint_c\\': 20.6, \\'dewpoint_f\\': 69.1, \\'vis_km\\': 10.0, \\'vis_miles\\': 6.0, \\'uv\\': 1.0, \\'gust_mph\\': 18.1, \\'gust_kph\\': 29.2}}\"}, {\\'url\\': \\'https://forecast.weather.gov/MapClick.php?site=LCH&textField1=30.5247&textField2=-92.0835&e=0\\', \\'content\\': \\'Current Weather; Watches and Warnings; Severe Wx Outlooks; Marine Forecast; Tide Data; AHPS; ... Opelousas LA 30.52°N 92.07°W. Last Update: 12:45 am CDT Jul 22, 2024. Forecast Valid: 1am CDT Jul 22, 2024-6pm CDT Jul 28, 2024 . Forecast Discussion . Additional Resources. Radar & Satellite Image. Hourly Weather Forecast. National Digital ...\\'}]', name='tavily_search_results_json', id='21b9848c-9bdb-4a00-a7d7-3a8e0e305106', tool_call_id='call_1wcfOxHjPgXFYhl61nP8uq5Q'), AIMessage(content='The current weather in Louisiana (LA) is showing patchy rain nearby with a temperature of approximately 69.9°F (21°C). The wind is coming from the southeast at about 9.6 mph, and the humidity is high at 97%.', response_metadata={'token_usage': {'completion_tokens': 53, 'prompt_tokens': 766, 'total_tokens': 819}, 'model_name': 'gpt-4-turbo-2024-04-09', 'system_fingerprint': 'fp_0993c4a4c0', 'finish_reason': 'stop', 'logprobs': None}, id='run-b2668ece-d4c3-45a4-99be-76c391270b84-0', usage_metadata={'input_tokens': 766, 'output_tokens': 53, 'total_tokens': 819})]}, next=(), config={'configurable': {'thread_id': '3', 'thread_ts': '1ef4ca03-7544-6b3c-8004-8e5d1f84f8c0'}}, metadata={'source': 'loop', 'writes': {'llm': {'messages': [AIMessage(content='The current weather in Louisiana (LA) is showing patchy rain nearby with a temperature of approximately 69.9°F (21°C). The wind is coming from the southeast at about 9.6 mph, and the humidity is high at 97%.', response_metadata={'token_usage': {'completion_tokens': 53, 'prompt_tokens': 766, 'total_tokens': 819}, 'model_name': 'gpt-4-turbo-2024-04-09', 'system_fingerprint': 'fp_0993c4a4c0', 'finish_reason': 'stop', 'logprobs': None}, id='run-b2668ece-d4c3-45a4-99be-76c391270b84-0', usage_metadata={'input_tokens': 766, 'output_tokens': 53, 'total_tokens': 819})]}}, 'step': 4}, created_at='2024-07-28T05:14:07.852393+00:00', parent_config={'configurable': {'thread_id': '3', 'thread_ts': '1ef4ca03-5bf9-63da-8003-56200949991d'}})\n",
      "--\n",
      "StateSnapshot(values={'messages': [HumanMessage(content='Whats the weather in LA?', id='d9b0e27a-7d24-4f4b-b326-1b969d798f4e'), AIMessage(content='', additional_kwargs={'tool_calls': [{'id': 'call_1wcfOxHjPgXFYhl61nP8uq5Q', 'function': {'arguments': '{\"query\":\"current weather in Los Angeles\"}', 'name': 'tavily_search_results_json'}, 'type': 'function'}]}, response_metadata={'token_usage': {'completion_tokens': 22, 'prompt_tokens': 173, 'total_tokens': 195}, 'model_name': 'gpt-4-turbo-2024-04-09', 'system_fingerprint': 'fp_0993c4a4c0', 'finish_reason': 'tool_calls', 'logprobs': None}, id='run-08cdee9f-828e-4855-9618-9103a00793a3-0', tool_calls=[{'name': 'tavily_search_results_json', 'args': {'query': 'current weather in Louisiana'}, 'id': 'call_1wcfOxHjPgXFYhl61nP8uq5Q', 'type': 'tool_call'}], usage_metadata={'input_tokens': 173, 'output_tokens': 22, 'total_tokens': 195}), ToolMessage(content='[{\\'url\\': \\'https://www.weatherapi.com/\\', \\'content\\': \"{\\'location\\': {\\'name\\': \\'Louisiana\\', \\'region\\': \\'Missouri\\', \\'country\\': \\'USA United States of America\\', \\'lat\\': 39.44, \\'lon\\': -91.06, \\'tz_id\\': \\'America/Chicago\\', \\'localtime_epoch\\': 1722143560, \\'localtime\\': \\'2024-07-28 0:12\\'}, \\'current\\': {\\'last_updated_epoch\\': 1722142800, \\'last_updated\\': \\'2024-07-28 00:00\\', \\'temp_c\\': 21.0, \\'temp_f\\': 69.9, \\'is_day\\': 0, \\'condition\\': {\\'text\\': \\'Patchy rain nearby\\', \\'icon\\': \\'//cdn.weatherapi.com/weather/64x64/night/176.png\\', \\'code\\': 1063}, \\'wind_mph\\': 9.6, \\'wind_kph\\': 15.5, \\'wind_degree\\': 140, \\'wind_dir\\': \\'SE\\', \\'pressure_mb\\': 1015.0, \\'pressure_in\\': 29.96, \\'precip_mm\\': 0.01, \\'precip_in\\': 0.0, \\'humidity\\': 97, \\'cloud\\': 77, \\'feelslike_c\\': 21.0, \\'feelslike_f\\': 69.9, \\'windchill_c\\': 21.0, \\'windchill_f\\': 69.9, \\'heatindex_c\\': 22.5, \\'heatindex_f\\': 72.6, \\'dewpoint_c\\': 20.6, \\'dewpoint_f\\': 69.1, \\'vis_km\\': 10.0, \\'vis_miles\\': 6.0, \\'uv\\': 1.0, \\'gust_mph\\': 18.1, \\'gust_kph\\': 29.2}}\"}, {\\'url\\': \\'https://forecast.weather.gov/MapClick.php?site=LCH&textField1=30.5247&textField2=-92.0835&e=0\\', \\'content\\': \\'Current Weather; Watches and Warnings; Severe Wx Outlooks; Marine Forecast; Tide Data; AHPS; ... Opelousas LA 30.52°N 92.07°W. Last Update: 12:45 am CDT Jul 22, 2024. Forecast Valid: 1am CDT Jul 22, 2024-6pm CDT Jul 28, 2024 . Forecast Discussion . Additional Resources. Radar & Satellite Image. Hourly Weather Forecast. National Digital ...\\'}]', name='tavily_search_results_json', id='21b9848c-9bdb-4a00-a7d7-3a8e0e305106', tool_call_id='call_1wcfOxHjPgXFYhl61nP8uq5Q')]}, next=('llm',), config={'configurable': {'thread_id': '3', 'thread_ts': '1ef4ca03-5bf9-63da-8003-56200949991d'}}, metadata={'source': 'loop', 'writes': {'action': {'messages': [ToolMessage(content='[{\\'url\\': \\'https://www.weatherapi.com/\\', \\'content\\': \"{\\'location\\': {\\'name\\': \\'Louisiana\\', \\'region\\': \\'Missouri\\', \\'country\\': \\'USA United States of America\\', \\'lat\\': 39.44, \\'lon\\': -91.06, \\'tz_id\\': \\'America/Chicago\\', \\'localtime_epoch\\': 1722143560, \\'localtime\\': \\'2024-07-28 0:12\\'}, \\'current\\': {\\'last_updated_epoch\\': 1722142800, \\'last_updated\\': \\'2024-07-28 00:00\\', \\'temp_c\\': 21.0, \\'temp_f\\': 69.9, \\'is_day\\': 0, \\'condition\\': {\\'text\\': \\'Patchy rain nearby\\', \\'icon\\': \\'//cdn.weatherapi.com/weather/64x64/night/176.png\\', \\'code\\': 1063}, \\'wind_mph\\': 9.6, \\'wind_kph\\': 15.5, \\'wind_degree\\': 140, \\'wind_dir\\': \\'SE\\', \\'pressure_mb\\': 1015.0, \\'pressure_in\\': 29.96, \\'precip_mm\\': 0.01, \\'precip_in\\': 0.0, \\'humidity\\': 97, \\'cloud\\': 77, \\'feelslike_c\\': 21.0, \\'feelslike_f\\': 69.9, \\'windchill_c\\': 21.0, \\'windchill_f\\': 69.9, \\'heatindex_c\\': 22.5, \\'heatindex_f\\': 72.6, \\'dewpoint_c\\': 20.6, \\'dewpoint_f\\': 69.1, \\'vis_km\\': 10.0, \\'vis_miles\\': 6.0, \\'uv\\': 1.0, \\'gust_mph\\': 18.1, \\'gust_kph\\': 29.2}}\"}, {\\'url\\': \\'https://forecast.weather.gov/MapClick.php?site=LCH&textField1=30.5247&textField2=-92.0835&e=0\\', \\'content\\': \\'Current Weather; Watches and Warnings; Severe Wx Outlooks; Marine Forecast; Tide Data; AHPS; ... Opelousas LA 30.52°N 92.07°W. Last Update: 12:45 am CDT Jul 22, 2024. Forecast Valid: 1am CDT Jul 22, 2024-6pm CDT Jul 28, 2024 . Forecast Discussion . Additional Resources. Radar & Satellite Image. Hourly Weather Forecast. National Digital ...\\'}]', name='tavily_search_results_json', id='21b9848c-9bdb-4a00-a7d7-3a8e0e305106', tool_call_id='call_1wcfOxHjPgXFYhl61nP8uq5Q')]}}, 'step': 3}, created_at='2024-07-28T05:14:05.200052+00:00', parent_config={'configurable': {'thread_id': '3', 'thread_ts': '1ef4ca02-7c44-641a-8002-d92215956bdb'}})\n",
      "--\n",
      "StateSnapshot(values={'messages': [HumanMessage(content='Whats the weather in LA?', id='d9b0e27a-7d24-4f4b-b326-1b969d798f4e'), AIMessage(content='', additional_kwargs={'tool_calls': [{'id': 'call_1wcfOxHjPgXFYhl61nP8uq5Q', 'function': {'arguments': '{\"query\":\"current weather in Los Angeles\"}', 'name': 'tavily_search_results_json'}, 'type': 'function'}]}, response_metadata={'token_usage': {'completion_tokens': 22, 'prompt_tokens': 173, 'total_tokens': 195}, 'model_name': 'gpt-4-turbo-2024-04-09', 'system_fingerprint': 'fp_0993c4a4c0', 'finish_reason': 'tool_calls', 'logprobs': None}, id='run-08cdee9f-828e-4855-9618-9103a00793a3-0', tool_calls=[{'name': 'tavily_search_results_json', 'args': {'query': 'current weather in Louisiana'}, 'id': 'call_1wcfOxHjPgXFYhl61nP8uq5Q', 'type': 'tool_call'}], usage_metadata={'input_tokens': 173, 'output_tokens': 22, 'total_tokens': 195})]}, next=('action',), config={'configurable': {'thread_id': '3', 'thread_ts': '1ef4ca02-7c44-641a-8002-d92215956bdb'}}, metadata={'source': 'update', 'step': 2, 'writes': {'llm': {'messages': [HumanMessage(content='Whats the weather in LA?', id='d9b0e27a-7d24-4f4b-b326-1b969d798f4e'), AIMessage(content='', additional_kwargs={'tool_calls': [{'id': 'call_1wcfOxHjPgXFYhl61nP8uq5Q', 'function': {'arguments': '{\"query\":\"current weather in Los Angeles\"}', 'name': 'tavily_search_results_json'}, 'type': 'function'}]}, response_metadata={'token_usage': {'completion_tokens': 22, 'prompt_tokens': 173, 'total_tokens': 195}, 'model_name': 'gpt-4-turbo-2024-04-09', 'system_fingerprint': 'fp_0993c4a4c0', 'finish_reason': 'tool_calls', 'logprobs': None}, id='run-08cdee9f-828e-4855-9618-9103a00793a3-0', tool_calls=[{'name': 'tavily_search_results_json', 'args': {'query': 'current weather in Louisiana'}, 'id': 'call_1wcfOxHjPgXFYhl61nP8uq5Q', 'type': 'tool_call'}], usage_metadata={'input_tokens': 173, 'output_tokens': 22, 'total_tokens': 195})]}}}, created_at='2024-07-28T05:13:41.742682+00:00', parent_config={'configurable': {'thread_id': '3', 'thread_ts': '1ef4c9fd-d9d3-6b26-8001-1a5cebabab97'}})\n",
      "--\n",
      "StateSnapshot(values={'messages': [HumanMessage(content='Whats the weather in LA?', id='d9b0e27a-7d24-4f4b-b326-1b969d798f4e'), AIMessage(content='', additional_kwargs={'tool_calls': [{'id': 'call_1wcfOxHjPgXFYhl61nP8uq5Q', 'function': {'arguments': '{\"query\":\"current weather in Los Angeles\"}', 'name': 'tavily_search_results_json'}, 'type': 'function'}]}, response_metadata={'token_usage': {'completion_tokens': 22, 'prompt_tokens': 173, 'total_tokens': 195}, 'model_name': 'gpt-4-turbo-2024-04-09', 'system_fingerprint': 'fp_0993c4a4c0', 'finish_reason': 'tool_calls', 'logprobs': None}, id='run-08cdee9f-828e-4855-9618-9103a00793a3-0', tool_calls=[{'name': 'tavily_search_results_json', 'args': {'query': 'current weather in Los Angeles'}, 'id': 'call_1wcfOxHjPgXFYhl61nP8uq5Q', 'type': 'tool_call'}], usage_metadata={'input_tokens': 173, 'output_tokens': 22, 'total_tokens': 195})]}, next=('action',), config={'configurable': {'thread_id': '3', 'thread_ts': '1ef4c9fd-d9d3-6b26-8001-1a5cebabab97'}}, metadata={'source': 'loop', 'writes': {'llm': {'messages': [AIMessage(content='', additional_kwargs={'tool_calls': [{'id': 'call_1wcfOxHjPgXFYhl61nP8uq5Q', 'function': {'arguments': '{\"query\":\"current weather in Los Angeles\"}', 'name': 'tavily_search_results_json'}, 'type': 'function'}]}, response_metadata={'token_usage': {'completion_tokens': 22, 'prompt_tokens': 173, 'total_tokens': 195}, 'model_name': 'gpt-4-turbo-2024-04-09', 'system_fingerprint': 'fp_0993c4a4c0', 'finish_reason': 'tool_calls', 'logprobs': None}, id='run-08cdee9f-828e-4855-9618-9103a00793a3-0', tool_calls=[{'name': 'tavily_search_results_json', 'args': {'query': 'current weather in Los Angeles'}, 'id': 'call_1wcfOxHjPgXFYhl61nP8uq5Q', 'type': 'tool_call'}], usage_metadata={'input_tokens': 173, 'output_tokens': 22, 'total_tokens': 195})]}}, 'step': 1}, created_at='2024-07-28T05:11:37.335467+00:00', parent_config={'configurable': {'thread_id': '3', 'thread_ts': '1ef4c9fd-c792-64a8-8000-2c33249d1057'}})\n",
      "--\n",
      "StateSnapshot(values={'messages': [HumanMessage(content='Whats the weather in LA?', id='d9b0e27a-7d24-4f4b-b326-1b969d798f4e')]}, next=('llm',), config={'configurable': {'thread_id': '3', 'thread_ts': '1ef4c9fd-c792-64a8-8000-2c33249d1057'}}, metadata={'source': 'loop', 'writes': None, 'step': 0}, created_at='2024-07-28T05:11:35.421240+00:00', parent_config={'configurable': {'thread_id': '3', 'thread_ts': '1ef4c9fd-c78e-6704-bfff-7c95064fd28a'}})\n",
      "--\n",
      "StateSnapshot(values={'messages': []}, next=('__start__',), config={'configurable': {'thread_id': '3', 'thread_ts': '1ef4c9fd-c78e-6704-bfff-7c95064fd28a'}}, metadata={'source': 'input', 'writes': {'messages': [HumanMessage(content='Whats the weather in LA?')]}, 'step': -1}, created_at='2024-07-28T05:11:35.419639+00:00', parent_config=None)\n",
      "--\n"
     ]
    }
   ],
   "execution_count": 22
  },
  {
   "metadata": {
    "ExecuteTime": {
     "end_time": "2024-07-28T05:15:56.349959Z",
     "start_time": "2024-07-28T05:15:56.346914Z"
    }
   },
   "cell_type": "code",
   "source": "to_replay = states[-3]",
   "id": "af68f28eee19625e",
   "outputs": [],
   "execution_count": 23
  },
  {
   "metadata": {
    "ExecuteTime": {
     "end_time": "2024-07-28T05:16:01.266988Z",
     "start_time": "2024-07-28T05:16:01.262438Z"
    }
   },
   "cell_type": "code",
   "source": "to_replay",
   "id": "db0588a3a5e2cd36",
   "outputs": [
    {
     "data": {
      "text/plain": [
       "StateSnapshot(values={'messages': [HumanMessage(content='Whats the weather in LA?', id='d9b0e27a-7d24-4f4b-b326-1b969d798f4e'), AIMessage(content='', additional_kwargs={'tool_calls': [{'id': 'call_1wcfOxHjPgXFYhl61nP8uq5Q', 'function': {'arguments': '{\"query\":\"current weather in Los Angeles\"}', 'name': 'tavily_search_results_json'}, 'type': 'function'}]}, response_metadata={'token_usage': {'completion_tokens': 22, 'prompt_tokens': 173, 'total_tokens': 195}, 'model_name': 'gpt-4-turbo-2024-04-09', 'system_fingerprint': 'fp_0993c4a4c0', 'finish_reason': 'tool_calls', 'logprobs': None}, id='run-08cdee9f-828e-4855-9618-9103a00793a3-0', tool_calls=[{'name': 'tavily_search_results_json', 'args': {'query': 'current weather in Los Angeles'}, 'id': 'call_1wcfOxHjPgXFYhl61nP8uq5Q', 'type': 'tool_call'}], usage_metadata={'input_tokens': 173, 'output_tokens': 22, 'total_tokens': 195})]}, next=('action',), config={'configurable': {'thread_id': '3', 'thread_ts': '1ef4c9fd-d9d3-6b26-8001-1a5cebabab97'}}, metadata={'source': 'loop', 'writes': {'llm': {'messages': [AIMessage(content='', additional_kwargs={'tool_calls': [{'id': 'call_1wcfOxHjPgXFYhl61nP8uq5Q', 'function': {'arguments': '{\"query\":\"current weather in Los Angeles\"}', 'name': 'tavily_search_results_json'}, 'type': 'function'}]}, response_metadata={'token_usage': {'completion_tokens': 22, 'prompt_tokens': 173, 'total_tokens': 195}, 'model_name': 'gpt-4-turbo-2024-04-09', 'system_fingerprint': 'fp_0993c4a4c0', 'finish_reason': 'tool_calls', 'logprobs': None}, id='run-08cdee9f-828e-4855-9618-9103a00793a3-0', tool_calls=[{'name': 'tavily_search_results_json', 'args': {'query': 'current weather in Los Angeles'}, 'id': 'call_1wcfOxHjPgXFYhl61nP8uq5Q', 'type': 'tool_call'}], usage_metadata={'input_tokens': 173, 'output_tokens': 22, 'total_tokens': 195})]}}, 'step': 1}, created_at='2024-07-28T05:11:37.335467+00:00', parent_config={'configurable': {'thread_id': '3', 'thread_ts': '1ef4c9fd-c792-64a8-8000-2c33249d1057'}})"
      ]
     },
     "execution_count": 24,
     "metadata": {},
     "output_type": "execute_result"
    }
   ],
   "execution_count": 24
  },
  {
   "metadata": {
    "ExecuteTime": {
     "end_time": "2024-07-28T05:16:29.284686Z",
     "start_time": "2024-07-28T05:16:22.169411Z"
    }
   },
   "cell_type": "code",
   "source": [
    "for event in abot.graph.stream(None, to_replay.config):\n",
    "    for k, v in event.items():\n",
    "        print(v)"
   ],
   "id": "6a345467734e21ed",
   "outputs": [
    {
     "name": "stdout",
     "output_type": "stream",
     "text": [
      "Calling: {'name': 'tavily_search_results_json', 'args': {'query': 'current weather in Los Angeles'}, 'id': 'call_1wcfOxHjPgXFYhl61nP8uq5Q', 'type': 'tool_call'}\n",
      "Back to the model!\n",
      "{'messages': [ToolMessage(content='[{\\'url\\': \\'https://www.weatherapi.com/\\', \\'content\\': \"{\\'location\\': {\\'name\\': \\'Los Angeles\\', \\'region\\': \\'California\\', \\'country\\': \\'United States of America\\', \\'lat\\': 34.05, \\'lon\\': -118.24, \\'tz_id\\': \\'America/Los_Angeles\\', \\'localtime_epoch\\': 1722143701, \\'localtime\\': \\'2024-07-27 22:15\\'}, \\'current\\': {\\'last_updated_epoch\\': 1722142800, \\'last_updated\\': \\'2024-07-27 22:00\\', \\'temp_c\\': 22.5, \\'temp_f\\': 72.5, \\'is_day\\': 0, \\'condition\\': {\\'text\\': \\'Clear\\', \\'icon\\': \\'//cdn.weatherapi.com/weather/64x64/night/113.png\\', \\'code\\': 1000}, \\'wind_mph\\': 4.0, \\'wind_kph\\': 6.5, \\'wind_degree\\': 192, \\'wind_dir\\': \\'SSW\\', \\'pressure_mb\\': 1011.0, \\'pressure_in\\': 29.86, \\'precip_mm\\': 0.0, \\'precip_in\\': 0.0, \\'humidity\\': 52, \\'cloud\\': 0, \\'feelslike_c\\': 24.6, \\'feelslike_f\\': 76.3, \\'windchill_c\\': 22.5, \\'windchill_f\\': 72.5, \\'heatindex_c\\': 24.6, \\'heatindex_f\\': 76.3, \\'dewpoint_c\\': 11.9, \\'dewpoint_f\\': 53.5, \\'vis_km\\': 10.0, \\'vis_miles\\': 6.0, \\'uv\\': 1.0, \\'gust_mph\\': 5.1, \\'gust_kph\\': 8.3}}\"}, {\\'url\\': \\'https://forecast.weather.gov/zipcity.php?inputstring=Los Angeles,CA\\', \\'content\\': \\'Los Angeles CA 34.05°N 118.25°W (Elev. 377 ft) Last Update: 3:54 pm PDT Jul 26, 2024. Forecast Valid: 4pm PDT Jul 26, 2024-6pm PDT Aug 1, 2024 . Forecast Discussion . Additional Resources. Radar & Satellite Image. Hourly Weather Forecast. ... Severe Weather ; Current Outlook Maps ; Drought ; Fire Weather ; Fronts/Precipitation Maps ; Current ...\\'}]', name='tavily_search_results_json', tool_call_id='call_1wcfOxHjPgXFYhl61nP8uq5Q')]}\n",
      "{'messages': [HumanMessage(content='Whats the weather in LA?', id='d9b0e27a-7d24-4f4b-b326-1b969d798f4e'), AIMessage(content='', additional_kwargs={'tool_calls': [{'id': 'call_1wcfOxHjPgXFYhl61nP8uq5Q', 'function': {'arguments': '{\"query\":\"current weather in Los Angeles\"}', 'name': 'tavily_search_results_json'}, 'type': 'function'}]}, response_metadata={'token_usage': {'completion_tokens': 22, 'prompt_tokens': 173, 'total_tokens': 195}, 'model_name': 'gpt-4-turbo-2024-04-09', 'system_fingerprint': 'fp_0993c4a4c0', 'finish_reason': 'tool_calls', 'logprobs': None}, id='run-08cdee9f-828e-4855-9618-9103a00793a3-0', tool_calls=[{'name': 'tavily_search_results_json', 'args': {'query': 'current weather in Los Angeles'}, 'id': 'call_1wcfOxHjPgXFYhl61nP8uq5Q', 'type': 'tool_call'}], usage_metadata={'input_tokens': 173, 'output_tokens': 22, 'total_tokens': 195}), ToolMessage(content='[{\\'url\\': \\'https://www.weatherapi.com/\\', \\'content\\': \"{\\'location\\': {\\'name\\': \\'Los Angeles\\', \\'region\\': \\'California\\', \\'country\\': \\'United States of America\\', \\'lat\\': 34.05, \\'lon\\': -118.24, \\'tz_id\\': \\'America/Los_Angeles\\', \\'localtime_epoch\\': 1722143701, \\'localtime\\': \\'2024-07-27 22:15\\'}, \\'current\\': {\\'last_updated_epoch\\': 1722142800, \\'last_updated\\': \\'2024-07-27 22:00\\', \\'temp_c\\': 22.5, \\'temp_f\\': 72.5, \\'is_day\\': 0, \\'condition\\': {\\'text\\': \\'Clear\\', \\'icon\\': \\'//cdn.weatherapi.com/weather/64x64/night/113.png\\', \\'code\\': 1000}, \\'wind_mph\\': 4.0, \\'wind_kph\\': 6.5, \\'wind_degree\\': 192, \\'wind_dir\\': \\'SSW\\', \\'pressure_mb\\': 1011.0, \\'pressure_in\\': 29.86, \\'precip_mm\\': 0.0, \\'precip_in\\': 0.0, \\'humidity\\': 52, \\'cloud\\': 0, \\'feelslike_c\\': 24.6, \\'feelslike_f\\': 76.3, \\'windchill_c\\': 22.5, \\'windchill_f\\': 72.5, \\'heatindex_c\\': 24.6, \\'heatindex_f\\': 76.3, \\'dewpoint_c\\': 11.9, \\'dewpoint_f\\': 53.5, \\'vis_km\\': 10.0, \\'vis_miles\\': 6.0, \\'uv\\': 1.0, \\'gust_mph\\': 5.1, \\'gust_kph\\': 8.3}}\"}, {\\'url\\': \\'https://forecast.weather.gov/zipcity.php?inputstring=Los Angeles,CA\\', \\'content\\': \\'Los Angeles CA 34.05°N 118.25°W (Elev. 377 ft) Last Update: 3:54 pm PDT Jul 26, 2024. Forecast Valid: 4pm PDT Jul 26, 2024-6pm PDT Aug 1, 2024 . Forecast Discussion . Additional Resources. Radar & Satellite Image. Hourly Weather Forecast. ... Severe Weather ; Current Outlook Maps ; Drought ; Fire Weather ; Fronts/Precipitation Maps ; Current ...\\'}]', name='tavily_search_results_json', id='ce9b5283-b126-46e4-a61e-3e5918cd16e1', tool_call_id='call_1wcfOxHjPgXFYhl61nP8uq5Q'), AIMessage(content='The current weather in Los Angeles is clear with a temperature of 72.5°F (22.5°C). The wind is blowing from the south-southwest at 4 mph (6.5 kph). Humidity is at 52%, and the atmospheric pressure is 1011 mb. The weather feels like 76.3°F (24.6°C). There is no precipitation, and visibility is 10 km.', response_metadata={'token_usage': {'completion_tokens': 89, 'prompt_tokens': 750, 'total_tokens': 839}, 'model_name': 'gpt-4-turbo-2024-04-09', 'system_fingerprint': 'fp_0993c4a4c0', 'finish_reason': 'stop', 'logprobs': None}, id='run-952a2e00-d55a-4f43-b0d3-3fd06648eb93-0', usage_metadata={'input_tokens': 750, 'output_tokens': 89, 'total_tokens': 839})]}\n",
      "{'messages': [AIMessage(content='The current weather in Los Angeles is clear with a temperature of 72.5°F (22.5°C). The wind is blowing from the south-southwest at 4 mph (6.5 kph). Humidity is at 52%, and the atmospheric pressure is 1011 mb. The weather feels like 76.3°F (24.6°C). There is no precipitation, and visibility is 10 km.', response_metadata={'token_usage': {'completion_tokens': 89, 'prompt_tokens': 750, 'total_tokens': 839}, 'model_name': 'gpt-4-turbo-2024-04-09', 'system_fingerprint': 'fp_0993c4a4c0', 'finish_reason': 'stop', 'logprobs': None}, id='run-952a2e00-d55a-4f43-b0d3-3fd06648eb93-0', usage_metadata={'input_tokens': 750, 'output_tokens': 89, 'total_tokens': 839})]}\n"
     ]
    }
   ],
   "execution_count": 25
  },
  {
   "metadata": {
    "ExecuteTime": {
     "end_time": "2024-07-28T05:16:59.737536Z",
     "start_time": "2024-07-28T05:16:59.730073Z"
    }
   },
   "cell_type": "code",
   "source": "to_replay",
   "id": "3b756d7cb771183d",
   "outputs": [
    {
     "data": {
      "text/plain": [
       "StateSnapshot(values={'messages': [HumanMessage(content='Whats the weather in LA?', id='d9b0e27a-7d24-4f4b-b326-1b969d798f4e'), AIMessage(content='', additional_kwargs={'tool_calls': [{'id': 'call_1wcfOxHjPgXFYhl61nP8uq5Q', 'function': {'arguments': '{\"query\":\"current weather in Los Angeles\"}', 'name': 'tavily_search_results_json'}, 'type': 'function'}]}, response_metadata={'token_usage': {'completion_tokens': 22, 'prompt_tokens': 173, 'total_tokens': 195}, 'model_name': 'gpt-4-turbo-2024-04-09', 'system_fingerprint': 'fp_0993c4a4c0', 'finish_reason': 'tool_calls', 'logprobs': None}, id='run-08cdee9f-828e-4855-9618-9103a00793a3-0', tool_calls=[{'name': 'tavily_search_results_json', 'args': {'query': 'current weather in Los Angeles'}, 'id': 'call_1wcfOxHjPgXFYhl61nP8uq5Q', 'type': 'tool_call'}], usage_metadata={'input_tokens': 173, 'output_tokens': 22, 'total_tokens': 195})]}, next=('action',), config={'configurable': {'thread_id': '3', 'thread_ts': '1ef4c9fd-d9d3-6b26-8001-1a5cebabab97'}}, metadata={'source': 'loop', 'writes': {'llm': {'messages': [AIMessage(content='', additional_kwargs={'tool_calls': [{'id': 'call_1wcfOxHjPgXFYhl61nP8uq5Q', 'function': {'arguments': '{\"query\":\"current weather in Los Angeles\"}', 'name': 'tavily_search_results_json'}, 'type': 'function'}]}, response_metadata={'token_usage': {'completion_tokens': 22, 'prompt_tokens': 173, 'total_tokens': 195}, 'model_name': 'gpt-4-turbo-2024-04-09', 'system_fingerprint': 'fp_0993c4a4c0', 'finish_reason': 'tool_calls', 'logprobs': None}, id='run-08cdee9f-828e-4855-9618-9103a00793a3-0', tool_calls=[{'name': 'tavily_search_results_json', 'args': {'query': 'current weather in Los Angeles'}, 'id': 'call_1wcfOxHjPgXFYhl61nP8uq5Q', 'type': 'tool_call'}], usage_metadata={'input_tokens': 173, 'output_tokens': 22, 'total_tokens': 195})]}}, 'step': 1}, created_at='2024-07-28T05:11:37.335467+00:00', parent_config={'configurable': {'thread_id': '3', 'thread_ts': '1ef4c9fd-c792-64a8-8000-2c33249d1057'}})"
      ]
     },
     "execution_count": 26,
     "metadata": {},
     "output_type": "execute_result"
    }
   ],
   "execution_count": 26
  },
  {
   "metadata": {
    "ExecuteTime": {
     "end_time": "2024-07-28T05:17:14.071537Z",
     "start_time": "2024-07-28T05:17:14.067590Z"
    }
   },
   "cell_type": "code",
   "source": [
    "_id = to_replay.values['messages'][-1].tool_calls[0]['id']\n",
    "to_replay.values['messages'][-1].tool_calls = [{'name': 'tavily_search_results_json',\n",
    "  'args': {'query': 'current weather in LA, accuweather'},\n",
    "  'id': _id}]"
   ],
   "id": "760eb951edc4f8f2",
   "outputs": [],
   "execution_count": 27
  },
  {
   "metadata": {
    "ExecuteTime": {
     "end_time": "2024-07-28T05:17:25.234893Z",
     "start_time": "2024-07-28T05:17:25.213186Z"
    }
   },
   "cell_type": "code",
   "source": "branch_state = abot.graph.update_state(to_replay.config, to_replay.values)",
   "id": "af26b7d901f21913",
   "outputs": [
    {
     "name": "stdout",
     "output_type": "stream",
     "text": [
      "{'messages': [HumanMessage(content='Whats the weather in LA?', id='d9b0e27a-7d24-4f4b-b326-1b969d798f4e'), AIMessage(content='', additional_kwargs={'tool_calls': [{'id': 'call_1wcfOxHjPgXFYhl61nP8uq5Q', 'function': {'arguments': '{\"query\":\"current weather in Los Angeles\"}', 'name': 'tavily_search_results_json'}, 'type': 'function'}]}, response_metadata={'token_usage': {'completion_tokens': 22, 'prompt_tokens': 173, 'total_tokens': 195}, 'model_name': 'gpt-4-turbo-2024-04-09', 'system_fingerprint': 'fp_0993c4a4c0', 'finish_reason': 'tool_calls', 'logprobs': None}, id='run-08cdee9f-828e-4855-9618-9103a00793a3-0', tool_calls=[{'name': 'tavily_search_results_json', 'args': {'query': 'current weather in LA, accuweather'}, 'id': 'call_1wcfOxHjPgXFYhl61nP8uq5Q'}], usage_metadata={'input_tokens': 173, 'output_tokens': 22, 'total_tokens': 195})]}\n"
     ]
    }
   ],
   "execution_count": 28
  },
  {
   "metadata": {
    "ExecuteTime": {
     "end_time": "2024-07-28T05:17:39.339716Z",
     "start_time": "2024-07-28T05:17:33.547599Z"
    }
   },
   "cell_type": "code",
   "source": [
    "for event in abot.graph.stream(None, branch_state):\n",
    "    for k, v in event.items():\n",
    "        if k != \"__end__\":\n",
    "            print(v)"
   ],
   "id": "6e78cb505af66282",
   "outputs": [
    {
     "name": "stdout",
     "output_type": "stream",
     "text": [
      "Calling: {'name': 'tavily_search_results_json', 'args': {'query': 'current weather in LA, accuweather'}, 'id': 'call_1wcfOxHjPgXFYhl61nP8uq5Q', 'type': 'tool_call'}\n",
      "Back to the model!\n",
      "{'messages': [ToolMessage(content='[{\\'url\\': \\'https://www.weatherapi.com/\\', \\'content\\': \"{\\'location\\': {\\'name\\': \\'Los Angeles\\', \\'region\\': \\'California\\', \\'country\\': \\'United States of America\\', \\'lat\\': 34.05, \\'lon\\': -118.24, \\'tz_id\\': \\'America/Los_Angeles\\', \\'localtime_epoch\\': 1722143701, \\'localtime\\': \\'2024-07-27 22:15\\'}, \\'current\\': {\\'last_updated_epoch\\': 1722142800, \\'last_updated\\': \\'2024-07-27 22:00\\', \\'temp_c\\': 22.5, \\'temp_f\\': 72.5, \\'is_day\\': 0, \\'condition\\': {\\'text\\': \\'Clear\\', \\'icon\\': \\'//cdn.weatherapi.com/weather/64x64/night/113.png\\', \\'code\\': 1000}, \\'wind_mph\\': 4.0, \\'wind_kph\\': 6.5, \\'wind_degree\\': 192, \\'wind_dir\\': \\'SSW\\', \\'pressure_mb\\': 1011.0, \\'pressure_in\\': 29.86, \\'precip_mm\\': 0.0, \\'precip_in\\': 0.0, \\'humidity\\': 52, \\'cloud\\': 0, \\'feelslike_c\\': 24.6, \\'feelslike_f\\': 76.3, \\'windchill_c\\': 22.5, \\'windchill_f\\': 72.5, \\'heatindex_c\\': 24.6, \\'heatindex_f\\': 76.3, \\'dewpoint_c\\': 11.9, \\'dewpoint_f\\': 53.5, \\'vis_km\\': 10.0, \\'vis_miles\\': 6.0, \\'uv\\': 1.0, \\'gust_mph\\': 5.1, \\'gust_kph\\': 8.3}}\"}, {\\'url\\': \\'https://www.timeanddate.com/weather/@z-us-90073/ext\\', \\'content\\': \\'Los Angeles 14 Day Extended Forecast. Weather Today Weather Hourly 14 Day Forecast Yesterday/Past Weather Climate (Averages) Currently: 75 °F. Sunny. (Weather station: Hawthorne Municipal Airport, USA). See more current weather.\\'}]', name='tavily_search_results_json', tool_call_id='call_1wcfOxHjPgXFYhl61nP8uq5Q')]}\n",
      "{'messages': [HumanMessage(content='Whats the weather in LA?', id='d9b0e27a-7d24-4f4b-b326-1b969d798f4e'), AIMessage(content='', additional_kwargs={'tool_calls': [{'id': 'call_1wcfOxHjPgXFYhl61nP8uq5Q', 'function': {'arguments': '{\"query\":\"current weather in Los Angeles\"}', 'name': 'tavily_search_results_json'}, 'type': 'function'}]}, response_metadata={'token_usage': {'completion_tokens': 22, 'prompt_tokens': 173, 'total_tokens': 195}, 'model_name': 'gpt-4-turbo-2024-04-09', 'system_fingerprint': 'fp_0993c4a4c0', 'finish_reason': 'tool_calls', 'logprobs': None}, id='run-08cdee9f-828e-4855-9618-9103a00793a3-0', tool_calls=[{'name': 'tavily_search_results_json', 'args': {'query': 'current weather in LA, accuweather'}, 'id': 'call_1wcfOxHjPgXFYhl61nP8uq5Q', 'type': 'tool_call'}], usage_metadata={'input_tokens': 173, 'output_tokens': 22, 'total_tokens': 195}), ToolMessage(content='[{\\'url\\': \\'https://www.weatherapi.com/\\', \\'content\\': \"{\\'location\\': {\\'name\\': \\'Los Angeles\\', \\'region\\': \\'California\\', \\'country\\': \\'United States of America\\', \\'lat\\': 34.05, \\'lon\\': -118.24, \\'tz_id\\': \\'America/Los_Angeles\\', \\'localtime_epoch\\': 1722143701, \\'localtime\\': \\'2024-07-27 22:15\\'}, \\'current\\': {\\'last_updated_epoch\\': 1722142800, \\'last_updated\\': \\'2024-07-27 22:00\\', \\'temp_c\\': 22.5, \\'temp_f\\': 72.5, \\'is_day\\': 0, \\'condition\\': {\\'text\\': \\'Clear\\', \\'icon\\': \\'//cdn.weatherapi.com/weather/64x64/night/113.png\\', \\'code\\': 1000}, \\'wind_mph\\': 4.0, \\'wind_kph\\': 6.5, \\'wind_degree\\': 192, \\'wind_dir\\': \\'SSW\\', \\'pressure_mb\\': 1011.0, \\'pressure_in\\': 29.86, \\'precip_mm\\': 0.0, \\'precip_in\\': 0.0, \\'humidity\\': 52, \\'cloud\\': 0, \\'feelslike_c\\': 24.6, \\'feelslike_f\\': 76.3, \\'windchill_c\\': 22.5, \\'windchill_f\\': 72.5, \\'heatindex_c\\': 24.6, \\'heatindex_f\\': 76.3, \\'dewpoint_c\\': 11.9, \\'dewpoint_f\\': 53.5, \\'vis_km\\': 10.0, \\'vis_miles\\': 6.0, \\'uv\\': 1.0, \\'gust_mph\\': 5.1, \\'gust_kph\\': 8.3}}\"}, {\\'url\\': \\'https://www.timeanddate.com/weather/@z-us-90073/ext\\', \\'content\\': \\'Los Angeles 14 Day Extended Forecast. Weather Today Weather Hourly 14 Day Forecast Yesterday/Past Weather Climate (Averages) Currently: 75 °F. Sunny. (Weather station: Hawthorne Municipal Airport, USA). See more current weather.\\'}]', name='tavily_search_results_json', id='c47f3c75-435b-486a-9bc3-f1e7ce8fac67', tool_call_id='call_1wcfOxHjPgXFYhl61nP8uq5Q'), AIMessage(content='The current weather in Los Angeles is clear with a temperature of approximately 72.5°F (22.5°C). The wind is coming from the south-southwest at about 4 mph (6.5 kph), and the humidity is around 52%.', response_metadata={'token_usage': {'completion_tokens': 55, 'prompt_tokens': 694, 'total_tokens': 749}, 'model_name': 'gpt-4-turbo-2024-04-09', 'system_fingerprint': 'fp_0993c4a4c0', 'finish_reason': 'stop', 'logprobs': None}, id='run-46806228-9216-4ebf-ba5a-0b9efc88bf63-0', usage_metadata={'input_tokens': 694, 'output_tokens': 55, 'total_tokens': 749})]}\n",
      "{'messages': [AIMessage(content='The current weather in Los Angeles is clear with a temperature of approximately 72.5°F (22.5°C). The wind is coming from the south-southwest at about 4 mph (6.5 kph), and the humidity is around 52%.', response_metadata={'token_usage': {'completion_tokens': 55, 'prompt_tokens': 694, 'total_tokens': 749}, 'model_name': 'gpt-4-turbo-2024-04-09', 'system_fingerprint': 'fp_0993c4a4c0', 'finish_reason': 'stop', 'logprobs': None}, id='run-46806228-9216-4ebf-ba5a-0b9efc88bf63-0', usage_metadata={'input_tokens': 694, 'output_tokens': 55, 'total_tokens': 749})]}\n"
     ]
    }
   ],
   "execution_count": 29
  },
  {
   "metadata": {},
   "cell_type": "code",
   "outputs": [],
   "execution_count": null,
   "source": "",
   "id": "f3e6e2a521f1633a"
  }
 ],
 "metadata": {
  "kernelspec": {
   "display_name": "Python 3",
   "language": "python",
   "name": "python3"
  },
  "language_info": {
   "codemirror_mode": {
    "name": "ipython",
    "version": 2
   },
   "file_extension": ".py",
   "mimetype": "text/x-python",
   "name": "python",
   "nbconvert_exporter": "python",
   "pygments_lexer": "ipython2",
   "version": "2.7.6"
  }
 },
 "nbformat": 4,
 "nbformat_minor": 5
}
