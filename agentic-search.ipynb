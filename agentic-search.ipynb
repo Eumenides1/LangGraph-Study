{
 "cells": [
  {
   "metadata": {
    "ExecuteTime": {
     "end_time": "2024-07-28T03:40:49.495859Z",
     "start_time": "2024-07-28T03:40:47.934051Z"
    }
   },
   "cell_type": "code",
   "source": "!pip install tavily-python",
   "id": "8c67d3db5ad401af",
   "outputs": [
    {
     "name": "stdout",
     "output_type": "stream",
     "text": [
      "Collecting tavily-python\r\n",
      "  Downloading tavily_python-0.3.5-py3-none-any.whl.metadata (11 kB)\r\n",
      "Requirement already satisfied: requests in /Users/eumenides/miniforge3/envs/langgraph/lib/python3.10/site-packages (from tavily-python) (2.32.3)\r\n",
      "Requirement already satisfied: tiktoken>=0.5.1 in /Users/eumenides/miniforge3/envs/langgraph/lib/python3.10/site-packages (from tavily-python) (0.7.0)\r\n",
      "Requirement already satisfied: httpx in /Users/eumenides/miniforge3/envs/langgraph/lib/python3.10/site-packages (from tavily-python) (0.27.0)\r\n",
      "Requirement already satisfied: regex>=2022.1.18 in /Users/eumenides/miniforge3/envs/langgraph/lib/python3.10/site-packages (from tiktoken>=0.5.1->tavily-python) (2024.7.24)\r\n",
      "Requirement already satisfied: charset-normalizer<4,>=2 in /Users/eumenides/miniforge3/envs/langgraph/lib/python3.10/site-packages (from requests->tavily-python) (3.3.2)\r\n",
      "Requirement already satisfied: idna<4,>=2.5 in /Users/eumenides/miniforge3/envs/langgraph/lib/python3.10/site-packages (from requests->tavily-python) (3.7)\r\n",
      "Requirement already satisfied: urllib3<3,>=1.21.1 in /Users/eumenides/miniforge3/envs/langgraph/lib/python3.10/site-packages (from requests->tavily-python) (2.2.2)\r\n",
      "Requirement already satisfied: certifi>=2017.4.17 in /Users/eumenides/miniforge3/envs/langgraph/lib/python3.10/site-packages (from requests->tavily-python) (2024.7.4)\r\n",
      "Requirement already satisfied: anyio in /Users/eumenides/miniforge3/envs/langgraph/lib/python3.10/site-packages (from httpx->tavily-python) (4.4.0)\r\n",
      "Requirement already satisfied: httpcore==1.* in /Users/eumenides/miniforge3/envs/langgraph/lib/python3.10/site-packages (from httpx->tavily-python) (1.0.5)\r\n",
      "Requirement already satisfied: sniffio in /Users/eumenides/miniforge3/envs/langgraph/lib/python3.10/site-packages (from httpx->tavily-python) (1.3.1)\r\n",
      "Requirement already satisfied: h11<0.15,>=0.13 in /Users/eumenides/miniforge3/envs/langgraph/lib/python3.10/site-packages (from httpcore==1.*->httpx->tavily-python) (0.14.0)\r\n",
      "Requirement already satisfied: exceptiongroup>=1.0.2 in /Users/eumenides/miniforge3/envs/langgraph/lib/python3.10/site-packages (from anyio->httpx->tavily-python) (1.2.2)\r\n",
      "Requirement already satisfied: typing-extensions>=4.1 in /Users/eumenides/miniforge3/envs/langgraph/lib/python3.10/site-packages (from anyio->httpx->tavily-python) (4.12.2)\r\n",
      "Downloading tavily_python-0.3.5-py3-none-any.whl (13 kB)\r\n",
      "Installing collected packages: tavily-python\r\n",
      "Successfully installed tavily-python-0.3.5\r\n"
     ]
    }
   ],
   "execution_count": 3
  },
  {
   "metadata": {
    "ExecuteTime": {
     "end_time": "2024-07-28T03:42:18.641014Z",
     "start_time": "2024-07-28T03:42:18.634882Z"
    }
   },
   "cell_type": "code",
   "source": [
    "import os\n",
    "from tavily import TavilyClient\n",
    "client = TavilyClient(api_key=os.environ.get('TAVILY_API_KEY'))"
   ],
   "id": "initial_id",
   "outputs": [],
   "execution_count": 5
  },
  {
   "metadata": {
    "ExecuteTime": {
     "end_time": "2024-07-28T03:44:03.217737Z",
     "start_time": "2024-07-28T03:43:59.410315Z"
    }
   },
   "cell_type": "code",
   "source": [
    "# run search\n",
    "result = client.search(\"英伟达发布的全新Blackwell架构GPU都有哪些特点？\",\n",
    "                       include_answer=True)\n",
    "\n",
    "# print the answer\n",
    "result[\"answer\"]\n"
   ],
   "id": "6775c4571cac72a",
   "outputs": [
    {
     "data": {
      "text/plain": [
       "'英伟达的全新Blackwell架构GPU具有以下特点：  \\n1. 核心指标和性能提升方面的改进。\\n2. 新的Tensor Core与TensorRT-LLM编译器可将LLM推理运行成本和能耗降低多达25倍。\\n3. NVLink和可靠性技术赋能万亿参数规模的AI模型。\\n4. 新加速器可助推数据处理、工程模拟、电子设计自动化、计算机辅助药物设计和量子计算领域实现突破。'"
      ]
     },
     "execution_count": 7,
     "metadata": {},
     "output_type": "execute_result"
    }
   ],
   "execution_count": 7
  },
  {
   "metadata": {
    "ExecuteTime": {
     "end_time": "2024-07-28T03:46:02.245151Z",
     "start_time": "2024-07-28T03:46:02.238611Z"
    }
   },
   "cell_type": "code",
   "source": [
    "city = \"西安\"\n",
    "query = f\"\"\"\n",
    "    当前 {city}的天气如何?\n",
    "    适合我今天去旅游吗？\n",
    "\"\"\""
   ],
   "id": "d5524a62b2c1d695",
   "outputs": [],
   "execution_count": 8
  },
  {
   "metadata": {
    "ExecuteTime": {
     "end_time": "2024-07-28T03:46:41.900219Z",
     "start_time": "2024-07-28T03:46:39.071234Z"
    }
   },
   "cell_type": "code",
   "source": "!pip install -U duckduckgo_search",
   "id": "c54659c34a2c4b86",
   "outputs": [
    {
     "name": "stdout",
     "output_type": "stream",
     "text": [
      "Collecting duckduckgo_search\r\n",
      "  Downloading duckduckgo_search-6.2.4-py3-none-any.whl.metadata (24 kB)\r\n",
      "Collecting click>=8.1.7 (from duckduckgo_search)\r\n",
      "  Downloading click-8.1.7-py3-none-any.whl.metadata (3.0 kB)\r\n",
      "Collecting primp>=0.5.4 (from duckduckgo_search)\r\n",
      "  Downloading primp-0.5.4-cp38-abi3-macosx_11_0_arm64.whl.metadata (10 kB)\r\n",
      "Downloading duckduckgo_search-6.2.4-py3-none-any.whl (27 kB)\r\n",
      "Downloading click-8.1.7-py3-none-any.whl (97 kB)\r\n",
      "\u001B[2K   \u001B[90m━━━━━━━━━━━━━━━━━━━━━━━━━━━━━━━━━━━━━━━━\u001B[0m \u001B[32m97.9/97.9 kB\u001B[0m \u001B[31m983.0 kB/s\u001B[0m eta \u001B[36m0:00:00\u001B[0ma \u001B[36m0:00:01\u001B[0m\r\n",
      "\u001B[?25hDownloading primp-0.5.4-cp38-abi3-macosx_11_0_arm64.whl (2.7 MB)\r\n",
      "\u001B[2K   \u001B[90m━━━━━━━━━━━━━━━━━━━━━━━━━━━━━━━━━━━━━━━━\u001B[0m \u001B[32m2.7/2.7 MB\u001B[0m \u001B[31m5.4 MB/s\u001B[0m eta \u001B[36m0:00:00\u001B[0ma \u001B[36m0:00:01\u001B[0m\r\n",
      "\u001B[?25hInstalling collected packages: primp, click, duckduckgo_search\r\n",
      "Successfully installed click-8.1.7 duckduckgo_search-6.2.4 primp-0.5.4\r\n"
     ]
    }
   ],
   "execution_count": 9
  },
  {
   "metadata": {
    "ExecuteTime": {
     "end_time": "2024-07-28T03:48:33.555481Z",
     "start_time": "2024-07-28T03:48:31.079795Z"
    }
   },
   "cell_type": "code",
   "source": [
    "import requests\n",
    "from bs4 import BeautifulSoup\n",
    "from duckduckgo_search import DDGS\n",
    "import re\n",
    "\n",
    "ddg = DDGS()\n",
    "def search(query, max_results=3):\n",
    "    results = ddg.text(query, max_results=max_results)\n",
    "    return [i[\"href\"] for i in results]\n",
    "for i in  search(query):\n",
    "    print(i)"
   ],
   "id": "22e8eab21e10d289",
   "outputs": [
    {
     "name": "stdout",
     "output_type": "stream",
     "text": [
      "http://www.weather.com.cn/weather/101110101.shtml\n",
      "http://www.nmc.cn/publish/forecast/ASN/xian.html\n",
      "http://www.weather.com.cn/weathern/101110101.shtml\n"
     ]
    }
   ],
   "execution_count": 12
  },
  {
   "metadata": {},
   "cell_type": "code",
   "outputs": [
    {
     "name": "stdout",
     "output_type": "stream",
     "text": [
      "西安 是中华文明和中华民族重要发祥地，丝绸之路的起点，有着7000多年文明史。 去 西安 旅游的人，大多都是抱着两个目的：赏古迹、尝美食。 那么 西安 什么时候去比较好呢？. 西安 是一个人文旅游目的地，可以说一年四季都比较适合旅游，但是考虑到天气原因，去 西安 的最佳旅游时间是每年 ...\n"
     ]
    }
   ],
   "execution_count": 13,
   "source": [
    "# run search\n",
    "result = client.search(query, max_results=1)\n",
    "# print first result\n",
    "data = result[\"results\"][0][\"content\"]\n",
    "print(data)"
   ],
   "id": "a40c010afb8b117a"
  }
 ],
 "metadata": {
  "kernelspec": {
   "display_name": "Python 3",
   "language": "python",
   "name": "python3"
  },
  "language_info": {
   "codemirror_mode": {
    "name": "ipython",
    "version": 2
   },
   "file_extension": ".py",
   "mimetype": "text/x-python",
   "name": "python",
   "nbconvert_exporter": "python",
   "pygments_lexer": "ipython2",
   "version": "2.7.6"
  }
 },
 "nbformat": 4,
 "nbformat_minor": 5
}
