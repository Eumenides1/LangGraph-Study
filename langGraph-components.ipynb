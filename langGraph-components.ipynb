{
 "cells": [
  {
   "metadata": {
    "ExecuteTime": {
     "end_time": "2024-07-28T01:44:05.033629Z",
     "start_time": "2024-07-28T01:44:00.724687Z"
    }
   },
   "cell_type": "code",
   "source": "!pip install langgraph langchain langchain_openai langchain_community",
   "id": "ac739535667f417d",
   "outputs": [
    {
     "name": "stdout",
     "output_type": "stream",
     "text": [
      "Requirement already satisfied: langgraph in /Users/eumenides/miniforge3/envs/langgraph/lib/python3.10/site-packages (0.1.15)\r\n",
      "Requirement already satisfied: langchain in /Users/eumenides/miniforge3/envs/langgraph/lib/python3.10/site-packages (0.2.11)\r\n",
      "Requirement already satisfied: langchain_openai in /Users/eumenides/miniforge3/envs/langgraph/lib/python3.10/site-packages (0.1.19)\r\n",
      "Collecting langchain_community\r\n",
      "  Downloading langchain_community-0.2.10-py3-none-any.whl.metadata (2.7 kB)\r\n",
      "Requirement already satisfied: langchain-core<0.3,>=0.2.22 in /Users/eumenides/miniforge3/envs/langgraph/lib/python3.10/site-packages (from langgraph) (0.2.24)\r\n",
      "Requirement already satisfied: PyYAML>=5.3 in /Users/eumenides/miniforge3/envs/langgraph/lib/python3.10/site-packages (from langchain) (6.0.1)\r\n",
      "Requirement already satisfied: SQLAlchemy<3,>=1.4 in /Users/eumenides/miniforge3/envs/langgraph/lib/python3.10/site-packages (from langchain) (2.0.31)\r\n",
      "Requirement already satisfied: aiohttp<4.0.0,>=3.8.3 in /Users/eumenides/miniforge3/envs/langgraph/lib/python3.10/site-packages (from langchain) (3.9.5)\r\n",
      "Requirement already satisfied: async-timeout<5.0.0,>=4.0.0 in /Users/eumenides/miniforge3/envs/langgraph/lib/python3.10/site-packages (from langchain) (4.0.3)\r\n",
      "Requirement already satisfied: langchain-text-splitters<0.3.0,>=0.2.0 in /Users/eumenides/miniforge3/envs/langgraph/lib/python3.10/site-packages (from langchain) (0.2.2)\r\n",
      "Requirement already satisfied: langsmith<0.2.0,>=0.1.17 in /Users/eumenides/miniforge3/envs/langgraph/lib/python3.10/site-packages (from langchain) (0.1.93)\r\n",
      "Requirement already satisfied: numpy<2,>=1 in /Users/eumenides/miniforge3/envs/langgraph/lib/python3.10/site-packages (from langchain) (1.26.4)\r\n",
      "Requirement already satisfied: pydantic<3,>=1 in /Users/eumenides/miniforge3/envs/langgraph/lib/python3.10/site-packages (from langchain) (2.8.2)\r\n",
      "Requirement already satisfied: requests<3,>=2 in /Users/eumenides/miniforge3/envs/langgraph/lib/python3.10/site-packages (from langchain) (2.32.3)\r\n",
      "Requirement already satisfied: tenacity!=8.4.0,<9.0.0,>=8.1.0 in /Users/eumenides/miniforge3/envs/langgraph/lib/python3.10/site-packages (from langchain) (8.5.0)\r\n",
      "Requirement already satisfied: openai<2.0.0,>=1.32.0 in /Users/eumenides/miniforge3/envs/langgraph/lib/python3.10/site-packages (from langchain_openai) (1.37.1)\r\n",
      "Requirement already satisfied: tiktoken<1,>=0.7 in /Users/eumenides/miniforge3/envs/langgraph/lib/python3.10/site-packages (from langchain_openai) (0.7.0)\r\n",
      "Collecting dataclasses-json<0.7,>=0.5.7 (from langchain_community)\r\n",
      "  Downloading dataclasses_json-0.6.7-py3-none-any.whl.metadata (25 kB)\r\n",
      "Requirement already satisfied: aiosignal>=1.1.2 in /Users/eumenides/miniforge3/envs/langgraph/lib/python3.10/site-packages (from aiohttp<4.0.0,>=3.8.3->langchain) (1.3.1)\r\n",
      "Requirement already satisfied: attrs>=17.3.0 in /Users/eumenides/miniforge3/envs/langgraph/lib/python3.10/site-packages (from aiohttp<4.0.0,>=3.8.3->langchain) (23.2.0)\r\n",
      "Requirement already satisfied: frozenlist>=1.1.1 in /Users/eumenides/miniforge3/envs/langgraph/lib/python3.10/site-packages (from aiohttp<4.0.0,>=3.8.3->langchain) (1.4.1)\r\n",
      "Requirement already satisfied: multidict<7.0,>=4.5 in /Users/eumenides/miniforge3/envs/langgraph/lib/python3.10/site-packages (from aiohttp<4.0.0,>=3.8.3->langchain) (6.0.5)\r\n",
      "Requirement already satisfied: yarl<2.0,>=1.0 in /Users/eumenides/miniforge3/envs/langgraph/lib/python3.10/site-packages (from aiohttp<4.0.0,>=3.8.3->langchain) (1.9.4)\r\n",
      "Collecting marshmallow<4.0.0,>=3.18.0 (from dataclasses-json<0.7,>=0.5.7->langchain_community)\r\n",
      "  Downloading marshmallow-3.21.3-py3-none-any.whl.metadata (7.1 kB)\r\n",
      "Collecting typing-inspect<1,>=0.4.0 (from dataclasses-json<0.7,>=0.5.7->langchain_community)\r\n",
      "  Downloading typing_inspect-0.9.0-py3-none-any.whl.metadata (1.5 kB)\r\n",
      "Requirement already satisfied: jsonpatch<2.0,>=1.33 in /Users/eumenides/miniforge3/envs/langgraph/lib/python3.10/site-packages (from langchain-core<0.3,>=0.2.22->langgraph) (1.33)\r\n",
      "Requirement already satisfied: packaging<25,>=23.2 in /Users/eumenides/miniforge3/envs/langgraph/lib/python3.10/site-packages (from langchain-core<0.3,>=0.2.22->langgraph) (24.1)\r\n",
      "Requirement already satisfied: orjson<4.0.0,>=3.9.14 in /Users/eumenides/miniforge3/envs/langgraph/lib/python3.10/site-packages (from langsmith<0.2.0,>=0.1.17->langchain) (3.10.6)\r\n",
      "Requirement already satisfied: anyio<5,>=3.5.0 in /Users/eumenides/miniforge3/envs/langgraph/lib/python3.10/site-packages (from openai<2.0.0,>=1.32.0->langchain_openai) (4.4.0)\r\n",
      "Requirement already satisfied: distro<2,>=1.7.0 in /Users/eumenides/miniforge3/envs/langgraph/lib/python3.10/site-packages (from openai<2.0.0,>=1.32.0->langchain_openai) (1.9.0)\r\n",
      "Requirement already satisfied: httpx<1,>=0.23.0 in /Users/eumenides/miniforge3/envs/langgraph/lib/python3.10/site-packages (from openai<2.0.0,>=1.32.0->langchain_openai) (0.27.0)\r\n",
      "Requirement already satisfied: sniffio in /Users/eumenides/miniforge3/envs/langgraph/lib/python3.10/site-packages (from openai<2.0.0,>=1.32.0->langchain_openai) (1.3.1)\r\n",
      "Requirement already satisfied: tqdm>4 in /Users/eumenides/miniforge3/envs/langgraph/lib/python3.10/site-packages (from openai<2.0.0,>=1.32.0->langchain_openai) (4.66.4)\r\n",
      "Requirement already satisfied: typing-extensions<5,>=4.7 in /Users/eumenides/miniforge3/envs/langgraph/lib/python3.10/site-packages (from openai<2.0.0,>=1.32.0->langchain_openai) (4.12.2)\r\n",
      "Requirement already satisfied: annotated-types>=0.4.0 in /Users/eumenides/miniforge3/envs/langgraph/lib/python3.10/site-packages (from pydantic<3,>=1->langchain) (0.7.0)\r\n",
      "Requirement already satisfied: pydantic-core==2.20.1 in /Users/eumenides/miniforge3/envs/langgraph/lib/python3.10/site-packages (from pydantic<3,>=1->langchain) (2.20.1)\r\n",
      "Requirement already satisfied: charset-normalizer<4,>=2 in /Users/eumenides/miniforge3/envs/langgraph/lib/python3.10/site-packages (from requests<3,>=2->langchain) (3.3.2)\r\n",
      "Requirement already satisfied: idna<4,>=2.5 in /Users/eumenides/miniforge3/envs/langgraph/lib/python3.10/site-packages (from requests<3,>=2->langchain) (3.7)\r\n",
      "Requirement already satisfied: urllib3<3,>=1.21.1 in /Users/eumenides/miniforge3/envs/langgraph/lib/python3.10/site-packages (from requests<3,>=2->langchain) (2.2.2)\r\n",
      "Requirement already satisfied: certifi>=2017.4.17 in /Users/eumenides/miniforge3/envs/langgraph/lib/python3.10/site-packages (from requests<3,>=2->langchain) (2024.7.4)\r\n",
      "Requirement already satisfied: regex>=2022.1.18 in /Users/eumenides/miniforge3/envs/langgraph/lib/python3.10/site-packages (from tiktoken<1,>=0.7->langchain_openai) (2024.7.24)\r\n",
      "Requirement already satisfied: exceptiongroup>=1.0.2 in /Users/eumenides/miniforge3/envs/langgraph/lib/python3.10/site-packages (from anyio<5,>=3.5.0->openai<2.0.0,>=1.32.0->langchain_openai) (1.2.2)\r\n",
      "Requirement already satisfied: httpcore==1.* in /Users/eumenides/miniforge3/envs/langgraph/lib/python3.10/site-packages (from httpx<1,>=0.23.0->openai<2.0.0,>=1.32.0->langchain_openai) (1.0.5)\r\n",
      "Requirement already satisfied: h11<0.15,>=0.13 in /Users/eumenides/miniforge3/envs/langgraph/lib/python3.10/site-packages (from httpcore==1.*->httpx<1,>=0.23.0->openai<2.0.0,>=1.32.0->langchain_openai) (0.14.0)\r\n",
      "Requirement already satisfied: jsonpointer>=1.9 in /Users/eumenides/miniforge3/envs/langgraph/lib/python3.10/site-packages (from jsonpatch<2.0,>=1.33->langchain-core<0.3,>=0.2.22->langgraph) (3.0.0)\r\n",
      "Collecting mypy-extensions>=0.3.0 (from typing-inspect<1,>=0.4.0->dataclasses-json<0.7,>=0.5.7->langchain_community)\r\n",
      "  Downloading mypy_extensions-1.0.0-py3-none-any.whl.metadata (1.1 kB)\r\n",
      "Downloading langchain_community-0.2.10-py3-none-any.whl (2.3 MB)\r\n",
      "\u001B[2K   \u001B[90m━━━━━━━━━━━━━━━━━━━━━━━━━━━━━━━━━━━━━━━━\u001B[0m \u001B[32m2.3/2.3 MB\u001B[0m \u001B[31m5.5 MB/s\u001B[0m eta \u001B[36m0:00:00\u001B[0ma \u001B[36m0:00:01\u001B[0m\r\n",
      "\u001B[?25hDownloading dataclasses_json-0.6.7-py3-none-any.whl (28 kB)\r\n",
      "Downloading marshmallow-3.21.3-py3-none-any.whl (49 kB)\r\n",
      "\u001B[2K   \u001B[90m━━━━━━━━━━━━━━━━━━━━━━━━━━━━━━━━━━━━━━━━\u001B[0m \u001B[32m49.2/49.2 kB\u001B[0m \u001B[31m3.3 MB/s\u001B[0m eta \u001B[36m0:00:00\u001B[0m\r\n",
      "\u001B[?25hDownloading typing_inspect-0.9.0-py3-none-any.whl (8.8 kB)\r\n",
      "Downloading mypy_extensions-1.0.0-py3-none-any.whl (4.7 kB)\r\n",
      "Installing collected packages: mypy-extensions, marshmallow, typing-inspect, dataclasses-json, langchain_community\r\n",
      "Successfully installed dataclasses-json-0.6.7 langchain_community-0.2.10 marshmallow-3.21.3 mypy-extensions-1.0.0 typing-inspect-0.9.0\r\n"
     ]
    }
   ],
   "execution_count": 7
  },
  {
   "metadata": {
    "ExecuteTime": {
     "end_time": "2024-07-28T01:44:08.310891Z",
     "start_time": "2024-07-28T01:44:07.225872Z"
    }
   },
   "cell_type": "code",
   "source": [
    "from langgraph.graph import StateGraph, END\n",
    "from typing import TypedDict, Annotated\n",
    "import operator\n",
    "from langchain_core.messages import AnyMessage, SystemMessage, HumanMessage, ToolMessage\n",
    "from langchain_openai import ChatOpenAI\n",
    "from langchain_community.tools.tavily_search import TavilySearchResults"
   ],
   "id": "b83fbd19c7192715",
   "outputs": [],
   "execution_count": 8
  },
  {
   "metadata": {
    "ExecuteTime": {
     "end_time": "2024-07-28T01:44:12.299254Z",
     "start_time": "2024-07-28T01:44:12.294641Z"
    }
   },
   "cell_type": "code",
   "source": [
    "tool = TavilySearchResults(max_results=4) #increased number of results\n",
    "print(type(tool))\n",
    "print(tool.name)"
   ],
   "id": "1db34060e042b576",
   "outputs": [
    {
     "name": "stdout",
     "output_type": "stream",
     "text": [
      "<class 'langchain_community.tools.tavily_search.tool.TavilySearchResults'>\n",
      "tavily_search_results_json\n"
     ]
    }
   ],
   "execution_count": 9
  },
  {
   "cell_type": "code",
   "id": "fd9f8c2f5b7b3771",
   "metadata": {
    "ExecuteTime": {
     "end_time": "2024-07-28T01:44:15.146909Z",
     "start_time": "2024-07-28T01:44:15.142742Z"
    }
   },
   "source": [
    "class AgentState(TypedDict):\n",
    "    messages: Annotated[list[AnyMessage], operator.add]"
   ],
   "outputs": [],
   "execution_count": 10
  },
  {
   "cell_type": "code",
   "id": "199fcef9705f0e8f",
   "metadata": {
    "ExecuteTime": {
     "end_time": "2024-07-28T01:44:16.136573Z",
     "start_time": "2024-07-28T01:44:16.126768Z"
    }
   },
   "source": [
    "class Agent:\n",
    "    def __init__(self, model, tools, system=\"\"):\n",
    "        self.system = system\n",
    "        graph = StateGraph(AgentState)\n",
    "        graph.add_node(\"llm\", self.call_openai)\n",
    "        graph.add_node(\"action\", self.take_action)\n",
    "        graph.add_conditional_edges(\n",
    "            \"llm\",\n",
    "            self.exists_action,\n",
    "            {True: 'action', False: END},\n",
    "        )\n",
    "        graph.add_edge(\"action\",\"llm\")\n",
    "        graph.set_entry_point(\"llm\")\n",
    "        self.graph = graph.compile()\n",
    "        self.tools = {t.name: t for t in tools}\n",
    "        self.model = model.bind_tools(tools)\n",
    "    \n",
    "    def exists_action(self, state: AgentState):\n",
    "        result = state['messages'][-1]\n",
    "        return len(result.tool_calls) > 0\n",
    "    \n",
    "    def call_openai(self, state: AgentState):\n",
    "        messages = state['messages']\n",
    "        if self.system:\n",
    "            messages = [SystemMessage(content=self.system)]+messages\n",
    "        message = self.model.invoke(messages)\n",
    "        return {'messages': [message]}\n",
    "    \n",
    "    def take_action(self, state: AgentState):\n",
    "        tool_calls = state['messages'][-1].tool_calls\n",
    "        results = []\n",
    "        for t in tool_calls:\n",
    "            print(f\"Calling: {t}\")\n",
    "            if not t['name'] in self.tools:      # check for bad tool name from LLM\n",
    "                print(\"\\n ....bad tool name....\")\n",
    "                result = \"bad tool name, retry\"  # instruct LLM to retry if bad\n",
    "            else:\n",
    "                result = self.tools[t['name']].invoke(t['args'])\n",
    "            results.append(ToolMessage(tool_call_id=t['id'], name=t['name'], content=str(result)))\n",
    "        print(\"Back to the model!\")\n",
    "        return {'messages': results}     "
   ],
   "outputs": [],
   "execution_count": 11
  },
  {
   "cell_type": "code",
   "id": "c8a584cf46bff6a5",
   "metadata": {
    "ExecuteTime": {
     "end_time": "2024-07-28T01:44:17.447846Z",
     "start_time": "2024-07-28T01:44:17.408955Z"
    }
   },
   "source": [
    "import os\n",
    "\n",
    "prompt = \"\"\"\n",
    "你是一位聪明的研究助理。使用搜索引擎查找信息。你可以进行多次调用（可以一起或按顺序）。只有在你确定自己需要什么信息时才查找信息。如果你需要在提出后续问题之前查找一些信息，你可以这样做！\n",
    "\"\"\"\n",
    "api_key = os.environ.get(\"MY_API_KEY\")\n",
    "base_url = os.environ.get(\"OPENAI_API_BASE\")\n",
    "model = ChatOpenAI(api_key=api_key, base_url=base_url,model=\"gpt-4-turbo\")  #reduce inference cost\n",
    "abot = Agent(model, [tool], system=prompt)"
   ],
   "outputs": [],
   "execution_count": 12
  },
  {
   "cell_type": "code",
   "id": "9fdd3b7f-3ed3-4bd4-aa4a-5dcf734ec1b7",
   "metadata": {
    "ExecuteTime": {
     "end_time": "2024-07-28T01:44:18.763527Z",
     "start_time": "2024-07-28T01:44:18.628197Z"
    }
   },
   "source": [
    "!python --version"
   ],
   "outputs": [
    {
     "name": "stdout",
     "output_type": "stream",
     "text": [
      "Python 3.10.14\r\n"
     ]
    }
   ],
   "execution_count": 13
  },
  {
   "cell_type": "code",
   "id": "2409d84b8db41d9b",
   "metadata": {
    "ExecuteTime": {
     "end_time": "2024-07-28T01:44:21.068056Z",
     "start_time": "2024-07-28T01:44:20.457037Z"
    }
   },
   "source": [
    "!pip install pygraphviz"
   ],
   "outputs": [
    {
     "name": "stdout",
     "output_type": "stream",
     "text": [
      "Requirement already satisfied: pygraphviz in /Users/eumenides/miniforge3/envs/langgraph/lib/python3.10/site-packages (1.13)\r\n"
     ]
    }
   ],
   "execution_count": 14
  },
  {
   "cell_type": "code",
   "id": "fdc40308a305ae",
   "metadata": {
    "ExecuteTime": {
     "end_time": "2024-07-28T01:44:24.529243Z",
     "start_time": "2024-07-28T01:44:24.211622Z"
    }
   },
   "source": [
    "from IPython.display import Image\n",
    "\n",
    "Image(abot.graph.get_graph().draw_png())"
   ],
   "outputs": [
    {
     "data": {
      "image/png": "[encoded data removed]",
      "text/plain": [
       "<IPython.core.display.Image object>"
      ]
     },
     "execution_count": 15,
     "metadata": {},
     "output_type": "execute_result"
    }
   ],
   "execution_count": 15
  },
  {
   "metadata": {
    "ExecuteTime": {
     "end_time": "2024-07-28T01:49:43.407328Z",
     "start_time": "2024-07-28T01:49:31.571775Z"
    }
   },
   "cell_type": "code",
   "source": [
    "messages = [HumanMessage(content=\"西安今天的天气如何?\")]\n",
    "result = abot.graph.invoke({\"messages\": messages})"
   ],
   "id": "9ede3348a3f90693",
   "outputs": [
    {
     "name": "stdout",
     "output_type": "stream",
     "text": [
      "Calling: {'name': 'tavily_search_results_json', 'args': {'query': '西安今天的天气'}, 'id': 'call_x6M2rAvE8mJ3zgEBRLJZWdJD', 'type': 'tool_call'}\n",
      "Back to the model!\n"
     ]
    }
   ],
   "execution_count": 16
  },
  {
   "metadata": {
    "ExecuteTime": {
     "end_time": "2024-07-28T01:49:52.544927Z",
     "start_time": "2024-07-28T01:49:52.539847Z"
    }
   },
   "cell_type": "code",
   "source": "result",
   "id": "7753dc70f00f1009",
   "outputs": [
    {
     "data": {
      "text/plain": [
       "{'messages': [HumanMessage(content='西安今天的天气如何?'),\n",
       "  AIMessage(content='', additional_kwargs={'tool_calls': [{'id': 'call_x6M2rAvE8mJ3zgEBRLJZWdJD', 'function': {'arguments': '{\"query\":\"西安今天的天气\"}', 'name': 'tavily_search_results_json'}, 'type': 'function'}]}, response_metadata={'token_usage': {'completion_tokens': 25, 'prompt_tokens': 183, 'total_tokens': 208}, 'model_name': 'gpt-4-turbo-2024-04-09', 'system_fingerprint': 'fp_0993c4a4c0', 'finish_reason': 'tool_calls', 'logprobs': None}, id='run-11c43448-2986-4b8c-ad30-a037b3c68c2f-0', tool_calls=[{'name': 'tavily_search_results_json', 'args': {'query': '西安今天的天气'}, 'id': 'call_x6M2rAvE8mJ3zgEBRLJZWdJD', 'type': 'tool_call'}], usage_metadata={'input_tokens': 183, 'output_tokens': 25, 'total_tokens': 208}),\n",
       "  ToolMessage(content=\"[{'url': 'https://weather.com/zh-CN/weather/today/l/469847d38b26dbfd9519a7467fbcc689c42cceb1bd104a74d6637ce8359a0fba', 'content': '今天白天和夜间的西安市, 陕西省天气预报、天气情况和多普勒雷达 - 尽在 The Weather Channel 和 Weather.com'}, {'url': 'https://wx.weather.com.cn/mweather/101110101.shtml', 'content': '西安天气预报，及时准确发布中央气象台天气信息，便捷查询西安今日天气，西安明日天气，西安一周天气预报，西安15日天气预报，西安天气预报还提供西安各区县的生活指数、健康指数、交通指数、旅游指数，及时发布西安气象预警信号、各类气象资讯。'}, {'url': 'http://www.weather.com.cn/weathern/101110101.shtml', 'content': '西安天气预报，及时准确发布中央气象台天气信息，便捷查询北京今日天气，西安周末天气，西安一周天气预报，西安15日天气预报，西安40日天气预报，西安天气预报还提供西安各区县的生活指数、健康指数、交通指数、旅游指数，及时发布西安气象预警信号、各类气象资讯。'}, {'url': 'https://e.weather.com.cn/mweather1d/101110101.shtml', 'content': '西安天气预报，及时准确发布中央气象台天气信息，便捷查询北京今日天气，西安周末天气，西安一周天气预报，西安15日天气预报，西安40日天气预报，西安天气预报还提供西安各区县的生活指数、健康指数、交通指数、旅游指数，及时发布西安气象预警信号、各类气象资讯。'}]\", name='tavily_search_results_json', tool_call_id='call_x6M2rAvE8mJ3zgEBRLJZWdJD'),\n",
       "  AIMessage(content='西安今天的天气预报可以通过以下几个链接查阅：\\n1. [The Weather Channel](https://weather.com/zh-CN/weather/today/l/469847d38b26dbfd9519a7467fbcc689c42cceb1bd104a74d6637ce8359a0fba) 提供了详细的天气情况和多普勒雷达情报。\\n2. [中国天气网](https://wx.weather.com.cn/mweather/101110101.shtml) 和 [另一个页面](http://www.weather.com.cn/weathern/101110101.shtml) 提供了西安的今日天气预报、一周天气预报、15日和40日天气预报，并且还包括了生活指数、健康指数等信息。\\n3. [e.weather.com.cn](https://e.weather.com.cn/mweather1d/101110101.shtml) 同样提供了全面的天气预报和相关指数信息。\\n\\n您可以访问这些链接以获取最准确的天气信息。', response_metadata={'token_usage': {'completion_tokens': 264, 'prompt_tokens': 813, 'total_tokens': 1077}, 'model_name': 'gpt-4-turbo-2024-04-09', 'system_fingerprint': 'fp_0e7b71926a', 'finish_reason': 'stop', 'logprobs': None}, id='run-bcba9294-866c-4d85-865c-d2dab36fb074-0', usage_metadata={'input_tokens': 813, 'output_tokens': 264, 'total_tokens': 1077})]}"
      ]
     },
     "execution_count": 17,
     "metadata": {},
     "output_type": "execute_result"
    }
   ],
   "execution_count": 17
  },
  {
   "metadata": {
    "ExecuteTime": {
     "end_time": "2024-07-28T01:50:14.005075Z",
     "start_time": "2024-07-28T01:50:13.999196Z"
    }
   },
   "cell_type": "code",
   "source": "result['messages'][-1].content",
   "id": "182d26b4e5b05667",
   "outputs": [
    {
     "data": {
      "text/plain": [
       "'西安今天的天气预报可以通过以下几个链接查阅：\\n1. [The Weather Channel](https://weather.com/zh-CN/weather/today/l/469847d38b26dbfd9519a7467fbcc689c42cceb1bd104a74d6637ce8359a0fba) 提供了详细的天气情况和多普勒雷达情报。\\n2. [中国天气网](https://wx.weather.com.cn/mweather/101110101.shtml) 和 [另一个页面](http://www.weather.com.cn/weathern/101110101.shtml) 提供了西安的今日天气预报、一周天气预报、15日和40日天气预报，并且还包括了生活指数、健康指数等信息。\\n3. [e.weather.com.cn](https://e.weather.com.cn/mweather1d/101110101.shtml) 同样提供了全面的天气预报和相关指数信息。\\n\\n您可以访问这些链接以获取最准确的天气信息。'"
      ]
     },
     "execution_count": 18,
     "metadata": {},
     "output_type": "execute_result"
    }
   ],
   "execution_count": 18
  },
  {
   "metadata": {
    "ExecuteTime": {
     "end_time": "2024-07-28T01:52:08.030387Z",
     "start_time": "2024-07-28T01:51:49.940303Z"
    }
   },
   "cell_type": "code",
   "source": [
    "messages = [HumanMessage(content=\"西安和宝鸡今天的天气如何?\")]\n",
    "result = abot.graph.invoke({\"messages\": messages})"
   ],
   "id": "ce085315dc82877b",
   "outputs": [
    {
     "name": "stdout",
     "output_type": "stream",
     "text": [
      "Calling: {'name': 'tavily_search_results_json', 'args': {'query': '西安今天的天气'}, 'id': 'call_VWWcKpx0eHj8xvVq8pHg04Bb', 'type': 'tool_call'}\n",
      "Calling: {'name': 'tavily_search_results_json', 'args': {'query': '宝鸡今天的天气'}, 'id': 'call_3Z2oOx9zpgWukXIbRFcKqc23', 'type': 'tool_call'}\n",
      "Back to the model!\n"
     ]
    }
   ],
   "execution_count": 19
  },
  {
   "metadata": {
    "ExecuteTime": {
     "end_time": "2024-07-28T01:52:10.809407Z",
     "start_time": "2024-07-28T01:52:10.805142Z"
    }
   },
   "cell_type": "code",
   "source": "result['messages'][-1].content",
   "id": "5adc4636d57232a9",
   "outputs": [
    {
     "data": {
      "text/plain": [
       "'今天西安和宝鸡的天气如下：\\n\\n### 西安天气：\\n- 西安今天的天气预报和情况信息可以通过多个渠道查看，包括The Weather Channel和中国中央气象台。详细的天气信息包括温度、湿度、降水概率等。\\n\\n### 宝鸡天气：\\n- 宝鸡今天的天气预报同样可以通过多个网站查询，包括天气网和中国中央气象台。这些网站提供了包括实时天气情况、24小时天气预报、未来一周的天气趋势等。\\n\\n具体的温度、风力、降水等数据可以通过点击以上链接获取更详细的信息。'"
      ]
     },
     "execution_count": 20,
     "metadata": {},
     "output_type": "execute_result"
    }
   ],
   "execution_count": 20
  },
  {
   "metadata": {
    "ExecuteTime": {
     "end_time": "2024-07-28T02:07:12.825727Z",
     "start_time": "2024-07-28T02:06:54.812985Z"
    }
   },
   "cell_type": "code",
   "source": [
    "query = \"2024 年超级碗谁赢了？获胜球队的总部位于哪个州？\\\n",
    "那个州的国内生产总值（GDP）是多少？回答每个问题。\" \n",
    "messages = [HumanMessage(content=query)]\n",
    "api_key = os.environ.get(\"MY_API_KEY\")\n",
    "base_url = os.environ.get(\"OPENAI_API_BASE\")\n",
    "model = ChatOpenAI(api_key=api_key, base_url=base_url, model=\"gpt-4o\")  # requires more advanced model\n",
    "abot = Agent(model, [tool], system=prompt)\n",
    "result = abot.graph.invoke({\"messages\": messages})"
   ],
   "id": "d58ea21bcbf45a87",
   "outputs": [
    {
     "name": "stdout",
     "output_type": "stream",
     "text": [
      "Calling: {'name': 'tavily_search_results_json', 'args': {'query': '2024 Super Bowl winner'}, 'id': 'call_5Fh4m2RzKW9yUz1B23xZfPPF', 'type': 'tool_call'}\n",
      "Back to the model!\n",
      "Calling: {'name': 'tavily_search_results_json', 'args': {'query': 'Kansas City Chiefs headquarters location'}, 'id': 'call_4SzselOdgNSM375T6zug3jJr', 'type': 'tool_call'}\n",
      "Back to the model!\n",
      "Calling: {'name': 'tavily_search_results_json', 'args': {'query': 'Missouri GDP 2023'}, 'id': 'call_9lFvg2hqpGfPgijA3AGBk0vI', 'type': 'tool_call'}\n",
      "Back to the model!\n"
     ]
    }
   ],
   "execution_count": 22
  },
  {
   "metadata": {
    "ExecuteTime": {
     "end_time": "2024-07-28T02:07:26.486731Z",
     "start_time": "2024-07-28T02:07:26.480434Z"
    }
   },
   "cell_type": "code",
   "source": "print(result['messages'][-1].content)",
   "id": "ff570aa168898700",
   "outputs": [
    {
     "name": "stdout",
     "output_type": "stream",
     "text": [
      "1. **2024 年超级碗的获胜者**：堪萨斯城酋长队（Kansas City Chiefs）赢得了2024年的超级碗比赛。\n",
      "\n",
      "2. **获胜球队的总部位于哪个州**：堪萨斯城酋长队的总部位于密苏里州（Missouri），具体地址是位于堪萨斯城的Arrowhead Stadium。\n",
      "\n",
      "3. **那个州的国内生产总值（GDP）是多少**：截至2023年，密苏里州的GDP为4223.06亿美元。\n"
     ]
    }
   ],
   "execution_count": 23
  },
  {
   "metadata": {},
   "cell_type": "code",
   "outputs": [],
   "execution_count": null,
   "source": "",
   "id": "980592482328264"
  }
 ],
 "metadata": {
  "kernelspec": {
   "display_name": "Python 3 (ipykernel)",
   "language": "python",
   "name": "python3"
  },
  "language_info": {
   "codemirror_mode": {
    "name": "ipython",
    "version": 3
   },
   "file_extension": ".py",
   "mimetype": "text/x-python",
   "name": "python",
   "nbconvert_exporter": "python",
   "pygments_lexer": "ipython3",
   "version": "3.9.6"
  }
 },
 "nbformat": 4,
 "nbformat_minor": 5
}
