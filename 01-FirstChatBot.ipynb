{
 "cells": [
  {
   "cell_type": "markdown",
   "id": "70b38afd",
   "metadata": {},
   "source": [
    "### 安装基础的依赖包"
   ]
  },
  {
   "cell_type": "code",
   "id": "4547f96c",
   "metadata": {
    "ExecuteTime": {
     "end_time": "2024-07-24T14:38:14.533716Z",
     "start_time": "2024-07-24T14:37:59.875773Z"
    }
   },
   "source": [
    "# capture --no-stderr\n",
    "%pip install -U langgraph langsmith\n",
    "\n",
    "# Used for this tutorial; not a requirement for LangGraph\n",
    "%pip install -U langchain-openai"
   ],
   "outputs": [
    {
     "name": "stdout",
     "output_type": "stream",
     "text": [
      "Collecting langgraph\r\n",
      "  Obtaining dependency information for langgraph from https://files.pythonhosted.org/packages/23/a1/d88840b3932360392a91575a972462602770232b7a98e3cd851833445a55/langgraph-0.1.11-py3-none-any.whl.metadata\r\n",
      "  Downloading langgraph-0.1.11-py3-none-any.whl.metadata (13 kB)\r\n",
      "Collecting langsmith\r\n",
      "  Obtaining dependency information for langsmith from https://files.pythonhosted.org/packages/97/06/f7a49f0414796ba181a31ef0a26a9f9a3af193327cbf21a668e72d769076/langsmith-0.1.93-py3-none-any.whl.metadata\r\n",
      "  Downloading langsmith-0.1.93-py3-none-any.whl.metadata (13 kB)\r\n",
      "Collecting langchain-core<0.3,>=0.2.22 (from langgraph)\r\n",
      "  Obtaining dependency information for langchain-core<0.3,>=0.2.22 from https://files.pythonhosted.org/packages/f0/f0/f3f61e5a4bf201ebb1d1ff069299eab0dcb32ce03882ecc27ed475a5567d/langchain_core-0.2.23-py3-none-any.whl.metadata\r\n",
      "  Downloading langchain_core-0.2.23-py3-none-any.whl.metadata (6.2 kB)\r\n",
      "Collecting orjson<4.0.0,>=3.9.14 (from langsmith)\r\n",
      "  Obtaining dependency information for orjson<4.0.0,>=3.9.14 from https://files.pythonhosted.org/packages/f1/37/ced8949b7d15501e41ea3268382ed30cb2d8fd4db0705a61adc654b468bf/orjson-3.10.6-cp39-cp39-macosx_10_15_x86_64.macosx_11_0_arm64.macosx_10_15_universal2.whl.metadata\r\n",
      "  Downloading orjson-3.10.6-cp39-cp39-macosx_10_15_x86_64.macosx_11_0_arm64.macosx_10_15_universal2.whl.metadata (50 kB)\r\n",
      "\u001B[2K     \u001B[90m━━━━━━━━━━━━━━━━━━━━━━━━━━━━━━━━━━━━━━━\u001B[0m \u001B[32m50.4/50.4 kB\u001B[0m \u001B[31m932.1 kB/s\u001B[0m eta \u001B[36m0:00:00\u001B[0m:--:--\u001B[0m\r\n",
      "\u001B[?25hCollecting pydantic<3,>=1 (from langsmith)\r\n",
      "  Obtaining dependency information for pydantic<3,>=1 from https://files.pythonhosted.org/packages/1f/fa/b7f815b8c9ad021c07f88875b601222ef5e70619391ade4a49234d12d278/pydantic-2.8.2-py3-none-any.whl.metadata\r\n",
      "  Downloading pydantic-2.8.2-py3-none-any.whl.metadata (125 kB)\r\n",
      "\u001B[2K     \u001B[90m━━━━━━━━━━━━━━━━━━━━━━━━━━━━━━━━━━━━━━━\u001B[0m \u001B[32m125.2/125.2 kB\u001B[0m \u001B[31m1.8 MB/s\u001B[0m eta \u001B[36m0:00:00\u001B[0ma \u001B[36m0:00:01\u001B[0m\r\n",
      "\u001B[?25hRequirement already satisfied: requests<3,>=2 in /Users/eumenides/Desktop/core/Concrec/recall-service/.venv/lib/python3.9/site-packages (from langsmith) (2.32.3)\r\n",
      "Requirement already satisfied: PyYAML>=5.3 in /Users/eumenides/Desktop/core/Concrec/recall-service/.venv/lib/python3.9/site-packages (from langchain-core<0.3,>=0.2.22->langgraph) (6.0.1)\r\n",
      "Collecting jsonpatch<2.0,>=1.33 (from langchain-core<0.3,>=0.2.22->langgraph)\r\n",
      "  Obtaining dependency information for jsonpatch<2.0,>=1.33 from https://files.pythonhosted.org/packages/73/07/02e16ed01e04a374e644b575638ec7987ae846d25ad97bcc9945a3ee4b0e/jsonpatch-1.33-py2.py3-none-any.whl.metadata\r\n",
      "  Using cached jsonpatch-1.33-py2.py3-none-any.whl.metadata (3.0 kB)\r\n",
      "Requirement already satisfied: packaging<25,>=23.2 in /Users/eumenides/Desktop/core/Concrec/recall-service/.venv/lib/python3.9/site-packages (from langchain-core<0.3,>=0.2.22->langgraph) (24.1)\r\n",
      "Collecting tenacity!=8.4.0,<9.0.0,>=8.1.0 (from langchain-core<0.3,>=0.2.22->langgraph)\r\n",
      "  Obtaining dependency information for tenacity!=8.4.0,<9.0.0,>=8.1.0 from https://files.pythonhosted.org/packages/d2/3f/8ba87d9e287b9d385a02a7114ddcef61b26f86411e121c9003eb509a1773/tenacity-8.5.0-py3-none-any.whl.metadata\r\n",
      "  Downloading tenacity-8.5.0-py3-none-any.whl.metadata (1.2 kB)\r\n",
      "Collecting annotated-types>=0.4.0 (from pydantic<3,>=1->langsmith)\r\n",
      "  Obtaining dependency information for annotated-types>=0.4.0 from https://files.pythonhosted.org/packages/78/b6/6307fbef88d9b5ee7421e68d78a9f162e0da4900bc5f5793f6d3d0e34fb8/annotated_types-0.7.0-py3-none-any.whl.metadata\r\n",
      "  Downloading annotated_types-0.7.0-py3-none-any.whl.metadata (15 kB)\r\n",
      "Collecting pydantic-core==2.20.1 (from pydantic<3,>=1->langsmith)\r\n",
      "  Obtaining dependency information for pydantic-core==2.20.1 from https://files.pythonhosted.org/packages/77/f7/25f1fba7ea1ae052e20b234e4c66d54b129e5b3f4d1e6c0da6534dbf57c3/pydantic_core-2.20.1-cp39-cp39-macosx_11_0_arm64.whl.metadata\r\n",
      "  Downloading pydantic_core-2.20.1-cp39-cp39-macosx_11_0_arm64.whl.metadata (6.6 kB)\r\n",
      "Requirement already satisfied: typing-extensions>=4.6.1 in /Users/eumenides/Desktop/core/Concrec/recall-service/.venv/lib/python3.9/site-packages (from pydantic<3,>=1->langsmith) (4.12.2)\r\n",
      "Requirement already satisfied: charset-normalizer<4,>=2 in /Users/eumenides/Desktop/core/Concrec/recall-service/.venv/lib/python3.9/site-packages (from requests<3,>=2->langsmith) (3.3.2)\r\n",
      "Requirement already satisfied: idna<4,>=2.5 in /Users/eumenides/Desktop/core/Concrec/recall-service/.venv/lib/python3.9/site-packages (from requests<3,>=2->langsmith) (3.7)\r\n",
      "Requirement already satisfied: urllib3<3,>=1.21.1 in /Users/eumenides/Desktop/core/Concrec/recall-service/.venv/lib/python3.9/site-packages (from requests<3,>=2->langsmith) (2.2.2)\r\n",
      "Requirement already satisfied: certifi>=2017.4.17 in /Users/eumenides/Desktop/core/Concrec/recall-service/.venv/lib/python3.9/site-packages (from requests<3,>=2->langsmith) (2024.7.4)\r\n",
      "Requirement already satisfied: jsonpointer>=1.9 in /Users/eumenides/Desktop/core/Concrec/recall-service/.venv/lib/python3.9/site-packages (from jsonpatch<2.0,>=1.33->langchain-core<0.3,>=0.2.22->langgraph) (3.0.0)\r\n",
      "Downloading langgraph-0.1.11-py3-none-any.whl (102 kB)\r\n",
      "\u001B[2K   \u001B[90m━━━━━━━━━━━━━━━━━━━━━━━━━━━━━━━━━━━━━━━━\u001B[0m \u001B[32m102.5/102.5 kB\u001B[0m \u001B[31m3.8 MB/s\u001B[0m eta \u001B[36m0:00:00\u001B[0m\r\n",
      "\u001B[?25hUsing cached langsmith-0.1.93-py3-none-any.whl (139 kB)\r\n",
      "Downloading langchain_core-0.2.23-py3-none-any.whl (374 kB)\r\n",
      "\u001B[2K   \u001B[90m━━━━━━━━━━━━━━━━━━━━━━━━━━━━━━━━━━━━━━━━\u001B[0m \u001B[32m374.2/374.2 kB\u001B[0m \u001B[31m4.6 MB/s\u001B[0m eta \u001B[36m0:00:00\u001B[0m00:01\u001B[0m00:01\u001B[0m\r\n",
      "\u001B[?25hDownloading orjson-3.10.6-cp39-cp39-macosx_10_15_x86_64.macosx_11_0_arm64.macosx_10_15_universal2.whl (250 kB)\r\n",
      "\u001B[2K   \u001B[90m━━━━━━━━━━━━━━━━━━━━━━━━━━━━━━━━━━━━━━━━\u001B[0m \u001B[32m250.2/250.2 kB\u001B[0m \u001B[31m8.8 MB/s\u001B[0m eta \u001B[36m0:00:00\u001B[0m\r\n",
      "\u001B[?25hDownloading pydantic-2.8.2-py3-none-any.whl (423 kB)\r\n",
      "\u001B[2K   \u001B[90m━━━━━━━━━━━━━━━━━━━━━━━━━━━━━━━━━━━━━━━━\u001B[0m \u001B[32m423.9/423.9 kB\u001B[0m \u001B[31m9.3 MB/s\u001B[0m eta \u001B[36m0:00:00\u001B[0m:00:01\u001B[0m\r\n",
      "\u001B[?25hDownloading pydantic_core-2.20.1-cp39-cp39-macosx_11_0_arm64.whl (1.7 MB)\r\n",
      "\u001B[2K   \u001B[90m━━━━━━━━━━━━━━━━━━━━━━━━━━━━━━━━━━━━━━━━\u001B[0m \u001B[32m1.7/1.7 MB\u001B[0m \u001B[31m10.3 MB/s\u001B[0m eta \u001B[36m0:00:00\u001B[0ma \u001B[36m0:00:01\u001B[0m\r\n",
      "\u001B[?25hDownloading annotated_types-0.7.0-py3-none-any.whl (13 kB)\r\n",
      "Using cached jsonpatch-1.33-py2.py3-none-any.whl (12 kB)\r\n",
      "Downloading tenacity-8.5.0-py3-none-any.whl (28 kB)\r\n",
      "Installing collected packages: tenacity, pydantic-core, orjson, jsonpatch, annotated-types, pydantic, langsmith, langchain-core, langgraph\r\n",
      "Successfully installed annotated-types-0.7.0 jsonpatch-1.33 langchain-core-0.2.23 langgraph-0.1.11 langsmith-0.1.93 orjson-3.10.6 pydantic-2.8.2 pydantic-core-2.20.1 tenacity-8.5.0\r\n",
      "\r\n",
      "\u001B[1m[\u001B[0m\u001B[34;49mnotice\u001B[0m\u001B[1;39;49m]\u001B[0m\u001B[39;49m A new release of pip is available: \u001B[0m\u001B[31;49m23.2.1\u001B[0m\u001B[39;49m -> \u001B[0m\u001B[32;49m24.1.2\u001B[0m\r\n",
      "\u001B[1m[\u001B[0m\u001B[34;49mnotice\u001B[0m\u001B[1;39;49m]\u001B[0m\u001B[39;49m To update, run: \u001B[0m\u001B[32;49mpip install --upgrade pip\u001B[0m\r\n",
      "Note: you may need to restart the kernel to use updated packages.\n",
      "Collecting langchain-openai\r\n",
      "  Obtaining dependency information for langchain-openai from https://files.pythonhosted.org/packages/25/e1/e8a255f391d9eeef36ff6d617c01160f3fce7c5f4ae4ce8250d661336f44/langchain_openai-0.1.17-py3-none-any.whl.metadata\r\n",
      "  Downloading langchain_openai-0.1.17-py3-none-any.whl.metadata (2.5 kB)\r\n",
      "Requirement already satisfied: langchain-core<0.3.0,>=0.2.20 in /Users/eumenides/Desktop/core/Concrec/recall-service/.venv/lib/python3.9/site-packages (from langchain-openai) (0.2.23)\r\n",
      "Collecting openai<2.0.0,>=1.32.0 (from langchain-openai)\r\n",
      "  Obtaining dependency information for openai<2.0.0,>=1.32.0 from https://files.pythonhosted.org/packages/ad/11/7f75f22019777c18c933df6cc0fff4095df3b35f087a1a4c2bd3ca841bd1/openai-1.37.0-py3-none-any.whl.metadata\r\n",
      "  Downloading openai-1.37.0-py3-none-any.whl.metadata (22 kB)\r\n",
      "Collecting tiktoken<1,>=0.7 (from langchain-openai)\r\n",
      "  Obtaining dependency information for tiktoken<1,>=0.7 from https://files.pythonhosted.org/packages/65/90/84a85b7122853188c343bcf2321f9cec7424ed5cfaedac36a0ada03e9351/tiktoken-0.7.0-cp39-cp39-macosx_11_0_arm64.whl.metadata\r\n",
      "  Downloading tiktoken-0.7.0-cp39-cp39-macosx_11_0_arm64.whl.metadata (6.6 kB)\r\n",
      "Requirement already satisfied: PyYAML>=5.3 in /Users/eumenides/Desktop/core/Concrec/recall-service/.venv/lib/python3.9/site-packages (from langchain-core<0.3.0,>=0.2.20->langchain-openai) (6.0.1)\r\n",
      "Requirement already satisfied: jsonpatch<2.0,>=1.33 in /Users/eumenides/Desktop/core/Concrec/recall-service/.venv/lib/python3.9/site-packages (from langchain-core<0.3.0,>=0.2.20->langchain-openai) (1.33)\r\n",
      "Requirement already satisfied: langsmith<0.2.0,>=0.1.75 in /Users/eumenides/Desktop/core/Concrec/recall-service/.venv/lib/python3.9/site-packages (from langchain-core<0.3.0,>=0.2.20->langchain-openai) (0.1.93)\r\n",
      "Requirement already satisfied: packaging<25,>=23.2 in /Users/eumenides/Desktop/core/Concrec/recall-service/.venv/lib/python3.9/site-packages (from langchain-core<0.3.0,>=0.2.20->langchain-openai) (24.1)\r\n",
      "Requirement already satisfied: pydantic<3,>=1 in /Users/eumenides/Desktop/core/Concrec/recall-service/.venv/lib/python3.9/site-packages (from langchain-core<0.3.0,>=0.2.20->langchain-openai) (2.8.2)\r\n",
      "Requirement already satisfied: tenacity!=8.4.0,<9.0.0,>=8.1.0 in /Users/eumenides/Desktop/core/Concrec/recall-service/.venv/lib/python3.9/site-packages (from langchain-core<0.3.0,>=0.2.20->langchain-openai) (8.5.0)\r\n",
      "Requirement already satisfied: anyio<5,>=3.5.0 in /Users/eumenides/Desktop/core/Concrec/recall-service/.venv/lib/python3.9/site-packages (from openai<2.0.0,>=1.32.0->langchain-openai) (4.4.0)\r\n",
      "Collecting distro<2,>=1.7.0 (from openai<2.0.0,>=1.32.0->langchain-openai)\r\n",
      "  Obtaining dependency information for distro<2,>=1.7.0 from https://files.pythonhosted.org/packages/12/b3/231ffd4ab1fc9d679809f356cebee130ac7daa00d6d6f3206dd4fd137e9e/distro-1.9.0-py3-none-any.whl.metadata\r\n",
      "  Using cached distro-1.9.0-py3-none-any.whl.metadata (6.8 kB)\r\n",
      "Requirement already satisfied: httpx<1,>=0.23.0 in /Users/eumenides/Desktop/core/Concrec/recall-service/.venv/lib/python3.9/site-packages (from openai<2.0.0,>=1.32.0->langchain-openai) (0.27.0)\r\n",
      "Requirement already satisfied: sniffio in /Users/eumenides/Desktop/core/Concrec/recall-service/.venv/lib/python3.9/site-packages (from openai<2.0.0,>=1.32.0->langchain-openai) (1.3.1)\r\n",
      "Collecting tqdm>4 (from openai<2.0.0,>=1.32.0->langchain-openai)\r\n",
      "  Obtaining dependency information for tqdm>4 from https://files.pythonhosted.org/packages/18/eb/fdb7eb9e48b7b02554e1664afd3bd3f117f6b6d6c5881438a0b055554f9b/tqdm-4.66.4-py3-none-any.whl.metadata\r\n",
      "  Using cached tqdm-4.66.4-py3-none-any.whl.metadata (57 kB)\r\n",
      "Requirement already satisfied: typing-extensions<5,>=4.7 in /Users/eumenides/Desktop/core/Concrec/recall-service/.venv/lib/python3.9/site-packages (from openai<2.0.0,>=1.32.0->langchain-openai) (4.12.2)\r\n",
      "Collecting regex>=2022.1.18 (from tiktoken<1,>=0.7->langchain-openai)\r\n",
      "  Obtaining dependency information for regex>=2022.1.18 from https://files.pythonhosted.org/packages/cf/b7/61364656ac8cf8d8545ae40817152ef156a8b7d6f5e28a2022509ecb7b3c/regex-2024.5.15-cp39-cp39-macosx_11_0_arm64.whl.metadata\r\n",
      "  Downloading regex-2024.5.15-cp39-cp39-macosx_11_0_arm64.whl.metadata (40 kB)\r\n",
      "\u001B[2K     \u001B[90m━━━━━━━━━━━━━━━━━━━━━━━━━━━━━━━━━━━━━━━━\u001B[0m \u001B[32m40.9/40.9 kB\u001B[0m \u001B[31m1.3 MB/s\u001B[0m eta \u001B[36m0:00:00\u001B[0m\r\n",
      "\u001B[?25hRequirement already satisfied: requests>=2.26.0 in /Users/eumenides/Desktop/core/Concrec/recall-service/.venv/lib/python3.9/site-packages (from tiktoken<1,>=0.7->langchain-openai) (2.32.3)\r\n",
      "Requirement already satisfied: idna>=2.8 in /Users/eumenides/Desktop/core/Concrec/recall-service/.venv/lib/python3.9/site-packages (from anyio<5,>=3.5.0->openai<2.0.0,>=1.32.0->langchain-openai) (3.7)\r\n",
      "Requirement already satisfied: exceptiongroup>=1.0.2 in /Users/eumenides/Desktop/core/Concrec/recall-service/.venv/lib/python3.9/site-packages (from anyio<5,>=3.5.0->openai<2.0.0,>=1.32.0->langchain-openai) (1.2.2)\r\n",
      "Requirement already satisfied: certifi in /Users/eumenides/Desktop/core/Concrec/recall-service/.venv/lib/python3.9/site-packages (from httpx<1,>=0.23.0->openai<2.0.0,>=1.32.0->langchain-openai) (2024.7.4)\r\n",
      "Requirement already satisfied: httpcore==1.* in /Users/eumenides/Desktop/core/Concrec/recall-service/.venv/lib/python3.9/site-packages (from httpx<1,>=0.23.0->openai<2.0.0,>=1.32.0->langchain-openai) (1.0.5)\r\n",
      "Requirement already satisfied: h11<0.15,>=0.13 in /Users/eumenides/Desktop/core/Concrec/recall-service/.venv/lib/python3.9/site-packages (from httpcore==1.*->httpx<1,>=0.23.0->openai<2.0.0,>=1.32.0->langchain-openai) (0.14.0)\r\n",
      "Requirement already satisfied: jsonpointer>=1.9 in /Users/eumenides/Desktop/core/Concrec/recall-service/.venv/lib/python3.9/site-packages (from jsonpatch<2.0,>=1.33->langchain-core<0.3.0,>=0.2.20->langchain-openai) (3.0.0)\r\n",
      "Requirement already satisfied: orjson<4.0.0,>=3.9.14 in /Users/eumenides/Desktop/core/Concrec/recall-service/.venv/lib/python3.9/site-packages (from langsmith<0.2.0,>=0.1.75->langchain-core<0.3.0,>=0.2.20->langchain-openai) (3.10.6)\r\n",
      "Requirement already satisfied: annotated-types>=0.4.0 in /Users/eumenides/Desktop/core/Concrec/recall-service/.venv/lib/python3.9/site-packages (from pydantic<3,>=1->langchain-core<0.3.0,>=0.2.20->langchain-openai) (0.7.0)\r\n",
      "Requirement already satisfied: pydantic-core==2.20.1 in /Users/eumenides/Desktop/core/Concrec/recall-service/.venv/lib/python3.9/site-packages (from pydantic<3,>=1->langchain-core<0.3.0,>=0.2.20->langchain-openai) (2.20.1)\r\n",
      "Requirement already satisfied: charset-normalizer<4,>=2 in /Users/eumenides/Desktop/core/Concrec/recall-service/.venv/lib/python3.9/site-packages (from requests>=2.26.0->tiktoken<1,>=0.7->langchain-openai) (3.3.2)\r\n",
      "Requirement already satisfied: urllib3<3,>=1.21.1 in /Users/eumenides/Desktop/core/Concrec/recall-service/.venv/lib/python3.9/site-packages (from requests>=2.26.0->tiktoken<1,>=0.7->langchain-openai) (2.2.2)\r\n",
      "Using cached langchain_openai-0.1.17-py3-none-any.whl (46 kB)\r\n",
      "Downloading openai-1.37.0-py3-none-any.whl (337 kB)\r\n",
      "\u001B[2K   \u001B[90m━━━━━━━━━━━━━━━━━━━━━━━━━━━━━━━━━━━━━━━━\u001B[0m \u001B[32m337.0/337.0 kB\u001B[0m \u001B[31m3.2 MB/s\u001B[0m eta \u001B[36m0:00:00\u001B[0ma \u001B[36m0:00:01\u001B[0m\r\n",
      "\u001B[?25hUsing cached tiktoken-0.7.0-cp39-cp39-macosx_11_0_arm64.whl (907 kB)\r\n",
      "Using cached distro-1.9.0-py3-none-any.whl (20 kB)\r\n",
      "Downloading regex-2024.5.15-cp39-cp39-macosx_11_0_arm64.whl (278 kB)\r\n",
      "\u001B[2K   \u001B[90m━━━━━━━━━━━━━━━━━━━━━━━━━━━━━━━━━━━━━━━━\u001B[0m \u001B[32m278.3/278.3 kB\u001B[0m \u001B[31m8.9 MB/s\u001B[0m eta \u001B[36m0:00:00\u001B[0m\r\n",
      "\u001B[?25hUsing cached tqdm-4.66.4-py3-none-any.whl (78 kB)\r\n",
      "Installing collected packages: tqdm, regex, distro, tiktoken, openai, langchain-openai\r\n",
      "Successfully installed distro-1.9.0 langchain-openai-0.1.17 openai-1.37.0 regex-2024.5.15 tiktoken-0.7.0 tqdm-4.66.4\r\n",
      "\r\n",
      "\u001B[1m[\u001B[0m\u001B[34;49mnotice\u001B[0m\u001B[1;39;49m]\u001B[0m\u001B[39;49m A new release of pip is available: \u001B[0m\u001B[31;49m23.2.1\u001B[0m\u001B[39;49m -> \u001B[0m\u001B[32;49m24.1.2\u001B[0m\r\n",
      "\u001B[1m[\u001B[0m\u001B[34;49mnotice\u001B[0m\u001B[1;39;49m]\u001B[0m\u001B[39;49m To update, run: \u001B[0m\u001B[32;49mpip install --upgrade pip\u001B[0m\r\n",
      "Note: you may need to restart the kernel to use updated packages.\n"
     ]
    }
   ],
   "execution_count": 1
  },
  {
   "cell_type": "code",
   "execution_count": 2,
   "id": "8cfd5874",
   "metadata": {},
   "outputs": [
    {
     "name": "stdout",
     "output_type": "stream",
     "text": [
      "OPENAI_API_KEY: ········\n",
      "API_BASE_URL: ········\n"
     ]
    }
   ],
   "source": [
    "import getpass\n",
    "import os\n",
    "\n",
    "def _set_env(var: str):\n",
    "    if not os.environ.get(var):\n",
    "        os.environ[var] = getpass.getpass(f\"{var}: \")\n",
    "\n",
    "_set_env(\"OPENAI_API_KEY\")\n",
    "_set_env(\"API_BASE_URL\")"
   ]
  },
  {
   "cell_type": "code",
   "execution_count": 3,
   "id": "defcb797",
   "metadata": {},
   "outputs": [
    {
     "name": "stdout",
     "output_type": "stream",
     "text": [
      "LANGSMITH_API_KEY: ········\n"
     ]
    }
   ],
   "source": [
    "_set_env(\"LANGSMITH_API_KEY\")\n",
    "os.environ[\"LANGCHAIN_TRACING_V2\"] = \"true\"\n",
    "os.environ[\"LANGCHAIN_PROJECT\"] = \"LangGraph Tutorial\""
   ]
  },
  {
   "cell_type": "code",
   "execution_count": 4,
   "id": "b0520456",
   "metadata": {},
   "outputs": [],
   "source": [
    "from typing import Annotated\n",
    "from typing_extensions import TypedDict\n",
    "from langgraph.graph import StateGraph, START, END\n",
    "from langgraph.graph.message import add_messages\n",
    "\n",
    "class State(TypedDict):\n",
    "    # Messages have the type \"list\". The `add_messages` function\n",
    "    # in the annotation defines how this state key should be updated\n",
    "    # (in this case, it appends messages to the list, rather than overwriting them)\n",
    "    messages: Annotated[list, add_messages]\n",
    "\n",
    "graph_builder = StateGraph(State)"
   ]
  },
  {
   "cell_type": "code",
   "execution_count": 5,
   "id": "f2224b9b",
   "metadata": {},
   "outputs": [],
   "source": [
    "from langchain_openai import ChatOpenAI\n",
    "\n",
    "api_key = os.environ.get(\"OPENAI_API_KEY\")\n",
    "base_url = os.environ.get(\"API_BASE_URL\")\n",
    "\n",
    "llm = ChatOpenAI(model=\"gpt-4o-mini\",openai_api_key=api_key, openai_api_base=base_url)\n",
    "\n",
    "\n",
    "def chatbot(state: State):\n",
    "    return {\"messages\": [llm.invoke(state[\"messages\"])]}\n",
    "\n",
    "\n",
    "# The first argument is the unique node name\n",
    "# The second argument is the function or object that will be called whenever\n",
    "# the node is used.\n",
    "graph_builder.add_node(\"chatbot\", chatbot)"
   ]
  },
  {
   "cell_type": "code",
   "execution_count": 6,
   "id": "cecddaae",
   "metadata": {},
   "outputs": [],
   "source": [
    "graph_builder.add_edge(START, \"chatbot\")"
   ]
  },
  {
   "cell_type": "code",
   "execution_count": 7,
   "id": "9a6bfe40",
   "metadata": {},
   "outputs": [],
   "source": [
    "graph_builder.add_edge(\"chatbot\", END)"
   ]
  },
  {
   "cell_type": "code",
   "execution_count": 8,
   "id": "e0f484f1",
   "metadata": {},
   "outputs": [],
   "source": [
    "graph = graph_builder.compile()"
   ]
  },
  {
   "cell_type": "code",
   "execution_count": 9,
   "id": "56724291",
   "metadata": {},
   "outputs": [
    {
     "name": "stdout",
     "output_type": "stream",
     "text": [
      "User: hi\n",
      "Assistant: Hello! How can I assist you today?\n",
      "User: 你是谁\n",
      "Assistant: 我是一个人工智能助手，旨在回答问题和提供信息。有什么我可以帮助你的吗？\n",
      "User: 你是什么公司做的呢？\n",
      "Assistant: 我是由OpenAI开发的人工智能助手。我的目的是帮助用户回答问题、提供信息和进行对话。如果你有任何问题或需要帮助，随时可以问我！\n",
      "User: q\n",
      "Goodbye!\n"
     ]
    }
   ],
   "source": [
    "\n",
    "while True:\n",
    "    user_input = input(\"User: \")\n",
    "    if user_input.lower() in [\"quit\", \"exit\", \"q\"]:\n",
    "        print(\"Goodbye!\")\n",
    "        break\n",
    "    for event in graph.stream({\"messages\": (\"user\", user_input)}):\n",
    "        for value in event.values():\n",
    "            print(\"Assistant:\", value[\"messages\"][-1].content)"
   ]
  },
  {
   "cell_type": "code",
   "execution_count": null,
   "id": "da335634",
   "metadata": {},
   "outputs": [],
   "source": []
  }
 ],
 "metadata": {
  "kernelspec": {
   "display_name": "Python 3 (ipykernel)",
   "language": "python",
   "name": "python3"
  },
  "language_info": {
   "codemirror_mode": {
    "name": "ipython",
    "version": 3
   },
   "file_extension": ".py",
   "mimetype": "text/x-python",
   "name": "python",
   "nbconvert_exporter": "python",
   "pygments_lexer": "ipython3",
   "version": "3.9.7"
  }
 },
 "nbformat": 4,
 "nbformat_minor": 5
}
