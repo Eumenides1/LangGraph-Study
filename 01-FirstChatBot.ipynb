{
 "cells": [
  {
   "cell_type": "markdown",
   "id": "70b38afd",
   "metadata": {},
   "source": [
    "### 安装基础的依赖包"
   ]
  },
  {
   "cell_type": "code",
   "execution_count": 1,
   "id": "4547f96c",
   "metadata": {},
   "outputs": [
    {
     "name": "stdout",
     "output_type": "stream",
     "text": [
      "Requirement already satisfied: langgraph in /Users/eumenides/miniforge3/lib/python3.9/site-packages (0.1.9)\n",
      "Requirement already satisfied: langsmith in /Users/eumenides/miniforge3/lib/python3.9/site-packages (0.1.93)\n",
      "Requirement already satisfied: langchain-core<0.3,>=0.2.19 in /Users/eumenides/miniforge3/lib/python3.9/site-packages (from langgraph) (0.2.22)\n",
      "Requirement already satisfied: pydantic<3,>=1 in /Users/eumenides/miniforge3/lib/python3.9/site-packages (from langsmith) (2.6.4)\n",
      "Requirement already satisfied: orjson<4.0.0,>=3.9.14 in /Users/eumenides/miniforge3/lib/python3.9/site-packages (from langsmith) (3.9.15)\n",
      "Requirement already satisfied: requests<3,>=2 in /Users/eumenides/miniforge3/lib/python3.9/site-packages (from langsmith) (2.31.0)\n",
      "Requirement already satisfied: jsonpatch<2.0,>=1.33 in /Users/eumenides/miniforge3/lib/python3.9/site-packages (from langchain-core<0.3,>=0.2.19->langgraph) (1.33)\n",
      "Requirement already satisfied: tenacity!=8.4.0,<9.0.0,>=8.1.0 in /Users/eumenides/miniforge3/lib/python3.9/site-packages (from langchain-core<0.3,>=0.2.19->langgraph) (8.2.3)\n",
      "Requirement already satisfied: PyYAML>=5.3 in /Users/eumenides/miniforge3/lib/python3.9/site-packages (from langchain-core<0.3,>=0.2.19->langgraph) (6.0.1)\n",
      "Requirement already satisfied: packaging<25,>=23.2 in /Users/eumenides/miniforge3/lib/python3.9/site-packages (from langchain-core<0.3,>=0.2.19->langgraph) (23.2)\n",
      "Requirement already satisfied: typing-extensions>=4.6.1 in /Users/eumenides/miniforge3/lib/python3.9/site-packages (from pydantic<3,>=1->langsmith) (4.10.0)\n",
      "Requirement already satisfied: pydantic-core==2.16.3 in /Users/eumenides/miniforge3/lib/python3.9/site-packages (from pydantic<3,>=1->langsmith) (2.16.3)\n",
      "Requirement already satisfied: annotated-types>=0.4.0 in /Users/eumenides/miniforge3/lib/python3.9/site-packages (from pydantic<3,>=1->langsmith) (0.6.0)\n",
      "Requirement already satisfied: urllib3<3,>=1.21.1 in /Users/eumenides/miniforge3/lib/python3.9/site-packages (from requests<3,>=2->langsmith) (2.2.1)\n",
      "Requirement already satisfied: charset-normalizer<4,>=2 in /Users/eumenides/miniforge3/lib/python3.9/site-packages (from requests<3,>=2->langsmith) (3.3.2)\n",
      "Requirement already satisfied: certifi>=2017.4.17 in /Users/eumenides/miniforge3/lib/python3.9/site-packages (from requests<3,>=2->langsmith) (2024.2.2)\n",
      "Requirement already satisfied: idna<4,>=2.5 in /Users/eumenides/miniforge3/lib/python3.9/site-packages (from requests<3,>=2->langsmith) (3.6)\n",
      "Requirement already satisfied: jsonpointer>=1.9 in /Users/eumenides/miniforge3/lib/python3.9/site-packages (from jsonpatch<2.0,>=1.33->langchain-core<0.3,>=0.2.19->langgraph) (2.4)\n",
      "Note: you may need to restart the kernel to use updated packages.\n",
      "Collecting langchain-openai\n",
      "  Downloading langchain_openai-0.1.17-py3-none-any.whl (46 kB)\n",
      "     |████████████████████████████████| 46 kB 635 kB/s            \n",
      "\u001b[?25hCollecting tiktoken<1,>=0.7\n",
      "  Downloading tiktoken-0.7.0-cp39-cp39-macosx_11_0_arm64.whl (907 kB)\n",
      "     |████████████████████████████████| 907 kB 1.3 MB/s            \n",
      "\u001b[?25hCollecting openai<2.0.0,>=1.32.0\n",
      "  Downloading openai-1.36.1-py3-none-any.whl (328 kB)\n",
      "     |████████████████████████████████| 328 kB 2.0 MB/s            \n",
      "\u001b[?25hRequirement already satisfied: langchain-core<0.3.0,>=0.2.20 in /Users/eumenides/miniforge3/lib/python3.9/site-packages (from langchain-openai) (0.2.22)\n",
      "Requirement already satisfied: langsmith<0.2.0,>=0.1.75 in /Users/eumenides/miniforge3/lib/python3.9/site-packages (from langchain-core<0.3.0,>=0.2.20->langchain-openai) (0.1.93)\n",
      "Requirement already satisfied: tenacity!=8.4.0,<9.0.0,>=8.1.0 in /Users/eumenides/miniforge3/lib/python3.9/site-packages (from langchain-core<0.3.0,>=0.2.20->langchain-openai) (8.2.3)\n",
      "Requirement already satisfied: PyYAML>=5.3 in /Users/eumenides/miniforge3/lib/python3.9/site-packages (from langchain-core<0.3.0,>=0.2.20->langchain-openai) (6.0.1)\n",
      "Requirement already satisfied: jsonpatch<2.0,>=1.33 in /Users/eumenides/miniforge3/lib/python3.9/site-packages (from langchain-core<0.3.0,>=0.2.20->langchain-openai) (1.33)\n",
      "Requirement already satisfied: packaging<25,>=23.2 in /Users/eumenides/miniforge3/lib/python3.9/site-packages (from langchain-core<0.3.0,>=0.2.20->langchain-openai) (23.2)\n",
      "Requirement already satisfied: pydantic<3,>=1 in /Users/eumenides/miniforge3/lib/python3.9/site-packages (from langchain-core<0.3.0,>=0.2.20->langchain-openai) (2.6.4)\n",
      "Requirement already satisfied: httpx<1,>=0.23.0 in /Users/eumenides/miniforge3/lib/python3.9/site-packages (from openai<2.0.0,>=1.32.0->langchain-openai) (0.27.0)\n",
      "Requirement already satisfied: anyio<5,>=3.5.0 in /Users/eumenides/miniforge3/lib/python3.9/site-packages (from openai<2.0.0,>=1.32.0->langchain-openai) (3.7.1)\n",
      "Requirement already satisfied: tqdm>4 in /Users/eumenides/miniforge3/lib/python3.9/site-packages (from openai<2.0.0,>=1.32.0->langchain-openai) (4.62.3)\n",
      "Requirement already satisfied: sniffio in /Users/eumenides/miniforge3/lib/python3.9/site-packages (from openai<2.0.0,>=1.32.0->langchain-openai) (1.3.1)\n",
      "Requirement already satisfied: distro<2,>=1.7.0 in /Users/eumenides/miniforge3/lib/python3.9/site-packages (from openai<2.0.0,>=1.32.0->langchain-openai) (1.7.0)\n",
      "Requirement already satisfied: typing-extensions<5,>=4.7 in /Users/eumenides/miniforge3/lib/python3.9/site-packages (from openai<2.0.0,>=1.32.0->langchain-openai) (4.10.0)\n",
      "Requirement already satisfied: regex>=2022.1.18 in /Users/eumenides/miniforge3/lib/python3.9/site-packages (from tiktoken<1,>=0.7->langchain-openai) (2023.12.25)\n",
      "Requirement already satisfied: requests>=2.26.0 in /Users/eumenides/miniforge3/lib/python3.9/site-packages (from tiktoken<1,>=0.7->langchain-openai) (2.31.0)\n",
      "Requirement already satisfied: idna>=2.8 in /Users/eumenides/miniforge3/lib/python3.9/site-packages (from anyio<5,>=3.5.0->openai<2.0.0,>=1.32.0->langchain-openai) (3.6)\n",
      "Requirement already satisfied: exceptiongroup in /Users/eumenides/miniforge3/lib/python3.9/site-packages (from anyio<5,>=3.5.0->openai<2.0.0,>=1.32.0->langchain-openai) (1.2.0)\n",
      "Requirement already satisfied: certifi in /Users/eumenides/miniforge3/lib/python3.9/site-packages (from httpx<1,>=0.23.0->openai<2.0.0,>=1.32.0->langchain-openai) (2024.2.2)\n",
      "Requirement already satisfied: httpcore==1.* in /Users/eumenides/miniforge3/lib/python3.9/site-packages (from httpx<1,>=0.23.0->openai<2.0.0,>=1.32.0->langchain-openai) (1.0.5)\n",
      "Requirement already satisfied: h11<0.15,>=0.13 in /Users/eumenides/miniforge3/lib/python3.9/site-packages (from httpcore==1.*->httpx<1,>=0.23.0->openai<2.0.0,>=1.32.0->langchain-openai) (0.14.0)\n",
      "Requirement already satisfied: jsonpointer>=1.9 in /Users/eumenides/miniforge3/lib/python3.9/site-packages (from jsonpatch<2.0,>=1.33->langchain-core<0.3.0,>=0.2.20->langchain-openai) (2.4)\n",
      "Requirement already satisfied: orjson<4.0.0,>=3.9.14 in /Users/eumenides/miniforge3/lib/python3.9/site-packages (from langsmith<0.2.0,>=0.1.75->langchain-core<0.3.0,>=0.2.20->langchain-openai) (3.9.15)\n",
      "Requirement already satisfied: annotated-types>=0.4.0 in /Users/eumenides/miniforge3/lib/python3.9/site-packages (from pydantic<3,>=1->langchain-core<0.3.0,>=0.2.20->langchain-openai) (0.6.0)\n",
      "Requirement already satisfied: pydantic-core==2.16.3 in /Users/eumenides/miniforge3/lib/python3.9/site-packages (from pydantic<3,>=1->langchain-core<0.3.0,>=0.2.20->langchain-openai) (2.16.3)\n",
      "Requirement already satisfied: charset-normalizer<4,>=2 in /Users/eumenides/miniforge3/lib/python3.9/site-packages (from requests>=2.26.0->tiktoken<1,>=0.7->langchain-openai) (3.3.2)\n",
      "Requirement already satisfied: urllib3<3,>=1.21.1 in /Users/eumenides/miniforge3/lib/python3.9/site-packages (from requests>=2.26.0->tiktoken<1,>=0.7->langchain-openai) (2.2.1)\n",
      "Installing collected packages: tiktoken, openai, langchain-openai\n",
      "  Attempting uninstall: openai\n",
      "    Found existing installation: openai 0.28.1\n",
      "    Uninstalling openai-0.28.1:\n",
      "      Successfully uninstalled openai-0.28.1\n",
      "Successfully installed langchain-openai-0.1.17 openai-1.36.1 tiktoken-0.7.0\n",
      "Note: you may need to restart the kernel to use updated packages.\n"
     ]
    }
   ],
   "source": [
    "# capture --no-stderr\n",
    "%pip install -U langgraph langsmith\n",
    "\n",
    "# Used for this tutorial; not a requirement for LangGraph\n",
    "%pip install -U langchain-openai"
   ]
  },
  {
   "cell_type": "code",
   "execution_count": 2,
   "id": "8cfd5874",
   "metadata": {},
   "outputs": [
    {
     "name": "stdout",
     "output_type": "stream",
     "text": [
      "OPENAI_API_KEY: ········\n",
      "API_BASE_URL: ········\n"
     ]
    }
   ],
   "source": [
    "import getpass\n",
    "import os\n",
    "\n",
    "def _set_env(var: str):\n",
    "    if not os.environ.get(var):\n",
    "        os.environ[var] = getpass.getpass(f\"{var}: \")\n",
    "\n",
    "_set_env(\"OPENAI_API_KEY\")\n",
    "_set_env(\"API_BASE_URL\")"
   ]
  },
  {
   "cell_type": "code",
   "execution_count": 3,
   "id": "defcb797",
   "metadata": {},
   "outputs": [
    {
     "name": "stdout",
     "output_type": "stream",
     "text": [
      "LANGSMITH_API_KEY: ········\n"
     ]
    }
   ],
   "source": [
    "_set_env(\"LANGSMITH_API_KEY\")\n",
    "os.environ[\"LANGCHAIN_TRACING_V2\"] = \"true\"\n",
    "os.environ[\"LANGCHAIN_PROJECT\"] = \"LangGraph Tutorial\""
   ]
  },
  {
   "cell_type": "code",
   "execution_count": 4,
   "id": "b0520456",
   "metadata": {},
   "outputs": [],
   "source": [
    "from typing import Annotated\n",
    "from typing_extensions import TypedDict\n",
    "from langgraph.graph import StateGraph, START, END\n",
    "from langgraph.graph.message import add_messages\n",
    "\n",
    "class State(TypedDict):\n",
    "    # Messages have the type \"list\". The `add_messages` function\n",
    "    # in the annotation defines how this state key should be updated\n",
    "    # (in this case, it appends messages to the list, rather than overwriting them)\n",
    "    messages: Annotated[list, add_messages]\n",
    "\n",
    "graph_builder = StateGraph(State)"
   ]
  },
  {
   "cell_type": "code",
   "execution_count": 5,
   "id": "f2224b9b",
   "metadata": {},
   "outputs": [],
   "source": [
    "from langchain_openai import ChatOpenAI\n",
    "\n",
    "api_key = os.environ.get(\"OPENAI_API_KEY\")\n",
    "base_url = os.environ.get(\"API_BASE_URL\")\n",
    "\n",
    "llm = ChatOpenAI(model=\"gpt-4o-mini\",openai_api_key=api_key, openai_api_base=base_url)\n",
    "\n",
    "\n",
    "def chatbot(state: State):\n",
    "    return {\"messages\": [llm.invoke(state[\"messages\"])]}\n",
    "\n",
    "\n",
    "# The first argument is the unique node name\n",
    "# The second argument is the function or object that will be called whenever\n",
    "# the node is used.\n",
    "graph_builder.add_node(\"chatbot\", chatbot)"
   ]
  },
  {
   "cell_type": "code",
   "execution_count": 6,
   "id": "cecddaae",
   "metadata": {},
   "outputs": [],
   "source": [
    "graph_builder.add_edge(START, \"chatbot\")"
   ]
  },
  {
   "cell_type": "code",
   "execution_count": 7,
   "id": "9a6bfe40",
   "metadata": {},
   "outputs": [],
   "source": [
    "graph_builder.add_edge(\"chatbot\", END)"
   ]
  },
  {
   "cell_type": "code",
   "execution_count": 8,
   "id": "e0f484f1",
   "metadata": {},
   "outputs": [],
   "source": [
    "graph = graph_builder.compile()"
   ]
  },
  {
   "cell_type": "code",
   "execution_count": 9,
   "id": "56724291",
   "metadata": {},
   "outputs": [
    {
     "name": "stdout",
     "output_type": "stream",
     "text": [
      "User: hi\n",
      "Assistant: Hello! How can I assist you today?\n",
      "User: 你是谁\n",
      "Assistant: 我是一个人工智能助手，旨在回答问题和提供信息。有什么我可以帮助你的吗？\n",
      "User: 你是什么公司做的呢？\n",
      "Assistant: 我是由OpenAI开发的人工智能助手。我的目的是帮助用户回答问题、提供信息和进行对话。如果你有任何问题或需要帮助，随时可以问我！\n",
      "User: q\n",
      "Goodbye!\n"
     ]
    }
   ],
   "source": [
    "\n",
    "while True:\n",
    "    user_input = input(\"User: \")\n",
    "    if user_input.lower() in [\"quit\", \"exit\", \"q\"]:\n",
    "        print(\"Goodbye!\")\n",
    "        break\n",
    "    for event in graph.stream({\"messages\": (\"user\", user_input)}):\n",
    "        for value in event.values():\n",
    "            print(\"Assistant:\", value[\"messages\"][-1].content)"
   ]
  },
  {
   "cell_type": "code",
   "execution_count": null,
   "id": "da335634",
   "metadata": {},
   "outputs": [],
   "source": []
  }
 ],
 "metadata": {
  "kernelspec": {
   "display_name": "Python 3 (ipykernel)",
   "language": "python",
   "name": "python3"
  },
  "language_info": {
   "codemirror_mode": {
    "name": "ipython",
    "version": 3
   },
   "file_extension": ".py",
   "mimetype": "text/x-python",
   "name": "python",
   "nbconvert_exporter": "python",
   "pygments_lexer": "ipython3",
   "version": "3.9.7"
  }
 },
 "nbformat": 4,
 "nbformat_minor": 5
}
